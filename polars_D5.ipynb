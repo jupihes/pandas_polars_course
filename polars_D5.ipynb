{
  "nbformat": 4,
  "nbformat_minor": 0,
  "metadata": {
    "colab": {
      "provenance": [],
      "authorship_tag": "ABX9TyMQvD3CRi3TZTb6ZGT6o3vh",
      "include_colab_link": true
    },
    "kernelspec": {
      "name": "python3",
      "display_name": "Python 3"
    },
    "language_info": {
      "name": "python"
    }
  },
  "cells": [
    {
      "cell_type": "markdown",
      "metadata": {
        "id": "view-in-github",
        "colab_type": "text"
      },
      "source": [
        "<a href=\"https://colab.research.google.com/github/jupihes/ARIMA/blob/master/polars.ipynb\" target=\"_parent\"><img src=\"https://colab.research.google.com/assets/colab-badge.svg\" alt=\"Open In Colab\"/></a>"
      ]
    },
    {
      "cell_type": "markdown",
      "source": [
        "# Advanced pandas - Day 5\n",
        "## Polars - part 1\n",
        "\n",
        "\n",
        "### Little history from `polars` main developer\n",
        "\n",
        " _**Ritchie Vink**_ - from \"Polars The defenetive guide\" Book -\n",
        "\n",
        "\n",
        "> In December 2019, I became a dad, and then the lockdown hit. This left me dazed; juggling life with a newborn and trying to hold on to a sense of “me”. In a burst of new-dad sleep deprivation, I figured I’d take on a new project. Honestly, it started as nothing more than a hobby.\n",
        "\n",
        "> At work, I had to join two CSV files while programming in `Rust`, and it felt like way more hassle than it should have been. I wondered if there were easier ways to get it done, than setting up SQLite. So, as one often does in software development, I decided to try my hand at creating my own join algorithm.\n",
        "\n",
        "> At that point, I was pretty new to `Rust` and didn’t know much about optimizing performance. So as a proud writer of my first join algorithm, I learned that my implementation was much slower than pandas. This unsatisfying result planted the seed of what would later become Polars.\n",
        "\n",
        "> This led me down a path of researching database engines, learning Rust, and a lot of trial and error over the next year and a half. As I learned more about databases, algorithms, performance, memory, unsafe code, etc., my goals shifted. I went from just wanting to make a faster join than pandas to building a DataFrame library for Rust, and eventually, a high-performance query engine that could rival the state of the art in the Python landscape.\n",
        "\n",
        "> I drew inspiration from pandas’ strengths and weaknesses, the declarative approaches of SQL and PySpark, functional programming principles, and the rigor of Rust’s type system. At first, I even thought I’d model it directly on the pandas API. But I quickly realized that limiting myself that way hurt my creative drive and would only lead to a less effective tool. When I decided to let go of this constraint and merged the lazy and eager APIs into one expression-based API, the project was molding into something people might nowadays recognize as Polars.\n",
        "\n",
        "> On March 15, 2021, I released this as a research project on PyPI. I was able to evolve this pet project into a full-fledged DataFrame processing package called Polars. Eventually, Polars’ success enabled me to secure funding and start my own company, Polars Inc.\n",
        "\n",
        "\n",
        "[Ritchie Vink](https://www.ritchievink.com/blog/2021/02/28/i-wrote-one-of-the-fastest-dataframe-libraries/)"
      ],
      "metadata": {
        "id": "0Td9y24nBn8w"
      }
    },
    {
      "cell_type": "markdown",
      "source": [
        "\n",
        "\n",
        "\n",
        "## `Pandas` vs `Polars`\n",
        "\n",
        "- [reveiw benchmarks](https://h2oai.github.io/db-benchmark/)\n",
        "- [benchmarks on `polars` github](https://pola.rs/posts/benchmarks/#)\n",
        "\n",
        "- What are the main differencs?\n",
        "   - [quick review of Polars](https://realpython.com/polars-python/)\n",
        "\n",
        "\n"
      ],
      "metadata": {
        "id": "fvw1lPzo9qeo"
      }
    },
    {
      "cell_type": "markdown",
      "source": [
        "## Learn Polars\n",
        "\n",
        "> 🚧 This collection is a work in progress. Please help us add notebooks!\n",
        "\n",
        "10 notebooks:\n",
        "\n",
        "\n",
        "1. [Why Polars](https://marimo-team.github.io/learn/polars/01_why_polars.html)\n",
        "  - [Hesamed version - Why Polars](https://github.com/jupihes/pandas_polars_course/blob/main/01_why_polars.md)\n",
        "\n",
        "2. [Dataframes](https://marimo-team.github.io/learn/polars/02_dataframes.html)\n",
        "3. [Basic Operations](https://marimo-team.github.io/learn/polars/04_basic_operations.html)\n",
        "4. [Reactive Plots](https://marimo-team.github.io/learn/polars/05_reactive_plots.html)\n",
        "5. [Working With Columns](https://marimo-team.github.io/learn/polars/08_working_with_columns.html)\n",
        "6. [Data Types](https://marimo-team.github.io/learn/polars/09_data_types.html)\n",
        "7. [Strings](https://marimo-team.github.io/learn/polars/10_strings.html)\n",
        "8. [Aggregations](https://marimo-team.github.io/learn/polars/12_aggregations.html)\n",
        "9. [Window Functions](https://marimo-team.github.io/learn/polars/13_window_functions.html)\n",
        "10. [User Defined Functions](https://marimo-team.github.io/learn/polars/14_user_defined_functions.html)\n",
        "\n",
        "[Very good learning contents](https://marimo-team.github.io/learn/)\n",
        "\n",
        "\n"
      ],
      "metadata": {
        "id": "t6dumqhZQg8g"
      }
    },
    {
      "cell_type": "markdown",
      "source": [
        "<!--\n",
        "\n",
        "Table of Contents\n",
        "\n",
        "    The Python Polars Library\n",
        "        Getting to Know Polars\n",
        "        Installing Python Polars\n",
        "    DataFrames, Expressions, and Contexts\n",
        "        Getting Started With Polars DataFrames\n",
        "        Polars Contexts and Expressions\n",
        "    The Lazy API\n",
        "        Working With LazyFrames\n",
        "        Scanning Data With LazyFrames\n",
        "    Seamless Integration\n",
        "        Integration With External Data Sources\n",
        "        Integration With the Python Ecosystem\n",
        "    Next Steps\n",
        "    Conclusion\n",
        "\n",
        "-->"
      ],
      "metadata": {
        "id": "GOSVQHjZpQDA"
      }
    },
    {
      "cell_type": "markdown",
      "source": [
        "### benchmark review"
      ],
      "metadata": {
        "id": "ArPZKkrKgJsf"
      }
    },
    {
      "cell_type": "markdown",
      "source": [
        "\n",
        "[Blog post ritchievink](https://www.ritchievink.com/blog/2021/02/28/i-wrote-one-of-the-fastest-dataframe-libraries/)\n",
        "\n",
        "[db-benchmark](https://h2oai.github.io/db-benchmark/)\n",
        "[](https://realpython.com/polars-python/)\n",
        "\n",
        "\n",
        "https://github.com/Joanna-Khek/effective-pandas/blob/main/9-manipulation-methods.ipynb\n"
      ],
      "metadata": {
        "id": "w8-xnlnkTYYP"
      }
    },
    {
      "cell_type": "markdown",
      "source": [],
      "metadata": {
        "id": "JQf2enLfgbp6"
      }
    },
    {
      "cell_type": "markdown",
      "source": [
        "https://h2oai.github.io/db-benchmark/\n",
        "\n",
        "![sample benchmark_2021](https://h2oai.github.io/db-benchmark/groupby/G1_1e9_1e2_0_0_basic.png)\n",
        "\n",
        "[benchmark at `polars` git]()"
      ],
      "metadata": {
        "id": "OgCXavKWgLX7"
      }
    },
    {
      "cell_type": "code",
      "source": [
        "import numpy as np\n",
        "\n",
        "my_arr = np.arange(1_000_000)\n",
        "my_list = list(range(1_000_000))"
      ],
      "metadata": {
        "id": "cBUVvkdD9pFv"
      },
      "execution_count": null,
      "outputs": []
    },
    {
      "cell_type": "code",
      "source": [
        "%timeit my_arr2 = my_arr * 2"
      ],
      "metadata": {
        "colab": {
          "base_uri": "https://localhost:8080/"
        },
        "id": "7dbXCiuJ9wLv",
        "outputId": "cf28b709-c985-41bb-f248-d0888bce6fcb"
      },
      "execution_count": null,
      "outputs": [
        {
          "output_type": "stream",
          "name": "stdout",
          "text": [
            "1.11 ms ± 96.6 µs per loop (mean ± std. dev. of 7 runs, 1000 loops each)\n"
          ]
        }
      ]
    },
    {
      "cell_type": "code",
      "source": [
        "%timeit my_list2 = [x * 2 for x in my_list]"
      ],
      "metadata": {
        "colab": {
          "base_uri": "https://localhost:8080/"
        },
        "id": "I_08XCZX9wJM",
        "outputId": "3bafd6e6-ec0a-461a-96d5-fcff0157ea03"
      },
      "execution_count": null,
      "outputs": [
        {
          "output_type": "stream",
          "name": "stdout",
          "text": [
            "77.7 ms ± 15.5 ms per loop (mean ± std. dev. of 7 runs, 10 loops each)\n"
          ]
        }
      ]
    },
    {
      "cell_type": "code",
      "source": [
        "77.7 / 1.11"
      ],
      "metadata": {
        "colab": {
          "base_uri": "https://localhost:8080/"
        },
        "id": "nb_iRC559v_V",
        "outputId": "a24b7ad7-03d2-4ea5-aa90-065e4b5ba711"
      },
      "execution_count": null,
      "outputs": [
        {
          "output_type": "execute_result",
          "data": {
            "text/plain": [
              "70.0"
            ]
          },
          "metadata": {},
          "execution_count": 32
        }
      ]
    },
    {
      "cell_type": "code",
      "source": [
        "del my_arr; del my_arr;del my_list2;del my_list;"
      ],
      "metadata": {
        "colab": {
          "base_uri": "https://localhost:8080/",
          "height": 143
        },
        "id": "glD-0OW_U8a_",
        "outputId": "889d71bd-9d4e-412e-a4c1-175f16474fb8"
      },
      "execution_count": null,
      "outputs": [
        {
          "output_type": "error",
          "ename": "NameError",
          "evalue": "name 'my_arr' is not defined",
          "traceback": [
            "\u001b[0;31m---------------------------------------------------------------------------\u001b[0m",
            "\u001b[0;31mNameError\u001b[0m                                 Traceback (most recent call last)",
            "\u001b[0;32m<ipython-input-7-21caa5668755>\u001b[0m in \u001b[0;36m<cell line: 0>\u001b[0;34m()\u001b[0m\n\u001b[0;32m----> 1\u001b[0;31m \u001b[0;32mdel\u001b[0m \u001b[0mmy_arr\u001b[0m\u001b[0;34m;\u001b[0m \u001b[0;32mdel\u001b[0m \u001b[0mmy_arr\u001b[0m\u001b[0;34m;\u001b[0m\u001b[0;32mdel\u001b[0m \u001b[0mmy_list2\u001b[0m\u001b[0;34m;\u001b[0m\u001b[0;32mdel\u001b[0m \u001b[0mmy_list\u001b[0m\u001b[0;34m;\u001b[0m\u001b[0;34m\u001b[0m\u001b[0;34m\u001b[0m\u001b[0m\n\u001b[0m",
            "\u001b[0;31mNameError\u001b[0m: name 'my_arr' is not defined"
          ]
        }
      ]
    },
    {
      "cell_type": "code",
      "source": [],
      "metadata": {
        "id": "SVvH7kLhQVCG"
      },
      "execution_count": null,
      "outputs": []
    },
    {
      "cell_type": "markdown",
      "source": [
        "##### Dataset at Google drive"
      ],
      "metadata": {
        "id": "aQXGKdCLUzu6"
      }
    },
    {
      "cell_type": "code",
      "source": [
        "from google.colab import drive\n",
        "drive.mount('/content/gdrive')"
      ],
      "metadata": {
        "colab": {
          "base_uri": "https://localhost:8080/"
        },
        "id": "-FLFHN4W1yLr",
        "outputId": "83ac1877-cf83-4a18-d106-17dd7dcbec37"
      },
      "execution_count": null,
      "outputs": [
        {
          "output_type": "stream",
          "name": "stdout",
          "text": [
            "Mounted at /content/gdrive\n"
          ]
        }
      ]
    },
    {
      "cell_type": "code",
      "source": [
        "import pandas as pd\n",
        "import polars as pl"
      ],
      "metadata": {
        "id": "6wEwBRXGf0VG"
      },
      "execution_count": null,
      "outputs": []
    },
    {
      "cell_type": "code",
      "source": [
        "%%timeit\n",
        "# cols = ['id', 'Age', 'Daramad', 'SabteAhval_provincename']\n",
        "pl.read_csv('gdrive/My Drive/Pandas/nemone_2_darsadi_1402.csv')#, usecols=cols)"
      ],
      "metadata": {
        "colab": {
          "base_uri": "https://localhost:8080/"
        },
        "id": "wz_B0f8jfwQG",
        "outputId": "3fa691e9-c8d9-4778-a00b-0669a6842f5f"
      },
      "execution_count": null,
      "outputs": [
        {
          "output_type": "stream",
          "name": "stdout",
          "text": [
            "4.39 s ± 2.28 s per loop (mean ± std. dev. of 7 runs, 1 loop each)\n"
          ]
        }
      ]
    },
    {
      "cell_type": "code",
      "source": [
        "%%timeit\n",
        "# cols = ['id', 'Age', 'Daramad', 'SabteAhval_provincename']\n",
        "df_1 = pd.read_csv('gdrive/My Drive/Pandas/nemone_2_darsadi_1402.csv')#, usecols=cols)"
      ],
      "metadata": {
        "colab": {
          "base_uri": "https://localhost:8080/"
        },
        "id": "8T6EeeOlfwTR",
        "outputId": "9d8d2d39-1c10-43a9-d1bc-e376fbbbfc86"
      },
      "execution_count": null,
      "outputs": [
        {
          "output_type": "stream",
          "name": "stdout",
          "text": [
            "5.25 s ± 1.35 s per loop (mean ± std. dev. of 7 runs, 1 loop each)\n"
          ]
        }
      ]
    },
    {
      "cell_type": "code",
      "source": [
        "print(f'Sample performance Polars/Pandas = {11.8/3.97:.2f}')\n",
        "print(f'Sample performance Polars/Pandas = {5.25/1.94:.2f}')"
      ],
      "metadata": {
        "colab": {
          "base_uri": "https://localhost:8080/"
        },
        "id": "cvy1H1-iiAMG",
        "outputId": "d0f4270c-df74-4d88-b1dd-563083729eec"
      },
      "execution_count": null,
      "outputs": [
        {
          "output_type": "stream",
          "name": "stdout",
          "text": [
            "Sample performance Polars/Pandas = 2.97\n",
            "Sample performance Polars/Pandas = 2.71\n"
          ]
        }
      ]
    },
    {
      "cell_type": "markdown",
      "source": [
        "\n",
        "\n",
        "---\n",
        "\n"
      ],
      "metadata": {
        "id": "NvMT0kMQltuq"
      }
    },
    {
      "cell_type": "markdown",
      "source": [
        "\n",
        "> `polars` approximately outperform `pandas` on shared cloud compute servers with factor 3"
      ],
      "metadata": {
        "id": "l7E7MSgcUS6X"
      }
    },
    {
      "cell_type": "markdown",
      "source": [],
      "metadata": {
        "id": "fhvim2QuUSsP"
      }
    },
    {
      "cell_type": "markdown",
      "source": [
        "# sample complex preporcess and clean chaining"
      ],
      "metadata": {
        "id": "9lx0iVyzuIS-"
      }
    },
    {
      "cell_type": "code",
      "source": [],
      "metadata": {
        "id": "n69Ye8uCaIsx"
      },
      "execution_count": null,
      "outputs": []
    },
    {
      "cell_type": "code",
      "source": [
        "# Sample pandas method chaining\n",
        "import pandas as pd\n",
        "from os import chdir\n",
        "\n",
        "chdir(r'.../data')\n",
        "\n",
        "def data_cleaning(input_csv):\n",
        "    df = (pd.read_csv(input_csv, parse_dates=['date', 'tansaction_rdate'])   # basic read file. It is highly recommended to use `read_csv` features.\n",
        "            .rename(columns=str.lower) # rename columns or change all to lower or upper\n",
        "            .rename(columns=lambda s: s.strip())  # to remove out of name 'spaces' in name of columns\n",
        "            .rename(columns= {'date':'date_key', 'customer_id':'id_number'}) # rename columns or change all to lower or upper\n",
        "            .drop('payment_id', axis=1) # drop column or drop row\n",
        "            .assign(date_key=lambda x: x['date_key'].dt.strftime('%Y%m%d'),  # make new columns from existintg - useful for calculation, data_time, change to categorical\n",
        "                    id_number_clean=lambda x: x['id_number'].astype(str).str[2:],  # get rid of the first 2 digits - substr in SQL\n",
        "                    id_number_lastdigit=lambda x: x['id_number'].astype(str).str[-1],  # extract last digit to be used\n",
        "                    id_number_extended=lambda x: '1' + x['id_number'].astype(str).str[2:] + '935',  # add text - Concatenate in SQL\n",
        "                    id_number_check=lambda x: x['id_number'].str.contains(r'\\d{11}'),  # regex usecase sample: check if columns contains pattern of 11 decimal digit\n",
        "                    tansaction=lambda x: x['tansaction'].replace({'%':''}, regex=True).astype('float'),  # remove '%' character from 'tansaction' column and convert to float\n",
        "                    transaction_hour=lambda x: x['transaction_date'].dt.hour)  # extract hour\n",
        "            .query('delearname in (\"CAB\", \"FOOD\", \"MARKET\")')   # filtering on column with `in`\n",
        "            #.sort_values(by = ['granted_gift_irr'], ascending=False)\n",
        "            .assign(rank=lambda x: x.sort_values(['granted_gift_irr', 'id_number_lastdigit','transaction_hour'], #  make rank based on 3 columns; similar to `SQL` partition by\n",
        "                                                 ascending=(False, True, True)\n",
        "                                                 )\n",
        "                    .groupby(['date_key', 'id_number_lastdigit'])\n",
        "                    .cumcount()\n",
        "                    + 1\n",
        "                    )\n",
        "            .query(\"rank < 3\")\n",
        "            .sort_values([\"date_key\", \"rank\"])  # sort values\n",
        "          )\n",
        "    return df\n",
        "\n",
        "df = data_cleaning('cashback_data_20250517.csv')\n"
      ],
      "metadata": {
        "id": "6pwM6ywEaIpi"
      },
      "execution_count": null,
      "outputs": []
    },
    {
      "cell_type": "code",
      "source": [
        "1 / 0.2727 **3"
      ],
      "metadata": {
        "id": "6i8vQ_4eaImO",
        "colab": {
          "base_uri": "https://localhost:8080/"
        },
        "outputId": "fc7af766-e0fb-497e-b7c1-039dc9dd9239"
      },
      "execution_count": null,
      "outputs": [
        {
          "output_type": "execute_result",
          "data": {
            "text/plain": [
              "49.311088143456004"
            ]
          },
          "metadata": {},
          "execution_count": 2
        }
      ]
    },
    {
      "cell_type": "code",
      "source": [],
      "metadata": {
        "id": "C0C_K4C-aIb0"
      },
      "execution_count": null,
      "outputs": []
    },
    {
      "cell_type": "code",
      "source": [
        "import json\n",
        "import pandas as pd\n",
        "\n",
        "# Read and validate JSON\n",
        "with open(\"your_file.json\", \"r\", encoding=\"utf-8\") as f:\n",
        "    try:\n",
        "        data = json.load(f)  # Catches syntax errors\n",
        "    except json.JSONDecodeError as e:\n",
        "        print(f\"JSON syntax error: {e}\")\n",
        "        raise\n",
        "\n",
        "# Convert to DataFrame\n",
        "df = pd.DataFrame(data)"
      ],
      "metadata": {
        "id": "kZtfsX8B9-6I"
      },
      "execution_count": null,
      "outputs": []
    },
    {
      "cell_type": "code",
      "source": [],
      "metadata": {
        "id": "OS_TWKnB9-3o"
      },
      "execution_count": null,
      "outputs": []
    },
    {
      "cell_type": "code",
      "source": [],
      "metadata": {
        "id": "WMBCp46k93OP"
      },
      "execution_count": null,
      "outputs": []
    },
    {
      "cell_type": "markdown",
      "source": [],
      "metadata": {
        "id": "bZqs6xKF9vQq"
      }
    },
    {
      "cell_type": "markdown",
      "source": [
        "\n",
        "\n"
      ],
      "metadata": {
        "id": "oq-jE9IePbLs"
      }
    },
    {
      "cell_type": "markdown",
      "source": [
        "# review main functionalities of `polars`\n",
        "\n",
        "- Eager mode vs Lazy mode\n",
        "- Query optimization\n",
        "  - Know the stuff\n",
        "  - remember to do\n",
        "  - Correct implementation\n",
        "\n",
        "\n",
        "https://gist.github.com/bitsnaps/aa83219c4ffdd04e56b76bb23523bfb2"
      ],
      "metadata": {
        "id": "zH7_rNxsKcCe"
      }
    },
    {
      "cell_type": "markdown",
      "source": [
        "\n",
        "   - Why `Polars` is so performant and attention-grabbing\n",
        "   - How to work with DataFrames, expressions, and contexts\n",
        "   - What the `lazy` API is and how to use it\n",
        "   - How to integrate Polars with external data sources and the broader Python ecosystem\n"
      ],
      "metadata": {
        "id": "0n5Rk9fYXRUP"
      }
    },
    {
      "cell_type": "markdown",
      "source": [
        "![ppdg_0102.png](data:image/png;base64,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)"
      ],
      "metadata": {
        "id": "e0K1-ILsXKu-"
      }
    },
    {
      "cell_type": "markdown",
      "source": [],
      "metadata": {
        "id": "0vu3jM-qH_Dx"
      }
    },
    {
      "cell_type": "markdown",
      "source": [
        "\n",
        "\n",
        "<figure>\n",
        "<center>\n",
        "<img src=https://github.com/jupihes/pandas_polars_course/blob/main/images/polars_pydata2024_3.jpg />\n",
        "<figcaption>Polars - highlevel view</figcaption></center>\n",
        "</figure>"
      ],
      "metadata": {
        "id": "H-G0c3M5HD7_"
      }
    },
    {
      "cell_type": "code",
      "source": [
        "ls"
      ],
      "metadata": {
        "colab": {
          "base_uri": "https://localhost:8080/"
        },
        "id": "y1VgDCvyHbfc",
        "outputId": "3985105f-695f-4f4a-c4cd-e41ff1b0d3c0"
      },
      "execution_count": 3,
      "outputs": [
        {
          "output_type": "stream",
          "name": "stdout",
          "text": [
            "pandas_spark_trino.jpg   polars_pydata2024_2.jpg  \u001b[0m\u001b[01;34msample_data\u001b[0m/\n",
            "polars_pydata2024_1.jpg  polars_pydata2024_3.jpg\n"
          ]
        }
      ]
    },
    {
      "cell_type": "markdown",
      "source": [
        "![]('./pandas_spark_trino.jpg')\n",
        "\n",
        "\n",
        "\n",
        "<figure>\n",
        "<center>\n",
        "<img src=https://github.com/jupihes/pandas_polars_course/blob/main/images/pandas_spark_trino.jpg />\n",
        "<figcaption>Polars vs other tools - data size handling perspective</figcaption></center>\n",
        "</figure>"
      ],
      "metadata": {
        "id": "ziFFEE77IsO6"
      }
    },
    {
      "cell_type": "markdown",
      "source": [
        "- `parquet` $\\to$ compressed data on disk\n",
        "- `Arrow`$\\to$ uncompressed data on disk"
      ],
      "metadata": {
        "id": "-NFh4t-fX4Gp"
      }
    },
    {
      "cell_type": "markdown",
      "source": [
        "## Key Concepts\n",
        "\n",
        "\n",
        "- Lazy evaluation\n",
        "\n",
        "  Polars employs “lazy” evaluation, where computations are built into an optimized execution plan and executed only when needed. This approach minimizes unnecessary work and can lead to substantial performance gains.\n",
        "\n",
        "- Expressions\n",
        "\n",
        "  Polars uses expressions to define operations on DataFrames. These expressions are composable, allowing users to create complex data pipelines without intermediate results.\n",
        "\n",
        "- Query optimization\n",
        "   \n",
        "   The package automatically optimizes the execution plan for efficient resource use, based on expressions and data characteristics.\n",
        "\n",
        "Advantages\n",
        "Here is a quick rundown of Polars’ main advantages:\n",
        "\n",
        "Performance\n",
        "Thanks to its efficient algorithms, parallel execution engine, and use of vectorization with Single Instruction, Multiple Data (SIMD), Polars is designed to take full advantage of modern hardware. It can optionally leverage NVIDIA GPUs to further improve performance (we benchmark the difference the GPU makes in the Appendix).\n",
        "\n",
        "Memory efficiency\n",
        "Polars requires less memory for operations than other data processing package\n",
        "\n",
        "\n",
        "\n",
        "Key Concepts\n",
        "Key concepts you’ll become familiar with in this book include:\n",
        "\n",
        "Lazy evaluation\n",
        "Polars employs “lazy” evaluation, where computations are built into an optimized execution plan and executed only when needed. This approach minimizes unnecessary work and can lead to substantial performance gains.\n",
        "\n",
        "Expressions\n",
        "Polars uses expressions to define operations on DataFrames. These expressions are composable, allowing users to create complex data pipelines without intermediate results.\n",
        "\n",
        "Query optimization\n",
        "The package automatically optimizes the execution plan for efficient resource use, based on expressions and data characteristics.\n",
        "\n",
        "Advantages\n",
        "Here is a quick rundown of Polars’ main advantages:\n",
        "\n",
        "Performance\n",
        "Thanks to its efficient algorithms, parallel execution engine, and use of vectorization with Single Instruction, Multiple Data (SIMD), Polars is designed to take full advantage of modern hardware. It can optionally leverage NVIDIA GPUs to further improve performance (we benchmark the difference the GPU makes in the Appendix).\n",
        "\n",
        "Memory efficiency\n",
        "Polars requires less memory for operations than other data processing packages.\n",
        "\n",
        "Interoperability\n",
        "Built on Apache Arrow, a standardized columnar memory format for flat and hierarchical data, Polars offers excellent interoperability with other data processing tools and packages. It can be used directly in Rust, and has language bindings for Python, R, SQL, JavaScript, and Julia. In a moment we’ll explain why this book focuses on Python specifically.\n",
        "\n",
        "Streaming capabilities\n",
        "Polars can process data in chunks, allowing for out-of-core computations on datasets that don’t fit in memory."
      ],
      "metadata": {
        "id": "6naNG672N-0f"
      }
    },
    {
      "cell_type": "code",
      "execution_count": null,
      "metadata": {
        "id": "9B82NATNaJIZ"
      },
      "outputs": [],
      "source": [
        "import polars as pl"
      ]
    },
    {
      "cell_type": "code",
      "source": [
        "!ls gdrive/MyDrive/Pandas"
      ],
      "metadata": {
        "colab": {
          "base_uri": "https://localhost:8080/"
        },
        "id": "To6Q2VQR44tJ",
        "outputId": "5c915baa-e4c8-4884-9a53-691a63326ac2"
      },
      "execution_count": null,
      "outputs": [
        {
          "output_type": "stream",
          "name": "stdout",
          "text": [
            "nemone_2_darsadi_1402.csv\n"
          ]
        }
      ]
    },
    {
      "cell_type": "code",
      "source": [],
      "metadata": {
        "id": "Eb3ioc8RKzMA"
      },
      "execution_count": null,
      "outputs": []
    },
    {
      "cell_type": "code",
      "source": [],
      "metadata": {
        "id": "j5RF-t-jKzYA"
      },
      "execution_count": null,
      "outputs": []
    },
    {
      "cell_type": "markdown",
      "source": [
        "**bold text**\n",
        "image\n",
        "\n",
        "<!--\n",
        "\n",
        "![](https://www.rhosignal.com/assets/boolean_vs_filter_query.png)\n",
        "\n",
        "-->"
      ],
      "metadata": {
        "id": "z3PbUH77K0YG"
      }
    },
    {
      "cell_type": "code",
      "source": [
        "%%timeit\n",
        "pd.read_csv('gdrive/My Drive/Pandas/nemone_2_darsadi_1402.csv').query(\"id == 717641288407\").head()"
      ],
      "metadata": {
        "id": "DNcjwHqY4Hg2",
        "colab": {
          "base_uri": "https://localhost:8080/"
        },
        "outputId": "c963d629-7558-45e8-d07a-fd4655e4fa9e"
      },
      "execution_count": null,
      "outputs": [
        {
          "output_type": "stream",
          "name": "stdout",
          "text": [
            "4.39 s ± 202 ms per loop (mean ± std. dev. of 7 runs, 1 loop each)\n"
          ]
        }
      ]
    },
    {
      "cell_type": "code",
      "source": [
        "%%timeit\n",
        "(\n",
        "    pl.scan_csv('gdrive/My Drive/Pandas/nemone_2_darsadi_1402.csv')\n",
        "    .filter(pl.col(\"id\") == \"717641288407\")\n",
        ")"
      ],
      "metadata": {
        "colab": {
          "base_uri": "https://localhost:8080/"
        },
        "id": "wpn8DM0rLfOA",
        "outputId": "a7f73eae-b9cb-440d-fb76-c1fb7fecece1"
      },
      "execution_count": null,
      "outputs": [
        {
          "output_type": "stream",
          "name": "stdout",
          "text": [
            "37.1 µs ± 8.52 µs per loop (mean ± std. dev. of 7 runs, 10000 loops each)\n"
          ]
        }
      ]
    },
    {
      "cell_type": "code",
      "source": [
        "print(f'polars over pandas : {4.39/(37.1 * 10**-6 )}')"
      ],
      "metadata": {
        "colab": {
          "base_uri": "https://localhost:8080/"
        },
        "id": "2gqazWelDwcx",
        "outputId": "79bca9fa-7645-4ad2-b9b8-cf77f7eb044c"
      },
      "execution_count": null,
      "outputs": [
        {
          "output_type": "stream",
          "name": "stdout",
          "text": [
            "polars over pandas : 118328.8409703504\n"
          ]
        }
      ]
    },
    {
      "cell_type": "markdown",
      "source": [
        "### [`scan_csv` options](https://docs.pola.rs/api/python/dev/reference/api/polars.scan_csv.html)\n",
        "\n",
        "```python\n",
        "polars.scan_csv(\n",
        "\n",
        "    source: str | Path | IO[str] | IO[bytes] | bytes | list[str] | list[Path] | list[IO[str]] | list[IO[bytes]] | list[bytes],\n",
        "    *,\n",
        "    has_header: bool = True,\n",
        "    separator: str = ',',\n",
        "    comment_prefix: str | None = None,\n",
        "    quote_char: str | None = '\"',\n",
        "    skip_rows: int = 0,\n",
        "    skip_lines: int = 0,\n",
        "    schema: SchemaDict | None = None,\n",
        "    schema_overrides: SchemaDict | Sequence[PolarsDataType] | None = None,\n",
        "    null_values: str | Sequence[str] | dict[str, str] | None = None,\n",
        "    missing_utf8_is_empty_string: bool = False,\n",
        "    ignore_errors: bool = False,\n",
        "    cache: bool = True,\n",
        "    with_column_names: Callable[[list[str]], list[str]] | None = None,\n",
        "    infer_schema: bool = True,\n",
        "    infer_schema_length: int | None = 100,\n",
        "    n_rows: int | None = None,\n",
        "    encoding: CsvEncoding = 'utf8',\n",
        "    low_memory: bool = False,\n",
        "    rechunk: bool = False,\n",
        "    skip_rows_after_header: int = 0,\n",
        "    row_index_name: str | None = None,\n",
        "    row_index_offset: int = 0,\n",
        "    try_parse_dates: bool = False,\n",
        "    eol_char: str = '\\n',\n",
        "    new_columns: Sequence[str] | None = None,\n",
        "    raise_if_empty: bool = True,\n",
        "    truncate_ragged_lines: bool = False,\n",
        "    decimal_comma: bool = False,\n",
        "    glob: bool = True,\n",
        "    storage_options: dict[str, Any] | None = None,\n",
        "    credential_provider: CredentialProviderFunction | Literal['auto'] | None = 'auto',\n",
        "    retries: int = 2,\n",
        "    file_cache_ttl: int | None = None,\n",
        "    include_file_paths: str | None = None,\n",
        "\n",
        ") → LazyFrame\n",
        "```\n"
      ],
      "metadata": {
        "id": "waf9v7NcqGDb"
      }
    },
    {
      "cell_type": "code",
      "source": [],
      "metadata": {
        "id": "yjt2jIeLW6Dq"
      },
      "execution_count": null,
      "outputs": []
    },
    {
      "cell_type": "code",
      "source": [
        "(df\n",
        "    .filter(pl.col(\"nrs\") < 4)\n",
        "    .groupby(\"groups\")\n",
        "    .agg(pl.all()\n",
        "           .sum()\n",
        "    )\n",
        ")"
      ],
      "metadata": {
        "id": "uymZOTSQO9n3"
      },
      "execution_count": null,
      "outputs": []
    },
    {
      "cell_type": "markdown",
      "source": [
        "\n",
        "\n",
        "|pandas| polars|\n",
        "|-|-|\n",
        "|` df[[\"nrs\", \"names\"]]`| `df.select([\"nrs\", \"names\"])`|"
      ],
      "metadata": {
        "id": "0nyYv7FWhrZ6"
      }
    },
    {
      "cell_type": "code",
      "source": [],
      "metadata": {
        "id": "vHdMAmbkW-gf"
      },
      "execution_count": null,
      "outputs": []
    },
    {
      "cell_type": "markdown",
      "source": [
        "---\n",
        "# Advanced pandas - Day 5\n",
        "## Polars - part 2"
      ],
      "metadata": {
        "id": "hnnXy36AW_SU"
      }
    },
    {
      "cell_type": "markdown",
      "source": [
        "italicized text"
      ],
      "metadata": {
        "id": "HKyk1-X6DwL8"
      }
    },
    {
      "cell_type": "code",
      "source": [
        "# query: average height of male and female after the age of 15 years\n",
        "\n",
        "# step-1: filter\n",
        "filtered_df_pd = df_pd[df_pd[\"Age\"] > 15]\n",
        "\n",
        "# step-2: groupby and aggregation\n",
        "result_pd = filtered_df_pd.groupby(\"Gender\")[\"Height_CM\"].mean()\n",
        "result_pd"
      ],
      "metadata": {
        "id": "7cVwxTCUXF0u"
      },
      "execution_count": null,
      "outputs": []
    },
    {
      "cell_type": "code",
      "source": [
        "# filter, groupby and aggregation using method chaining\n",
        "result_pl = (data_pl\n",
        "             .filter(pl.col(\"Age\") > 15)\n",
        "             .group_by(\"Gender\")\n",
        "             .agg(pl.mean(\"Height_CM\"))\n",
        "            )\n",
        "result_pl"
      ],
      "metadata": {
        "id": "_MLxDTFDXPmc"
      },
      "execution_count": null,
      "outputs": []
    },
    {
      "cell_type": "markdown",
      "source": [
        "# query optimization"
      ],
      "metadata": {
        "id": "tC967D7_X83f"
      }
    },
    {
      "cell_type": "code",
      "source": [
        "(\n",
        "    df\n",
        "    .groupby(by=\"Category\").agg(pl.col(\"Number1\").mean())\n",
        "    .filter(pl.col(\"Category\").is_in([\"A\", \"B\"]))\n",
        ")"
      ],
      "metadata": {
        "id": "gMHMMsq0X7iF"
      },
      "execution_count": null,
      "outputs": []
    },
    {
      "cell_type": "markdown",
      "source": [
        "#### change order"
      ],
      "metadata": {
        "id": "gPgWzVc85XH1"
      }
    },
    {
      "cell_type": "code",
      "source": [
        "(\n",
        "    df\n",
        "    .filter(pl.col(\"Category\").is_in([\"A\", \"B\"]))\n",
        "    .groupby(by=\"Category\").agg(pl.col(\"Number1\").mean())\n",
        ")"
      ],
      "metadata": {
        "id": "KK3yf2jfX8GI"
      },
      "execution_count": null,
      "outputs": []
    },
    {
      "cell_type": "code",
      "source": [
        "df = pl.scan_csv(\"large_dataset.csv\")  # Lazy DataFrame\n",
        "result = df.filter(pl.col(\"A\") > 1).groupby(\"A\").agg(pl.sum(\"B\")).collect()  # Execute"
      ],
      "metadata": {
        "id": "xJeKK5EcZQw6"
      },
      "execution_count": null,
      "outputs": []
    },
    {
      "cell_type": "code",
      "source": [
        "df = (pl.scan_csv(\"large_dataset.csv\")  # Lazy DataFrame\n",
        "      .filter(pl.col(\"A\") > 1)\n",
        "      .groupby(\"A\").agg(pl.sum(\"B\"))\n",
        "     # filter\n",
        "     # sort\n",
        "      .collect()  # Execute\n",
        "     )"
      ],
      "metadata": {
        "id": "B_aGbjhlZQ1K"
      },
      "execution_count": null,
      "outputs": []
    },
    {
      "cell_type": "code",
      "source": [],
      "metadata": {
        "id": "O9TqqW-QZQ5G"
      },
      "execution_count": null,
      "outputs": []
    },
    {
      "cell_type": "markdown",
      "source": [
        "- `polars.LazyFrame.collect`     [source]()\n",
        "- `InProcessQuery.fetch()` → DataFrame | None\n",
        "[source]()"
      ],
      "metadata": {
        "id": "TfncR2avbFHp"
      }
    },
    {
      "cell_type": "code",
      "source": [
        "# Convert to Pandas DataFrame\n",
        "pandas_df = df.to_pandas()\n",
        "\n",
        "# Convert to NumPy array\n",
        "numpy_array = df.to_numpy()"
      ],
      "metadata": {
        "id": "pjj2HrhtZQ82"
      },
      "execution_count": null,
      "outputs": []
    },
    {
      "cell_type": "code",
      "source": [],
      "metadata": {
        "id": "su_RpakFbmfT"
      },
      "execution_count": null,
      "outputs": []
    },
    {
      "cell_type": "markdown",
      "source": [
        "### `Polars` does not have an `index`"
      ],
      "metadata": {
        "id": "h-NBEuy4Gtkt"
      }
    },
    {
      "cell_type": "markdown",
      "source": [
        "### make new column(s)"
      ],
      "metadata": {
        "id": "EFenXVzXe7cx"
      }
    },
    {
      "cell_type": "code",
      "source": [
        "df.with_columns(\n",
        "                (pl.col(\"random\") * pl.col(\"nrs\"))\n",
        "                .alias(\"product\")\n",
        "               )\n",
        "\n",
        "\n",
        "df.with_columns(\n",
        "     [\n",
        "        (pl.col(\"random\") * pl.col(\"nrs\")) \\\n",
        "        .alias(\"product\"),\n",
        "        pl.col(\"names\").str.lengths() \\\n",
        "        .alias(\"names_lengths\"),\n",
        "     ]\n",
        ")"
      ],
      "metadata": {
        "colab": {
          "base_uri": "https://localhost:8080/",
          "height": 214
        },
        "id": "U1Q5sQimbmrt",
        "outputId": "4cd06eec-38ef-470c-b59e-f6500ee13f54"
      },
      "execution_count": null,
      "outputs": [
        {
          "output_type": "error",
          "ename": "NameError",
          "evalue": "name 'df' is not defined",
          "traceback": [
            "\u001b[0;31m---------------------------------------------------------------------------\u001b[0m",
            "\u001b[0;31mNameError\u001b[0m                                 Traceback (most recent call last)",
            "\u001b[0;32m<ipython-input-16-87e06c66d747>\u001b[0m in \u001b[0;36m<cell line: 0>\u001b[0;34m()\u001b[0m\n\u001b[0;32m----> 1\u001b[0;31m df.with_columns(\n\u001b[0m\u001b[1;32m      2\u001b[0m                 \u001b[0;34m(\u001b[0m\u001b[0mpl\u001b[0m\u001b[0;34m.\u001b[0m\u001b[0mcol\u001b[0m\u001b[0;34m(\u001b[0m\u001b[0;34m\"random\"\u001b[0m\u001b[0;34m)\u001b[0m \u001b[0;34m*\u001b[0m \u001b[0mpl\u001b[0m\u001b[0;34m.\u001b[0m\u001b[0mcol\u001b[0m\u001b[0;34m(\u001b[0m\u001b[0;34m\"nrs\"\u001b[0m\u001b[0;34m)\u001b[0m\u001b[0;34m)\u001b[0m\u001b[0;34m\u001b[0m\u001b[0;34m\u001b[0m\u001b[0m\n\u001b[1;32m      3\u001b[0m                 \u001b[0;34m.\u001b[0m\u001b[0malias\u001b[0m\u001b[0;34m(\u001b[0m\u001b[0;34m\"product\"\u001b[0m\u001b[0;34m)\u001b[0m\u001b[0;34m\u001b[0m\u001b[0;34m\u001b[0m\u001b[0m\n\u001b[1;32m      4\u001b[0m                ) \n\u001b[1;32m      5\u001b[0m \u001b[0;34m\u001b[0m\u001b[0m\n",
            "\u001b[0;31mNameError\u001b[0m: name 'df' is not defined"
          ]
        }
      ]
    },
    {
      "cell_type": "code",
      "source": [
        "(\n",
        "    df.select(\n",
        "        [\n",
        "        \"names\",\n",
        "        \"groups\",\n",
        "        pl.col(\"random\").sum().over(\"names\") \\\n",
        "        .alias(\"sum_by_names\"),\n",
        "        pl.col(\"random\").sum().over(\"groups\") \\\n",
        "        .alias(\"sum_by_groups\"),\n",
        "        ]\n",
        "            )\n",
        ").filter(pl.col(\"sum_by_names\")> 10)\n"
      ],
      "metadata": {
        "id": "sUswUIL6bmxu"
      },
      "execution_count": null,
      "outputs": []
    },
    {
      "cell_type": "markdown",
      "source": [
        "```python\n",
        "DataFrame.join(\n",
        "\n",
        "    other: DataFrame,\n",
        "    on: str | Expr | Sequence[str | Expr] | None = None,\n",
        "    how: JoinStrategy = 'inner',\n",
        "    *,\n",
        "    left_on: str | Expr | Sequence[str | Expr] | None = None,\n",
        "    right_on: str | Expr | Sequence[str | Expr] | None = None,\n",
        "    suffix: str = '_right',\n",
        "    validate: JoinValidation = 'm:m',\n",
        "    nulls_equal: bool = False,\n",
        "    coalesce: bool | None = None,\n",
        "    maintain_order: MaintainOrderJoin | None = None,\n",
        "\n",
        ") → DataFrame\n",
        "```"
      ],
      "metadata": {
        "id": "gT94Es--gS4u"
      }
    },
    {
      "cell_type": "code",
      "source": [
        "df.filter(\n",
        "    pl.col(\"foo\") <= 2,\n",
        "    ~pl.col(\"ham\").is_in([\"b\", \"c\"]),\n",
        ")"
      ],
      "metadata": {
        "id": "oVpHwCjFbm4a"
      },
      "execution_count": null,
      "outputs": []
    },
    {
      "cell_type": "markdown",
      "source": [
        "- **"
      ],
      "metadata": {
        "id": "gRPZkNG7gzKc"
      }
    },
    {
      "cell_type": "code",
      "source": [
        "df.filter(foo=2, ham=\"b\")"
      ],
      "metadata": {
        "id": "h9JlhlXBbm_Q"
      },
      "execution_count": null,
      "outputs": []
    },
    {
      "cell_type": "code",
      "source": [],
      "metadata": {
        "id": "1NI4a-oBg3LW"
      },
      "execution_count": null,
      "outputs": []
    },
    {
      "cell_type": "code",
      "source": [
        "df.with_columns(\n",
        "    maximum_revenue=pl.col(\"revenue\").max().over(\"channel\"),\n",
        "    cumulative_revenue=pl.col(\"revenue\").cum_sum().over(\"channel\"),\n",
        "    revenue_rank=pl.col(\"revenue\").rank(descending=True).over(\"channel\"),\n",
        "    day_on_day_change=pl.col(\"revenue\").diff().over(\"channel\"),\n",
        ")"
      ],
      "metadata": {
        "id": "cOtciDeng3P3"
      },
      "execution_count": null,
      "outputs": []
    },
    {
      "cell_type": "code",
      "source": [],
      "metadata": {
        "id": "7YtfRunPg3VR"
      },
      "execution_count": null,
      "outputs": []
    },
    {
      "cell_type": "code",
      "source": [],
      "metadata": {
        "id": "85sWWvn0g3ay"
      },
      "execution_count": null,
      "outputs": []
    },
    {
      "cell_type": "code",
      "source": [
        "col         = 'consumption_energy'\n",
        "conditions  = [ df2[col] >= 400, (df2[col] < 400) & (df2[col]> 200), df2[col] <= 200 ]\n",
        "choices     = [ \"high\", 'medium', 'low' ]\n",
        "\n",
        "df2[\"energy_class\"] = np.select(conditions, choices, default=np.nan)"
      ],
      "metadata": {
        "id": "Bz4dJsp46LK4"
      },
      "execution_count": null,
      "outputs": []
    },
    {
      "cell_type": "code",
      "source": [
        "col         = 'consumption_energy'\n",
        "conditions  = [ df2[col] >= 400, (df2[col] < 400) & (df2[col]> 200), df2[col] <= 200 ]\n",
        "choices     = [ \"high\", 'medium', 'low' ]\n",
        "\n",
        "df2[\"energy_class\"] = np.select(conditions, choices, default=np.nan)"
      ],
      "metadata": {
        "id": "4Si3I7ul8POm"
      },
      "execution_count": null,
      "outputs": []
    },
    {
      "cell_type": "code",
      "source": [],
      "metadata": {
        "id": "JB_iU2o-8PLe"
      },
      "execution_count": null,
      "outputs": []
    },
    {
      "cell_type": "markdown",
      "source": [
        "---\n",
        "# Advanced pandas - Day 5\n",
        "## Discussion on SQL functionality in `pandas`, `polars`  - part 3\n",
        "\n",
        "- [pandas doc - comparison_with_sql](https://pandas.pydata.org/docs/getting_started/comparison/comparison_with_sql.html)\n",
        "- [Cheatsheet pandas vs SQL](https://github.com/jupihes/SQL-versus-Pandas/blob/master/Pandas_SQL-like_functionality.pdf)\n",
        "- [`polars` existing SQL functionalities](https://docs.pola.rs/api/python/stable/reference/sql/index.html)\n",
        "- duckdb as query engine\n",
        "- Narwhals dataframe agnostic module"
      ],
      "metadata": {
        "id": "PLURH8N9ie0w"
      }
    },
    {
      "cell_type": "markdown",
      "source": [
        "\n",
        "\n",
        "---\n",
        "\n"
      ],
      "metadata": {
        "id": "mnFfQCR8ilce"
      }
    },
    {
      "cell_type": "code",
      "source": [
        "import pandas as pd\n",
        "import numpy as np\n",
        "\n",
        "cols = ['id', 'Age', 'Daramad', 'SabteAhval_provincename']\n",
        "df_1 = pd.read_csv('gdrive/My Drive/Pandas/nemone_2_darsadi_1402.csv', usecols=cols)\n",
        "\n",
        "# Rename columns\n",
        "df_1 = df_1.rename(columns={'SabteAhval_provincename': 'Province', 'id': 'ID'})\n",
        "\n",
        "# Create Daramad_category using numpy.where\n",
        "df_1['Daramad_category'] = np.where(\n",
        "    df_1['Daramad'] > 7.7128e8, 'High',\n",
        "    np.where(\n",
        "        df_1['Daramad'] < 7.7128e7, 'Low', 'Medium'\n",
        "    )\n",
        ")"
      ],
      "metadata": {
        "id": "EyKY0PbL7PwA"
      },
      "execution_count": null,
      "outputs": []
    },
    {
      "cell_type": "code",
      "source": [
        "cols = ['id', 'Age', 'Daramad', 'SabteAhval_provincename']\n",
        "df = (\n",
        "    pd.read_csv('gdrive/My Drive/Pandas/nemone_2_darsadi_1402.csv', usecols=cols)\n",
        "    .rename({'SabteAhval_provincename': 'Province', 'id': 'ID'})\n",
        "     ).assign(\n",
        "         'Daramad_category' = lambda x: np.where(x['Daramad'] > 7.7128e8, 'High',\n",
        "                              np.where(x['Daramad'] < 7.7128e7, 'Low',\n",
        "                                       'Medium')\n",
        "         )\n",
        "         )"
      ],
      "metadata": {
        "colab": {
          "base_uri": "https://localhost:8080/",
          "height": 108
        },
        "id": "kdS1sH40414B",
        "outputId": "2b9f0e48-5da6-45be-a2a5-ce0f413aea30"
      },
      "execution_count": null,
      "outputs": [
        {
          "output_type": "error",
          "ename": "SyntaxError",
          "evalue": "expression cannot contain assignment, perhaps you meant \"==\"? (<ipython-input-21-7e551a83f0af>, line 4)",
          "traceback": [
            "\u001b[0;36m  File \u001b[0;32m\"<ipython-input-21-7e551a83f0af>\"\u001b[0;36m, line \u001b[0;32m4\u001b[0m\n\u001b[0;31m    ).assign('Daramad_category' = lambda x: np.where(x['Daramad'] > 7.7128e8, 'High',\u001b[0m\n\u001b[0m             ^\u001b[0m\n\u001b[0;31mSyntaxError\u001b[0m\u001b[0;31m:\u001b[0m expression cannot contain assignment, perhaps you meant \"==\"?\n"
          ]
        }
      ]
    },
    {
      "cell_type": "code",
      "source": [
        "%%timeit\n",
        "# When-Then-Otherwise\n",
        "cols = ['id', 'Age', 'Daramad', 'SabteAhval_provincename']\n",
        "(\n",
        "    pl.scan_csv('gdrive/My Drive/Pandas/nemone_2_darsadi_1402.csv')\n",
        "        .select(cols)\n",
        "        .rename({'SabteAhval_provincename': 'Province', 'id': 'ID'})\n",
        "        .lazy()\n",
        "        .with_columns(\n",
        "            pl.when(pl.col('Daramad') > 7.7128e8)\n",
        "            .then(pl.lit('High'))\n",
        "            .when(pl.col('Daramad') < 7.7128e7)\n",
        "            .then(pl.lit('Low'))\n",
        "            .otherwise(pl.lit('Medium'))\n",
        "            .alias('Daramad_category')\n",
        "        ).collect()\n",
        ")"
      ],
      "metadata": {
        "id": "7-74LGJr42Ih",
        "colab": {
          "base_uri": "https://localhost:8080/"
        },
        "outputId": "35cce748-16bf-45cf-e0a0-2369a8b3f64f"
      },
      "execution_count": null,
      "outputs": [
        {
          "output_type": "stream",
          "name": "stdout",
          "text": [
            "1.74 s ± 867 ms per loop (mean ± std. dev. of 7 runs, 1 loop each)\n"
          ]
        }
      ]
    },
    {
      "cell_type": "markdown",
      "source": [
        "### sample polars read_clean chaininig"
      ],
      "metadata": {
        "id": "m35wmE3jGgn5"
      }
    },
    {
      "cell_type": "code",
      "source": [
        "def data_cleaning(input_csv):\n",
        "    df = (\n",
        "        pl.read_csv(input_csv, dtypes={'date': pl.Datetime, 'transaction_date': pl.Datetime})\n",
        "        .pipe(lambda df: df.rename({col: col.lower() for col in df.columns}))\n",
        "        .rename({'date': 'date_key', 'customer_msisdn': 'msisdn_nsk'})\n",
        "        .drop('payment_id')\n",
        "        .with_columns(\n",
        "            pl.col('date_key').dt.strftime('%Y%m%d').alias('date_key'),\n",
        "            pl.col('msisdn_nsk').cast(pl.Utf8).str.slice(2).alias('msisdn_nsk_clean'),\n",
        "            pl.col('msisdn_nsk').cast(pl.Utf8).str.slice(-1).alias('msisdn_lastdigit'),\n",
        "            pl.col('transaction_date').dt.hour().alias('temp_hour')\n",
        "        )\n",
        "        .filter(pl.col('delearname').is_in([\"SNAPCAB\", \"SNAPFOOD\", \"SNAPMARKET\"]))\n",
        "        .with_columns(\n",
        "            pl.int_range(1, pl.len() + 1)\n",
        "            .over(\n",
        "                'date_key',\n",
        "                order_by=[\n",
        "                    pl.col('granted_gift_irr').desc(),\n",
        "                    'msisdn_lastdigit',\n",
        "                    'temp_hour'\n",
        "                ]\n",
        "            )\n",
        "            .alias('rank')\n",
        "        )\n",
        "        .sort(['date_key', 'rank'])\n",
        "    )\n",
        "    return df\n",
        "\n",
        "temp_df = data_cleaning('marketplace_cashback_20perc_20220517.csv')"
      ],
      "metadata": {
        "colab": {
          "base_uri": "https://localhost:8080/",
          "height": 443
        },
        "id": "jLFQBunx42Lv",
        "outputId": "e55c151d-34ef-4833-d1b2-b2a59e1e2558"
      },
      "execution_count": null,
      "outputs": [
        {
          "output_type": "execute_result",
          "data": {
            "text/plain": [
              "shape: (1_697_816, 5)\n",
              "┌──────────────┬─────┬───────────┬────────────────┬──────────────────┐\n",
              "│ ID           ┆ Age ┆ Daramad   ┆ Province       ┆ Daramad_category │\n",
              "│ ---          ┆ --- ┆ ---       ┆ ---            ┆ ---              │\n",
              "│ i64          ┆ i64 ┆ i64       ┆ str            ┆ str              │\n",
              "╞══════════════╪═════╪═══════════╪════════════════╪══════════════════╡\n",
              "│ 717641288407 ┆ 9   ┆ null      ┆ خراسان رضوی    ┆ Medium           │\n",
              "│ 84729392521  ┆ 30  ┆ null      ┆ یزد            ┆ Medium           │\n",
              "│ 480898026296 ┆ 33  ┆ null      ┆ گیلان           ┆ Medium           │\n",
              "│ 72903495587  ┆ 54  ┆ null      ┆ فارس           ┆ Medium           │\n",
              "│ 597960900957 ┆ 35  ┆ 147799911 ┆ آذربایجان غربی ┆ Medium           │\n",
              "│ …            ┆ …   ┆ …         ┆ …              ┆ …                │\n",
              "│ 53326817442  ┆ 12  ┆ null      ┆ هرمزگان        ┆ Medium           │\n",
              "│ 208062992297 ┆ 33  ┆ null      ┆ هرمزگان        ┆ Medium           │\n",
              "│ 360855746695 ┆ 41  ┆ null      ┆ فارس           ┆ Medium           │\n",
              "│ 513741239072 ┆ 54  ┆ 54852268  ┆ تهران          ┆ Low              │\n",
              "│ 231940330996 ┆ 27  ┆ 54852268  ┆ خراسان رضوی    ┆ Low              │\n",
              "└──────────────┴─────┴───────────┴────────────────┴──────────────────┘"
            ],
            "text/html": [
              "<div><style>\n",
              ".dataframe > thead > tr,\n",
              ".dataframe > tbody > tr {\n",
              "  text-align: right;\n",
              "  white-space: pre-wrap;\n",
              "}\n",
              "</style>\n",
              "<small>shape: (1_697_816, 5)</small><table border=\"1\" class=\"dataframe\"><thead><tr><th>ID</th><th>Age</th><th>Daramad</th><th>Province</th><th>Daramad_category</th></tr><tr><td>i64</td><td>i64</td><td>i64</td><td>str</td><td>str</td></tr></thead><tbody><tr><td>717641288407</td><td>9</td><td>null</td><td>&quot;خراسان رضوی&quot;</td><td>&quot;Medium&quot;</td></tr><tr><td>84729392521</td><td>30</td><td>null</td><td>&quot;یزد&quot;</td><td>&quot;Medium&quot;</td></tr><tr><td>480898026296</td><td>33</td><td>null</td><td>&quot;گیلان&quot;</td><td>&quot;Medium&quot;</td></tr><tr><td>72903495587</td><td>54</td><td>null</td><td>&quot;فارس&quot;</td><td>&quot;Medium&quot;</td></tr><tr><td>597960900957</td><td>35</td><td>147799911</td><td>&quot;آذربایجان غربی&quot;</td><td>&quot;Medium&quot;</td></tr><tr><td>&hellip;</td><td>&hellip;</td><td>&hellip;</td><td>&hellip;</td><td>&hellip;</td></tr><tr><td>53326817442</td><td>12</td><td>null</td><td>&quot;هرمزگان&quot;</td><td>&quot;Medium&quot;</td></tr><tr><td>208062992297</td><td>33</td><td>null</td><td>&quot;هرمزگان&quot;</td><td>&quot;Medium&quot;</td></tr><tr><td>360855746695</td><td>41</td><td>null</td><td>&quot;فارس&quot;</td><td>&quot;Medium&quot;</td></tr><tr><td>513741239072</td><td>54</td><td>54852268</td><td>&quot;تهران&quot;</td><td>&quot;Low&quot;</td></tr><tr><td>231940330996</td><td>27</td><td>54852268</td><td>&quot;خراسان رضوی&quot;</td><td>&quot;Low&quot;</td></tr></tbody></table></div>"
            ]
          },
          "metadata": {},
          "execution_count": 13
        }
      ]
    },
    {
      "cell_type": "code",
      "source": [],
      "metadata": {
        "id": "XDrAAUgM42PP"
      },
      "execution_count": null,
      "outputs": []
    },
    {
      "cell_type": "code",
      "source": [],
      "metadata": {
        "id": "MZiLlTvj42SF"
      },
      "execution_count": null,
      "outputs": []
    },
    {
      "cell_type": "markdown",
      "source": [],
      "metadata": {
        "id": "YZlXhtTHCOMK"
      }
    },
    {
      "cell_type": "markdown",
      "source": [
        "<!--\n",
        "https://www.rhosignal.com/posts/polars-boolean-filter/\n",
        "\n",
        "![boolean filter](https://www.rhosignal.com/assets/boolean_vs_filter.png)\n",
        "\n",
        "-->"
      ],
      "metadata": {
        "id": "cNFFvuDjCN_n"
      }
    },
    {
      "cell_type": "code",
      "source": [
        "df = pl.scan_csv('gdrive/My Drive/Pandas/nemone_2_darsadi_1402.csv').collect()"
      ],
      "metadata": {
        "id": "LyJtV4vraaWE"
      },
      "execution_count": null,
      "outputs": []
    },
    {
      "cell_type": "code",
      "source": [
        "df.head()"
      ],
      "metadata": {
        "colab": {
          "base_uri": "https://localhost:8080/",
          "height": 275
        },
        "id": "6hWPfOYSagk4",
        "outputId": "9b522431-f842-4107-cab8-9c0f9ab6ba35"
      },
      "execution_count": null,
      "outputs": [
        {
          "output_type": "execute_result",
          "data": {
            "text/plain": [
              "shape: (5, 48)\n",
              "┌─────────────┬─────────────┬──────────┬─────┬───┬────────────┬───────────┬────────────┬───────────┐\n",
              "│ id          ┆ Parent_Id   ┆ GenderId ┆ Age ┆ … ┆ CarsPrice  ┆ CarsCount ┆ Bourse_Net ┆ Daramad   │\n",
              "│ ---         ┆ ---         ┆ ---      ┆ --- ┆   ┆ ---        ┆ ---       ┆ PortfoValu ┆ ---       │\n",
              "│ i64         ┆ i64         ┆ i64      ┆ i64 ┆   ┆ i64        ┆ i64       ┆ e          ┆ i64       │\n",
              "│             ┆             ┆          ┆     ┆   ┆            ┆           ┆ ---        ┆           │\n",
              "│             ┆             ┆          ┆     ┆   ┆            ┆           ┆ i64        ┆           │\n",
              "╞═════════════╪═════════════╪══════════╪═════╪═══╪════════════╪═══════════╪════════════╪═══════════╡\n",
              "│ 71764128840 ┆ 32775474650 ┆ 2        ┆ 9   ┆ … ┆ null       ┆ null      ┆ 0          ┆ null      │\n",
              "│ 7           ┆ 8           ┆          ┆     ┆   ┆            ┆           ┆            ┆           │\n",
              "│ 84729392521 ┆ 84729392521 ┆ 2        ┆ 30  ┆ … ┆ 1150000000 ┆ 1         ┆ 0          ┆ null      │\n",
              "│             ┆             ┆          ┆     ┆   ┆ 0          ┆           ┆            ┆           │\n",
              "│ 48089802629 ┆ 48089802629 ┆ 1        ┆ 33  ┆ … ┆ 4899300000 ┆ 2         ┆ 0          ┆ null      │\n",
              "│ 6           ┆ 6           ┆          ┆     ┆   ┆ 0          ┆           ┆            ┆           │\n",
              "│ 72903495587 ┆ 82438526364 ┆ 2        ┆ 54  ┆ … ┆ null       ┆ null      ┆ 0          ┆ null      │\n",
              "│             ┆ 0           ┆          ┆     ┆   ┆            ┆           ┆            ┆           │\n",
              "│ 59796090095 ┆ 49399537671 ┆ 2        ┆ 35  ┆ … ┆ null       ┆ null      ┆ 3671880    ┆ 147799911 │\n",
              "│ 7           ┆ 7           ┆          ┆     ┆   ┆            ┆           ┆            ┆           │\n",
              "└─────────────┴─────────────┴──────────┴─────┴───┴────────────┴───────────┴────────────┴───────────┘"
            ],
            "text/html": [
              "<div><style>\n",
              ".dataframe > thead > tr,\n",
              ".dataframe > tbody > tr {\n",
              "  text-align: right;\n",
              "  white-space: pre-wrap;\n",
              "}\n",
              "</style>\n",
              "<small>shape: (5, 48)</small><table border=\"1\" class=\"dataframe\"><thead><tr><th>id</th><th>Parent_Id</th><th>GenderId</th><th>Age</th><th>ISBimarKhas</th><th>IsMalool</th><th>Malool_shedat</th><th>Dashboard_postalcode7Digits</th><th>isurban</th><th>SabteAhval_provincename</th><th>SabteAhval_countyname</th><th>Has_SoeTaghzie</th><th>IsBehzisti_AfzayeshMostamari</th><th>IsKomite_AfzayeshMostamari</th><th>IsKomite_AfzayeshMostamariSayer</th><th>TripCountAirPilgrimage_95to99</th><th>TripCountAirNonPilgrimage_95to99</th><th>TripCountNonAirPilgrimage_95to99</th><th>TripCountNonAirNonPilgrimage_95to99</th><th>Has_Saham_Edalat</th><th>Decile</th><th>Percentile</th><th>HasMojavezSenfi</th><th>ISKarmanddolat_1402</th><th>IsRetired_Asli</th><th>IsRetired_Tabaie</th><th>is_bime_darman</th><th>IsBimePardaz</th><th>MandehAval_1399</th><th>MandehAkhar_1399</th><th>CardPerMonth_1399</th><th>Variz_1400</th><th>MandehAval_1400</th><th>MandehAkhar_1400</th><th>CardPerMonth_1400</th><th>CardPerMonth_1398</th><th>CardPerMonth_1401</th><th>CardPerMonth_1402</th><th>CardBeCardPerMonth_1401</th><th>CardBeCardPerMonth_1402</th><th>SatnaPerMonth_1401</th><th>SatnaPerMonth_1402</th><th>PayaPerMonth_1401</th><th>PayaPerMonth_1402</th><th>CarsPrice</th><th>CarsCount</th><th>Bourse_NetPortfoValue</th><th>Daramad</th></tr><tr><td>i64</td><td>i64</td><td>i64</td><td>i64</td><td>i64</td><td>i64</td><td>i64</td><td>i64</td><td>i64</td><td>str</td><td>str</td><td>i64</td><td>i64</td><td>i64</td><td>i64</td><td>i64</td><td>i64</td><td>i64</td><td>i64</td><td>i64</td><td>i64</td><td>i64</td><td>i64</td><td>i64</td><td>i64</td><td>str</td><td>i64</td><td>i64</td><td>i64</td><td>i64</td><td>i64</td><td>i64</td><td>i64</td><td>i64</td><td>i64</td><td>i64</td><td>i64</td><td>i64</td><td>i64</td><td>i64</td><td>i64</td><td>i64</td><td>i64</td><td>i64</td><td>i64</td><td>i64</td><td>i64</td><td>i64</td></tr></thead><tbody><tr><td>717641288407</td><td>327754746508</td><td>2</td><td>9</td><td>null</td><td>null</td><td>null</td><td>9315863</td><td>1</td><td>&quot;خراسان رضوی&quot;</td><td>&quot;نیشابور&quot;</td><td>null</td><td>null</td><td>null</td><td>null</td><td>null</td><td>null</td><td>null</td><td>null</td><td>null</td><td>6</td><td>54</td><td>0</td><td>0</td><td>null</td><td>null</td><td>1</td><td>null</td><td>0</td><td>2500000</td><td>0</td><td>null</td><td>null</td><td>null</td><td>0</td><td>0</td><td>1</td><td>0</td><td>10394</td><td>0</td><td>0</td><td>0</td><td>0</td><td>0</td><td>null</td><td>null</td><td>0</td><td>null</td></tr><tr><td>84729392521</td><td>84729392521</td><td>2</td><td>30</td><td>null</td><td>null</td><td>null</td><td>8914884</td><td>1</td><td>&quot;یزد&quot;</td><td>&quot;یزد&quot;</td><td>null</td><td>null</td><td>null</td><td>null</td><td>null</td><td>null</td><td>null</td><td>null</td><td>1</td><td>9</td><td>84</td><td>0</td><td>0</td><td>null</td><td>null</td><td>1</td><td>null</td><td>97500000</td><td>7500000</td><td>4393256</td><td>125000000</td><td>7500000</td><td>67500000</td><td>4349470</td><td>0</td><td>45927276</td><td>438176831</td><td>14812151</td><td>35832227</td><td>0</td><td>0</td><td>0</td><td>0</td><td>11500000000</td><td>1</td><td>0</td><td>null</td></tr><tr><td>480898026296</td><td>480898026296</td><td>1</td><td>33</td><td>null</td><td>null</td><td>null</td><td>4441634</td><td>1</td><td>&quot;گیلان&quot;</td><td>&quot;آستانه اشرفیه&quot;</td><td>null</td><td>null</td><td>null</td><td>null</td><td>0</td><td>0</td><td>1</td><td>1</td><td>null</td><td>10</td><td>100</td><td>0</td><td>0</td><td>null</td><td>null</td><td>null</td><td>null</td><td>77500000</td><td>125000000</td><td>184170555</td><td>17500000000</td><td>125000000</td><td>650000000</td><td>265089461</td><td>88407700</td><td>1291805579</td><td>520640203</td><td>2172242444</td><td>592023137</td><td>5317036100</td><td>3659537521</td><td>3715516885</td><td>997795296</td><td>48993000000</td><td>2</td><td>0</td><td>null</td></tr><tr><td>72903495587</td><td>824385263640</td><td>2</td><td>54</td><td>null</td><td>null</td><td>null</td><td>7419683</td><td>1</td><td>&quot;فارس&quot;</td><td>&quot;جهرم&quot;</td><td>null</td><td>null</td><td>null</td><td>null</td><td>null</td><td>null</td><td>null</td><td>null</td><td>1</td><td>4</td><td>32</td><td>0</td><td>0</td><td>null</td><td>null</td><td>1</td><td>null</td><td>32500000</td><td>47500000</td><td>159708</td><td>175000000</td><td>47500000</td><td>125000000</td><td>1670825</td><td>17739735</td><td>18670053</td><td>3696301</td><td>9630108</td><td>2644516</td><td>0</td><td>0</td><td>0</td><td>0</td><td>null</td><td>null</td><td>0</td><td>null</td></tr><tr><td>597960900957</td><td>493995376717</td><td>2</td><td>35</td><td>null</td><td>null</td><td>null</td><td>5951745</td><td>1</td><td>&quot;آذربایجان غربی&quot;</td><td>&quot;بوکان&quot;</td><td>null</td><td>null</td><td>null</td><td>null</td><td>null</td><td>null</td><td>null</td><td>null</td><td>null</td><td>9</td><td>81</td><td>0</td><td>1</td><td>null</td><td>null</td><td>1</td><td>1</td><td>7500000</td><td>92500000</td><td>57545907</td><td>3250000000</td><td>92500000</td><td>325000000</td><td>99661952</td><td>104915539</td><td>140449606</td><td>167328111</td><td>205950763</td><td>115154511</td><td>0</td><td>0</td><td>27622</td><td>69348260</td><td>null</td><td>null</td><td>3671880</td><td>147799911</td></tr></tbody></table></div>"
            ]
          },
          "metadata": {},
          "execution_count": 8
        }
      ]
    },
    {
      "cell_type": "code",
      "source": [
        "df.shape"
      ],
      "metadata": {
        "colab": {
          "base_uri": "https://localhost:8080/"
        },
        "id": "l89YZY1z5Dv7",
        "outputId": "4144404c-f9e7-4a3c-b551-25f59aae5720"
      },
      "execution_count": null,
      "outputs": [
        {
          "output_type": "execute_result",
          "data": {
            "text/plain": [
              "(1697816, 48)"
            ]
          },
          "metadata": {},
          "execution_count": 34
        }
      ]
    },
    {
      "cell_type": "code",
      "source": [
        "df.schema"
      ],
      "metadata": {
        "colab": {
          "base_uri": "https://localhost:8080/"
        },
        "id": "Zyc4btrKajBv",
        "outputId": "b37f206b-f1d0-4ed1-8227-2641d72ddcc1"
      },
      "execution_count": null,
      "outputs": [
        {
          "output_type": "execute_result",
          "data": {
            "text/plain": [
              "Schema([('id', Int64),\n",
              "        ('Parent_Id', Int64),\n",
              "        ('GenderId', Int64),\n",
              "        ('Age', Int64),\n",
              "        ('ISBimarKhas', Int64),\n",
              "        ('IsMalool', Int64),\n",
              "        ('Malool_shedat', Int64),\n",
              "        ('Dashboard_postalcode7Digits', Int64),\n",
              "        ('isurban', Int64),\n",
              "        ('SabteAhval_provincename', String),\n",
              "        ('SabteAhval_countyname', String),\n",
              "        ('Has_SoeTaghzie', Int64),\n",
              "        ('IsBehzisti_AfzayeshMostamari', Int64),\n",
              "        ('IsKomite_AfzayeshMostamari', Int64),\n",
              "        ('IsKomite_AfzayeshMostamariSayer', Int64),\n",
              "        ('TripCountAirPilgrimage_95to99', Int64),\n",
              "        ('TripCountAirNonPilgrimage_95to99', Int64),\n",
              "        ('TripCountNonAirPilgrimage_95to99', Int64),\n",
              "        ('TripCountNonAirNonPilgrimage_95to99', Int64),\n",
              "        ('Has_Saham_Edalat', Int64),\n",
              "        ('Decile', Int64),\n",
              "        ('Percentile', Int64),\n",
              "        ('HasMojavezSenfi', Int64),\n",
              "        ('ISKarmanddolat_1402', Int64),\n",
              "        ('IsRetired_Asli', Int64),\n",
              "        ('IsRetired_Tabaie', String),\n",
              "        ('is_bime_darman', Int64),\n",
              "        ('IsBimePardaz', Int64),\n",
              "        ('MandehAval_1399', Int64),\n",
              "        ('MandehAkhar_1399', Int64),\n",
              "        ('CardPerMonth_1399', Int64),\n",
              "        ('Variz_1400', Int64),\n",
              "        ('MandehAval_1400', Int64),\n",
              "        ('MandehAkhar_1400', Int64),\n",
              "        ('CardPerMonth_1400', Int64),\n",
              "        ('CardPerMonth_1398', Int64),\n",
              "        ('CardPerMonth_1401', Int64),\n",
              "        ('CardPerMonth_1402', Int64),\n",
              "        ('CardBeCardPerMonth_1401', Int64),\n",
              "        ('CardBeCardPerMonth_1402', Int64),\n",
              "        ('SatnaPerMonth_1401', Int64),\n",
              "        ('SatnaPerMonth_1402', Int64),\n",
              "        ('PayaPerMonth_1401', Int64),\n",
              "        ('PayaPerMonth_1402', Int64),\n",
              "        ('CarsPrice', Int64),\n",
              "        ('CarsCount', Int64),\n",
              "        ('Bourse_NetPortfoValue', Int64),\n",
              "        ('Daramad', Int64)])"
            ]
          },
          "metadata": {},
          "execution_count": 30
        }
      ]
    },
    {
      "cell_type": "code",
      "source": [
        "df.describe()"
      ],
      "metadata": {
        "colab": {
          "base_uri": "https://localhost:8080/",
          "height": 400
        },
        "id": "L1ZyN73X56DO",
        "outputId": "3745bd03-901e-43c3-eaee-59c0ce78a77e"
      },
      "execution_count": null,
      "outputs": [
        {
          "output_type": "execute_result",
          "data": {
            "text/plain": [
              "shape: (9, 49)\n",
              "┌───────────┬───────────┬───────────┬───────────┬───┬───────────┬───────────┬───────────┬──────────┐\n",
              "│ statistic ┆ id        ┆ Parent_Id ┆ GenderId  ┆ … ┆ CarsPrice ┆ CarsCount ┆ Bourse_Ne ┆ Daramad  │\n",
              "│ ---       ┆ ---       ┆ ---       ┆ ---       ┆   ┆ ---       ┆ ---       ┆ tPortfoVa ┆ ---      │\n",
              "│ str       ┆ f64       ┆ f64       ┆ f64       ┆   ┆ f64       ┆ f64       ┆ lue       ┆ f64      │\n",
              "│           ┆           ┆           ┆           ┆   ┆           ┆           ┆ ---       ┆          │\n",
              "│           ┆           ┆           ┆           ┆   ┆           ┆           ┆ f64       ┆          │\n",
              "╞═══════════╪═══════════╪═══════════╪═══════════╪═══╪═══════════╪═══════════╪═══════════╪══════════╡\n",
              "│ count     ┆ 1.697816e ┆ 1.697816e ┆ 1.697816e ┆ … ┆ 408075.0  ┆ 408075.0  ┆ 1.659997e ┆ 454881.0 │\n",
              "│           ┆ 6         ┆ 6         ┆ 6         ┆   ┆           ┆           ┆ 6         ┆          │\n",
              "│ null_coun ┆ 0.0       ┆ 0.0       ┆ 0.0       ┆ … ┆ 1.289741e ┆ 1.289741e ┆ 37819.0   ┆ 1.242935 │\n",
              "│ t         ┆           ┆           ┆           ┆   ┆ 6         ┆ 6         ┆           ┆ e6       │\n",
              "│ mean      ┆ 4.3613e11 ┆ 4.3321e11 ┆ 1.494946  ┆ … ┆ 4.3191e9  ┆ 1.23123   ┆ 9.3034e7  ┆ 9.6657e7 │\n",
              "│ std       ┆ 2.5242e11 ┆ 2.5006e11 ┆ 0.499975  ┆ … ┆ 9.6293e9  ┆ 0.649734  ┆ 6.3236e9  ┆ 6.9753e7 │\n",
              "│ min       ┆ 27438.0   ┆ 259936.0  ┆ 1.0       ┆ … ┆ 0.0       ┆ 1.0       ┆ 0.0       ┆ 0.0      │\n",
              "│ 25%       ┆ 2.1789e11 ┆ 2.1672e11 ┆ 1.0       ┆ … ┆ 1.1712e9  ┆ 1.0       ┆ 0.0       ┆ 5.485226 │\n",
              "│           ┆           ┆           ┆           ┆   ┆           ┆           ┆           ┆ 8e7      │\n",
              "│ 50%       ┆ 4.3558e11 ┆ 4.3310e11 ┆ 1.0       ┆ … ┆ 2.2505e9  ┆ 1.0       ┆ 0.0       ┆ 7.7128e7 │\n",
              "│ 75%       ┆ 6.5385e11 ┆ 6.4981e11 ┆ 2.0       ┆ … ┆ 4.1741e9  ┆ 1.0       ┆ 0.0       ┆ 1.182858 │\n",
              "│           ┆           ┆           ┆           ┆   ┆           ┆           ┆           ┆ 07e8     │\n",
              "│ max       ┆ 1.0000e12 ┆ 9.9952e11 ┆ 2.0       ┆ … ┆ 1.3990e12 ┆ 97.0      ┆ 3.8031e12 ┆ 1.1480e9 │\n",
              "└───────────┴───────────┴───────────┴───────────┴───┴───────────┴───────────┴───────────┴──────────┘"
            ],
            "text/html": [
              "<div><style>\n",
              ".dataframe > thead > tr,\n",
              ".dataframe > tbody > tr {\n",
              "  text-align: right;\n",
              "  white-space: pre-wrap;\n",
              "}\n",
              "</style>\n",
              "<small>shape: (9, 49)</small><table border=\"1\" class=\"dataframe\"><thead><tr><th>statistic</th><th>id</th><th>Parent_Id</th><th>GenderId</th><th>Age</th><th>ISBimarKhas</th><th>IsMalool</th><th>Malool_shedat</th><th>Dashboard_postalcode7Digits</th><th>isurban</th><th>SabteAhval_provincename</th><th>SabteAhval_countyname</th><th>Has_SoeTaghzie</th><th>IsBehzisti_AfzayeshMostamari</th><th>IsKomite_AfzayeshMostamari</th><th>IsKomite_AfzayeshMostamariSayer</th><th>TripCountAirPilgrimage_95to99</th><th>TripCountAirNonPilgrimage_95to99</th><th>TripCountNonAirPilgrimage_95to99</th><th>TripCountNonAirNonPilgrimage_95to99</th><th>Has_Saham_Edalat</th><th>Decile</th><th>Percentile</th><th>HasMojavezSenfi</th><th>ISKarmanddolat_1402</th><th>IsRetired_Asli</th><th>IsRetired_Tabaie</th><th>is_bime_darman</th><th>IsBimePardaz</th><th>MandehAval_1399</th><th>MandehAkhar_1399</th><th>CardPerMonth_1399</th><th>Variz_1400</th><th>MandehAval_1400</th><th>MandehAkhar_1400</th><th>CardPerMonth_1400</th><th>CardPerMonth_1398</th><th>CardPerMonth_1401</th><th>CardPerMonth_1402</th><th>CardBeCardPerMonth_1401</th><th>CardBeCardPerMonth_1402</th><th>SatnaPerMonth_1401</th><th>SatnaPerMonth_1402</th><th>PayaPerMonth_1401</th><th>PayaPerMonth_1402</th><th>CarsPrice</th><th>CarsCount</th><th>Bourse_NetPortfoValue</th><th>Daramad</th></tr><tr><td>str</td><td>f64</td><td>f64</td><td>f64</td><td>f64</td><td>f64</td><td>f64</td><td>f64</td><td>f64</td><td>f64</td><td>str</td><td>str</td><td>f64</td><td>f64</td><td>f64</td><td>f64</td><td>f64</td><td>f64</td><td>f64</td><td>f64</td><td>f64</td><td>f64</td><td>f64</td><td>f64</td><td>f64</td><td>f64</td><td>str</td><td>f64</td><td>f64</td><td>f64</td><td>f64</td><td>f64</td><td>f64</td><td>f64</td><td>f64</td><td>f64</td><td>f64</td><td>f64</td><td>f64</td><td>f64</td><td>f64</td><td>f64</td><td>f64</td><td>f64</td><td>f64</td><td>f64</td><td>f64</td><td>f64</td><td>f64</td></tr></thead><tbody><tr><td>&quot;count&quot;</td><td>1.697816e6</td><td>1.697816e6</td><td>1.697816e6</td><td>1.69659e6</td><td>13331.0</td><td>28419.0</td><td>27454.0</td><td>1.657326e6</td><td>1.657326e6</td><td>&quot;1556386&quot;</td><td>&quot;1556386&quot;</td><td>140735.0</td><td>38108.0</td><td>87929.0</td><td>11049.0</td><td>200071.0</td><td>200071.0</td><td>200071.0</td><td>200071.0</td><td>883527.0</td><td>1.697816e6</td><td>1.697816e6</td><td>1.697816e6</td><td>1.697816e6</td><td>98681.0</td><td>&quot;8026&quot;</td><td>1.380451e6</td><td>317529.0</td><td>1.373335e6</td><td>1.373335e6</td><td>1.697816e6</td><td>1.365934e6</td><td>1.365934e6</td><td>1.365934e6</td><td>1.697816e6</td><td>1.697816e6</td><td>1.697816e6</td><td>1.697816e6</td><td>1.697816e6</td><td>1.697816e6</td><td>1.697816e6</td><td>1.697816e6</td><td>1.697816e6</td><td>1.697816e6</td><td>408075.0</td><td>408075.0</td><td>1.659997e6</td><td>454881.0</td></tr><tr><td>&quot;null_count&quot;</td><td>0.0</td><td>0.0</td><td>0.0</td><td>1226.0</td><td>1.684485e6</td><td>1.669397e6</td><td>1.670362e6</td><td>40490.0</td><td>40490.0</td><td>&quot;141430&quot;</td><td>&quot;141430&quot;</td><td>1.557081e6</td><td>1.659708e6</td><td>1.609887e6</td><td>1.686767e6</td><td>1.497745e6</td><td>1.497745e6</td><td>1.497745e6</td><td>1.497745e6</td><td>814289.0</td><td>0.0</td><td>0.0</td><td>0.0</td><td>0.0</td><td>1.599135e6</td><td>&quot;1689790&quot;</td><td>317365.0</td><td>1.380287e6</td><td>324481.0</td><td>324481.0</td><td>0.0</td><td>331882.0</td><td>331882.0</td><td>331882.0</td><td>0.0</td><td>0.0</td><td>0.0</td><td>0.0</td><td>0.0</td><td>0.0</td><td>0.0</td><td>0.0</td><td>0.0</td><td>0.0</td><td>1.289741e6</td><td>1.289741e6</td><td>37819.0</td><td>1.242935e6</td></tr><tr><td>&quot;mean&quot;</td><td>4.3613e11</td><td>4.3321e11</td><td>1.494946</td><td>34.083945</td><td>1.0</td><td>1.0</td><td>2.278138</td><td>6.0504e6</td><td>0.698188</td><td>null</td><td>null</td><td>0.020208</td><td>1.0</td><td>1.0</td><td>1.0</td><td>0.089608</td><td>0.84409</td><td>0.346477</td><td>0.346477</td><td>1.0</td><td>5.50839</td><td>50.574295</td><td>0.029318</td><td>0.039821</td><td>1.0</td><td>null</td><td>1.0</td><td>1.0</td><td>1.8477e8</td><td>3.1030e8</td><td>4.3574e7</td><td>3.5834e9</td><td>2.1007e8</td><td>3.1957e8</td><td>5.6705e7</td><td>2.8483e7</td><td>8.5630e7</td><td>1.0462e8</td><td>1.4947e8</td><td>1.1361e8</td><td>1.4427e8</td><td>1.2600e8</td><td>1.0208e8</td><td>7.6708e7</td><td>4.3191e9</td><td>1.23123</td><td>9.3034e7</td><td>9.6657e7</td></tr><tr><td>&quot;std&quot;</td><td>2.5242e11</td><td>2.5006e11</td><td>0.499975</td><td>20.314889</td><td>0.0</td><td>0.0</td><td>0.905472</td><td>2.4517e6</td><td>0.459044</td><td>null</td><td>null</td><td>0.140712</td><td>0.0</td><td>0.0</td><td>0.0</td><td>0.69008</td><td>2.904279</td><td>1.942321</td><td>1.942321</td><td>0.0</td><td>2.877237</td><td>28.924832</td><td>0.168697</td><td>0.195538</td><td>0.0</td><td>null</td><td>0.0</td><td>0.0</td><td>1.3930e9</td><td>2.2384e9</td><td>1.7194e8</td><td>1.1187e10</td><td>1.5629e9</td><td>2.1813e9</td><td>1.4509e8</td><td>1.3397e8</td><td>2.2941e8</td><td>3.2044e8</td><td>3.4318e8</td><td>2.6074e8</td><td>1.0736e9</td><td>1.3039e9</td><td>4.9661e8</td><td>4.3656e8</td><td>9.6293e9</td><td>0.649734</td><td>6.3236e9</td><td>6.9753e7</td></tr><tr><td>&quot;min&quot;</td><td>27438.0</td><td>259936.0</td><td>1.0</td><td>0.0</td><td>1.0</td><td>1.0</td><td>1.0</td><td>1.1111e6</td><td>0.0</td><td>&quot;آذربایجان شرقی&quot;</td><td>&quot;آبادان&quot;</td><td>0.0</td><td>1.0</td><td>1.0</td><td>1.0</td><td>0.0</td><td>0.0</td><td>0.0</td><td>0.0</td><td>1.0</td><td>1.0</td><td>1.0</td><td>0.0</td><td>0.0</td><td>1.0</td><td>&quot;1&quot;</td><td>1.0</td><td>1.0</td><td>0.0</td><td>0.0</td><td>0.0</td><td>0.0</td><td>0.0</td><td>0.0</td><td>0.0</td><td>0.0</td><td>0.0</td><td>0.0</td><td>0.0</td><td>0.0</td><td>0.0</td><td>0.0</td><td>0.0</td><td>0.0</td><td>0.0</td><td>1.0</td><td>0.0</td><td>0.0</td></tr><tr><td>&quot;25%&quot;</td><td>2.1789e11</td><td>2.1672e11</td><td>1.0</td><td>17.0</td><td>1.0</td><td>1.0</td><td>2.0</td><td>4.341783e6</td><td>0.0</td><td>null</td><td>null</td><td>0.0</td><td>1.0</td><td>1.0</td><td>1.0</td><td>0.0</td><td>0.0</td><td>0.0</td><td>0.0</td><td>1.0</td><td>3.0</td><td>25.0</td><td>0.0</td><td>0.0</td><td>1.0</td><td>null</td><td>1.0</td><td>1.0</td><td>2.5e6</td><td>2.5e6</td><td>0.0</td><td>5.25e7</td><td>2.5e6</td><td>2.5e6</td><td>0.0</td><td>0.0</td><td>230673.0</td><td>70254.0</td><td>183173.0</td><td>592.0</td><td>0.0</td><td>0.0</td><td>0.0</td><td>0.0</td><td>1.1712e9</td><td>1.0</td><td>0.0</td><td>5.4852268e7</td></tr><tr><td>&quot;50%&quot;</td><td>4.3558e11</td><td>4.3310e11</td><td>1.0</td><td>34.0</td><td>1.0</td><td>1.0</td><td>2.0</td><td>6.414943e6</td><td>1.0</td><td>null</td><td>null</td><td>0.0</td><td>1.0</td><td>1.0</td><td>1.0</td><td>0.0</td><td>0.0</td><td>0.0</td><td>0.0</td><td>1.0</td><td>6.0</td><td>51.0</td><td>0.0</td><td>0.0</td><td>1.0</td><td>null</td><td>1.0</td><td>1.0</td><td>7.5e6</td><td>1.75e7</td><td>4.771212e6</td><td>5.5e8</td><td>1.25e7</td><td>1.75e7</td><td>9.646261e6</td><td>2.376767e6</td><td>2.1227358e7</td><td>3.142441e7</td><td>3.7615533e7</td><td>3.5832227e7</td><td>0.0</td><td>0.0</td><td>0.0</td><td>0.0</td><td>2.2505e9</td><td>1.0</td><td>0.0</td><td>7.7128e7</td></tr><tr><td>&quot;75%&quot;</td><td>6.5385e11</td><td>6.4981e11</td><td>2.0</td><td>48.0</td><td>1.0</td><td>1.0</td><td>3.0</td><td>7.918655e6</td><td>1.0</td><td>null</td><td>null</td><td>0.0</td><td>1.0</td><td>1.0</td><td>1.0</td><td>0.0</td><td>1.0</td><td>0.0</td><td>0.0</td><td>1.0</td><td>8.0</td><td>76.0</td><td>0.0</td><td>0.0</td><td>1.0</td><td>null</td><td>1.0</td><td>1.0</td><td>5.75e7</td><td>9.75e7</td><td>3.0739288e7</td><td>2.2500e9</td><td>7.25e7</td><td>1.25e8</td><td>4.9336152e7</td><td>1.8500719e7</td><td>8.3005192e7</td><td>9.4008829e7</td><td>1.53588494e8</td><td>1.15154511e8</td><td>50639.0</td><td>0.0</td><td>4.0181631e7</td><td>8.713415e6</td><td>4.1741e9</td><td>1.0</td><td>0.0</td><td>1.18285807e8</td></tr><tr><td>&quot;max&quot;</td><td>1.0000e12</td><td>9.9952e11</td><td>2.0</td><td>99.0</td><td>1.0</td><td>1.0</td><td>4.0</td><td>9.999193e6</td><td>1.0</td><td>&quot;یزد&quot;</td><td>&quot;یزد&quot;</td><td>1.0</td><td>1.0</td><td>1.0</td><td>1.0</td><td>83.0</td><td>335.0</td><td>192.0</td><td>192.0</td><td>1.0</td><td>10.0</td><td>100.0</td><td>1.0</td><td>1.0</td><td>1.0</td><td>&quot;1&quot;</td><td>1.0</td><td>1.0</td><td>1.0000e11</td><td>1.0000e11</td><td>9.3975e9</td><td>1.0000e11</td><td>1.0000e11</td><td>1.0000e11</td><td>1.2840e9</td><td>7.8743e9</td><td>4.1197e9</td><td>6.9615e9</td><td>4.6947e9</td><td>4.3469e9</td><td>2.7698e10</td><td>3.7035e10</td><td>9.0895e9</td><td>1.0407e10</td><td>1.3990e12</td><td>97.0</td><td>3.8031e12</td><td>1.1480e9</td></tr></tbody></table></div>"
            ]
          },
          "metadata": {},
          "execution_count": 33
        }
      ]
    },
    {
      "cell_type": "code",
      "source": [
        "cols = ['id', 'Age', 'Daramad', 'SabteAhval_provincename']\n",
        "df = (pl.scan_csv('gdrive/My Drive/Pandas/nemone_2_darsadi_1402.csv')\n",
        "     .select(cols)\n",
        "     .rename({'SabteAhval_provincename': 'Province', 'id': 'ID'})\n",
        "     .lazy()\n",
        "     .group_by('Province').agg([\n",
        "            pl.count('ID').alias('Count NID'),\n",
        "            pl.mean('Age').alias('mean_Age'),\n",
        "            pl.mean('Daramad').alias('mean_Daramad'),\n",
        "            pl.n_unique('Age').alias('Age_unique_count'),\n",
        "            #pl.col('Daramad').agg_groups(lambda x: x.max() - x.min() / x.stdev()).alias('Daramad range')\n",
        "            ])\n",
        "\n",
        "     ).collect()"
      ],
      "metadata": {
        "id": "rIomqJRVRoOh"
      },
      "execution_count": null,
      "outputs": []
    },
    {
      "cell_type": "code",
      "source": [
        "df"
      ],
      "metadata": {
        "colab": {
          "base_uri": "https://localhost:8080/",
          "height": 443
        },
        "id": "vRHfdYeklBrA",
        "outputId": "994fbd1d-e88d-48e6-9c23-15ee1500757a"
      },
      "execution_count": null,
      "outputs": [
        {
          "output_type": "execute_result",
          "data": {
            "text/plain": [
              "shape: (32, 5)\n",
              "┌───────────────────┬───────────┬───────────┬──────────────┬──────────────────┐\n",
              "│ Province          ┆ Count NID ┆ mean_Age  ┆ mean_Daramad ┆ Age_unique_count │\n",
              "│ ---               ┆ ---       ┆ ---       ┆ ---          ┆ ---              │\n",
              "│ str               ┆ u32       ┆ f64       ┆ f64          ┆ u32              │\n",
              "╞═══════════════════╪═══════════╪═══════════╪══════════════╪══════════════════╡\n",
              "│ اردبیل            ┆ 26964     ┆ 34.654674 ┆ 8.3467e7     ┆ 99               │\n",
              "│ اصفهان            ┆ 97193     ┆ 37.898761 ┆ 9.6898e7     ┆ 100              │\n",
              "│ مرکزی             ┆ 28973     ┆ 36.316949 ┆ 9.8585e7     ┆ 100              │\n",
              "│ هرمزگان           ┆ 34200     ┆ 32.210446 ┆ 1.1074e8     ┆ 99               │\n",
              "│ همدان             ┆ 35728     ┆ 36.528498 ┆ 7.9311e7     ┆ 99               │\n",
              "│ …                 ┆ …         ┆ …         ┆ …            ┆ …                │\n",
              "│ زنجان             ┆ 21233     ┆ 35.621308 ┆ 9.1042e7     ┆ 100              │\n",
              "│ آذربایجان شرقی    ┆ 78225     ┆ 36.31834  ┆ 8.5768e7     ┆ 99               │\n",
              "│ کرمانشاه          ┆ 40429     ┆ 35.493382 ┆ 8.7561e7     ┆ 100              │\n",
              "│ تهران             ┆ 229192    ┆ 38.760378 ┆ 1.1152e8     ┆ 100              │\n",
              "│ چهارمحال وبختیاری ┆ 20336     ┆ 34.26768  ┆ 9.0345e7     ┆ 100              │\n",
              "└───────────────────┴───────────┴───────────┴──────────────┴──────────────────┘"
            ],
            "text/html": [
              "<div><style>\n",
              ".dataframe > thead > tr,\n",
              ".dataframe > tbody > tr {\n",
              "  text-align: right;\n",
              "  white-space: pre-wrap;\n",
              "}\n",
              "</style>\n",
              "<small>shape: (32, 5)</small><table border=\"1\" class=\"dataframe\"><thead><tr><th>Province</th><th>Count NID</th><th>mean_Age</th><th>mean_Daramad</th><th>Age_unique_count</th></tr><tr><td>str</td><td>u32</td><td>f64</td><td>f64</td><td>u32</td></tr></thead><tbody><tr><td>&quot;اردبیل&quot;</td><td>26964</td><td>34.654674</td><td>8.3467e7</td><td>99</td></tr><tr><td>&quot;اصفهان&quot;</td><td>97193</td><td>37.898761</td><td>9.6898e7</td><td>100</td></tr><tr><td>&quot;مرکزی&quot;</td><td>28973</td><td>36.316949</td><td>9.8585e7</td><td>100</td></tr><tr><td>&quot;هرمزگان&quot;</td><td>34200</td><td>32.210446</td><td>1.1074e8</td><td>99</td></tr><tr><td>&quot;همدان&quot;</td><td>35728</td><td>36.528498</td><td>7.9311e7</td><td>99</td></tr><tr><td>&hellip;</td><td>&hellip;</td><td>&hellip;</td><td>&hellip;</td><td>&hellip;</td></tr><tr><td>&quot;زنجان&quot;</td><td>21233</td><td>35.621308</td><td>9.1042e7</td><td>100</td></tr><tr><td>&quot;آذربایجان شرقی&quot;</td><td>78225</td><td>36.31834</td><td>8.5768e7</td><td>99</td></tr><tr><td>&quot;کرمانشاه&quot;</td><td>40429</td><td>35.493382</td><td>8.7561e7</td><td>100</td></tr><tr><td>&quot;تهران&quot;</td><td>229192</td><td>38.760378</td><td>1.1152e8</td><td>100</td></tr><tr><td>&quot;چهارمحال وبختیاری&quot;</td><td>20336</td><td>34.26768</td><td>9.0345e7</td><td>100</td></tr></tbody></table></div>"
            ]
          },
          "metadata": {},
          "execution_count": 45
        }
      ]
    },
    {
      "cell_type": "code",
      "source": [
        "# When-Then-Otherwise\n",
        "cols = ['id', 'Age', 'Daramad', 'SabteAhval_provincename']\n",
        "df_1 = (pl.scan_csv('gdrive/My Drive/Pandas/nemone_2_darsadi_1402.csv')\n",
        "        .select(cols)\n",
        "        .rename({'SabteAhval_provincename': 'Province', 'id': 'ID'})\n",
        "        .lazy()\n",
        "        .with_columns(\n",
        "            pl.when(pl.col('Daramad') > 7.7128e8)\n",
        "            .then(pl.lit('High'))\n",
        "            .when(pl.col('Daramad') < 7.7128e7)\n",
        "            .then(pl.lit('Low'))\n",
        "            .otherwise(pl.lit('Medium'))\n",
        "            .alias('Daramad_category')\n",
        "        ).collect()\n",
        ")"
      ],
      "metadata": {
        "id": "27FnOc8XkKzr"
      },
      "execution_count": null,
      "outputs": []
    },
    {
      "cell_type": "code",
      "source": [
        "df_1.head()"
      ],
      "metadata": {
        "colab": {
          "base_uri": "https://localhost:8080/",
          "height": 255
        },
        "id": "SEBE156NhFx-",
        "outputId": "9eea7959-474f-464d-e143-25d837c4c06d"
      },
      "execution_count": null,
      "outputs": [
        {
          "output_type": "execute_result",
          "data": {
            "text/plain": [
              "shape: (5, 5)\n",
              "┌──────────────┬─────┬───────────┬────────────────┬──────────────────┐\n",
              "│ ID           ┆ Age ┆ Daramad   ┆ Province       ┆ Daramad_category │\n",
              "│ ---          ┆ --- ┆ ---       ┆ ---            ┆ ---              │\n",
              "│ i64          ┆ i64 ┆ i64       ┆ str            ┆ str              │\n",
              "╞══════════════╪═════╪═══════════╪════════════════╪══════════════════╡\n",
              "│ 717641288407 ┆ 9   ┆ null      ┆ خراسان رضوی    ┆ Medium           │\n",
              "│ 84729392521  ┆ 30  ┆ null      ┆ یزد            ┆ Medium           │\n",
              "│ 480898026296 ┆ 33  ┆ null      ┆ گیلان           ┆ Medium           │\n",
              "│ 72903495587  ┆ 54  ┆ null      ┆ فارس           ┆ Medium           │\n",
              "│ 597960900957 ┆ 35  ┆ 147799911 ┆ آذربایجان غربی ┆ Medium           │\n",
              "└──────────────┴─────┴───────────┴────────────────┴──────────────────┘"
            ],
            "text/html": [
              "<div><style>\n",
              ".dataframe > thead > tr,\n",
              ".dataframe > tbody > tr {\n",
              "  text-align: right;\n",
              "  white-space: pre-wrap;\n",
              "}\n",
              "</style>\n",
              "<small>shape: (5, 5)</small><table border=\"1\" class=\"dataframe\"><thead><tr><th>ID</th><th>Age</th><th>Daramad</th><th>Province</th><th>Daramad_category</th></tr><tr><td>i64</td><td>i64</td><td>i64</td><td>str</td><td>str</td></tr></thead><tbody><tr><td>717641288407</td><td>9</td><td>null</td><td>&quot;خراسان رضوی&quot;</td><td>&quot;Medium&quot;</td></tr><tr><td>84729392521</td><td>30</td><td>null</td><td>&quot;یزد&quot;</td><td>&quot;Medium&quot;</td></tr><tr><td>480898026296</td><td>33</td><td>null</td><td>&quot;گیلان&quot;</td><td>&quot;Medium&quot;</td></tr><tr><td>72903495587</td><td>54</td><td>null</td><td>&quot;فارس&quot;</td><td>&quot;Medium&quot;</td></tr><tr><td>597960900957</td><td>35</td><td>147799911</td><td>&quot;آذربایجان غربی&quot;</td><td>&quot;Medium&quot;</td></tr></tbody></table></div>"
            ]
          },
          "metadata": {},
          "execution_count": 9
        }
      ]
    },
    {
      "cell_type": "code",
      "source": [
        "#pl.col(\"A\").reverse().over(\"fruits\").alias(\"rev_A_by_fruits\"),\n",
        "pl.sort_by(\"mean_Daramad\").over(\"Province\").alias(\"Mean_Daramad_Province\")"
      ],
      "metadata": {
        "id": "1HuJYwgBIw7O",
        "colab": {
          "base_uri": "https://localhost:8080/",
          "height": 162
        },
        "outputId": "654bfcdd-50c8-472f-c18a-b6d091cf367f"
      },
      "execution_count": 2,
      "outputs": [
        {
          "output_type": "error",
          "ename": "NameError",
          "evalue": "name 'pl' is not defined",
          "traceback": [
            "\u001b[0;31m---------------------------------------------------------------------------\u001b[0m",
            "\u001b[0;31mNameError\u001b[0m                                 Traceback (most recent call last)",
            "\u001b[0;32m<ipython-input-2-8af16f592a1c>\u001b[0m in \u001b[0;36m<cell line: 0>\u001b[0;34m()\u001b[0m\n\u001b[1;32m      1\u001b[0m \u001b[0;31m#pl.col(\"A\").reverse().over(\"fruits\").alias(\"rev_A_by_fruits\"),\u001b[0m\u001b[0;34m\u001b[0m\u001b[0;34m\u001b[0m\u001b[0m\n\u001b[0;32m----> 2\u001b[0;31m \u001b[0mpl\u001b[0m\u001b[0;34m.\u001b[0m\u001b[0msort_by\u001b[0m\u001b[0;34m(\u001b[0m\u001b[0;34m\"mean_Daramad\"\u001b[0m\u001b[0;34m)\u001b[0m\u001b[0;34m.\u001b[0m\u001b[0mover\u001b[0m\u001b[0;34m(\u001b[0m\u001b[0;34m\"Province\"\u001b[0m\u001b[0;34m)\u001b[0m\u001b[0;34m.\u001b[0m\u001b[0malias\u001b[0m\u001b[0;34m(\u001b[0m\u001b[0;34m\"Mean_Daramad_Province\"\u001b[0m\u001b[0;34m)\u001b[0m\u001b[0;34m\u001b[0m\u001b[0;34m\u001b[0m\u001b[0m\n\u001b[0m",
            "\u001b[0;31mNameError\u001b[0m: name 'pl' is not defined"
          ]
        }
      ]
    },
    {
      "cell_type": "code",
      "source": [
        "# Multiple aggregations\n",
        "df.groupby('A').agg([\n",
        "    pl.sum('B').alias('B_sum'),\n",
        "    pl.mean('C').alias('C_mean'),\n",
        "    pl.n_unique('D').alias('D_unique_count')\n",
        "])\n",
        "\n",
        "# Custom aggregation\n",
        "df.groupby('A').agg(pl.col('B').agg_groups(lambda x: x.sum() / x.count()))"
      ],
      "metadata": {
        "id": "BfoLD7smhI0U"
      },
      "execution_count": null,
      "outputs": []
    },
    {
      "cell_type": "markdown",
      "source": [],
      "metadata": {
        "id": "RzgJh35YDsC9"
      }
    },
    {
      "cell_type": "code",
      "source": [
        "import plotly.express as px"
      ],
      "metadata": {
        "id": "8r4HwzB4Ds3E"
      },
      "execution_count": null,
      "outputs": []
    },
    {
      "cell_type": "code",
      "source": [],
      "metadata": {
        "id": "m5OE0M2ODtsA"
      },
      "execution_count": null,
      "outputs": []
    },
    {
      "cell_type": "code",
      "source": [],
      "metadata": {
        "id": "bQEuKAw_CRvS"
      },
      "execution_count": null,
      "outputs": []
    },
    {
      "cell_type": "code",
      "source": [],
      "metadata": {
        "id": "ZlFDfdNwCRsb"
      },
      "execution_count": null,
      "outputs": []
    },
    {
      "cell_type": "markdown",
      "source": [
        "<!--\n",
        "![image](https://media.licdn.com/dms/image/v2/D5622AQHnHEw1wgmFvA/feedshare-shrink_800/B56ZYBYcVjH0Ao-/0/1743779908135?e=1746662400&v=beta&t=mow1Zn4HBFixnFbAWr9jyix_M0bbR3HDfJ92xe6ZGEQ)\n",
        "\n",
        "Combining 2 dataframes into a single dataframe is a common operation in data analysis.\n",
        "\n",
        "https://www.linkedin.com/posts/jorammutenge_100daysofpolars-data-activity-7313943048688652289-3Wi9\n",
        "-->"
      ],
      "metadata": {
        "id": "O_hZxTTRCdRC"
      }
    },
    {
      "cell_type": "code",
      "source": [
        "(df\n",
        "    .head(10)\n",
        "    .vstack(df.tail(10))\n",
        " )"
      ],
      "metadata": {
        "id": "U0uCwPj_CRpV"
      },
      "execution_count": null,
      "outputs": []
    },
    {
      "cell_type": "code",
      "source": [],
      "metadata": {
        "id": "awPC8ZxKCRm9"
      },
      "execution_count": null,
      "outputs": []
    },
    {
      "cell_type": "code",
      "source": [
        "# https://github.com/pola-rs/polars-benchmark/blob/main/queries/polars/q1.py\n",
        "\n",
        "from datetime import date\n",
        "\n",
        "import polars as pl\n",
        "\n",
        "from queries.polars import utils\n",
        "\n",
        "Q_NUM = 1\n",
        "\n",
        "\n",
        "def q() -> None:\n",
        "    lineitem = utils.get_line_item_ds()\n",
        "\n",
        "    var1 = date(1998, 9, 2)\n",
        "\n",
        "    q_final = (\n",
        "        lineitem.filter(pl.col(\"l_shipdate\") <= var1)\n",
        "        .group_by(\"l_returnflag\", \"l_linestatus\")\n",
        "        .agg(\n",
        "            pl.sum(\"l_quantity\").alias(\"sum_qty\"),\n",
        "            pl.sum(\"l_extendedprice\").alias(\"sum_base_price\"),\n",
        "            (pl.col(\"l_extendedprice\") * (1.0 - pl.col(\"l_discount\")))\n",
        "            .sum()\n",
        "            .alias(\"sum_disc_price\"),\n",
        "            (\n",
        "                pl.col(\"l_extendedprice\")\n",
        "                * (1.0 - pl.col(\"l_discount\"))\n",
        "                * (1.0 + pl.col(\"l_tax\"))\n",
        "            )\n",
        "            .sum()\n",
        "            .alias(\"sum_charge\"),\n",
        "            pl.mean(\"l_quantity\").alias(\"avg_qty\"),\n",
        "            pl.mean(\"l_extendedprice\").alias(\"avg_price\"),\n",
        "            pl.mean(\"l_discount\").alias(\"avg_disc\"),\n",
        "            pl.len().alias(\"count_order\"),\n",
        "        )\n",
        "        .sort(\"l_returnflag\", \"l_linestatus\")\n",
        "    )\n",
        "\n",
        "    utils.run_query(Q_NUM, q_final)\n",
        "\n",
        "\n",
        "if __name__ == \"__main__\":\n",
        "    q()"
      ],
      "metadata": {
        "id": "9jb0mDnqCRbf"
      },
      "execution_count": null,
      "outputs": []
    },
    {
      "cell_type": "code",
      "source": [
        "trips = pl.read_csv(\n",
        "    \"data/citibike/202403-citibike-tripdata.csv\",\n",
        "    try_parse_dates=True,\n",
        "    schema_overrides={\n",
        "        \"start_station_id\": pl.String,\n",
        "        \"end_station_id\": pl.String,\n",
        "    },\n",
        ").sort(\n",
        "    \"started_at\"\n",
        ")\n",
        "\n",
        "trips.height\n",
        "2663295"
      ],
      "metadata": {
        "id": "C2HeqXrxYIOz"
      },
      "execution_count": null,
      "outputs": []
    },
    {
      "cell_type": "code",
      "source": [
        "import polars as pl\n",
        "from io import BytesIO\n",
        "data = BytesIO(\n",
        "    b\"ID,Name,Birthday\\n\"\n",
        "    b\"1,Alice,1995-07-12\\n\"\n",
        "    b\"2,Bob,1990-09-20\\n\"\n",
        "    b\"3,Charlie,2002-03-08\\n\"\n",
        "    b\"4,Ali,1977-02-28\\n\"\n",
        "    b\"5,Majid,1980-07-12\\n\"\n",
        "    b\"6,Saeed,1981-09-20\\n\"\n",
        "    b\"7,Alireza,1981-03-08\\n\")\n",
        "\n",
        "(\n",
        "    pl.read_csv(data, try_parse_dates=True)\n",
        "    .sort(\"Birthday\", descending=True)\n",
        "    #.pl\n",
        "    .group_by(pl.col(\"Birthday\").dt.year().alias(\"year\"))\n",
        "        .agg(\n",
        "            pl.count(\"Name\").alias(\"qty\")\n",
        "        )\n",
        "        .with_columns(pl.col(\"year\").alias(\"Decade\"))\n",
        "        .sort(\"qty\", descending=True)\n",
        "\n",
        ")"
      ],
      "metadata": {
        "colab": {
          "base_uri": "https://localhost:8080/",
          "height": 286
        },
        "id": "FFKYEZauZGlb",
        "outputId": "cd6d0f22-d6cd-49b5-bcb6-d8a8066b8c94"
      },
      "execution_count": null,
      "outputs": [
        {
          "output_type": "execute_result",
          "data": {
            "text/plain": [
              "shape: (6, 3)\n",
              "┌──────┬─────┬────────┐\n",
              "│ year ┆ qty ┆ Decade │\n",
              "│ ---  ┆ --- ┆ ---    │\n",
              "│ i32  ┆ u32 ┆ i32    │\n",
              "╞══════╪═════╪════════╡\n",
              "│ 1981 ┆ 2   ┆ 1981   │\n",
              "│ 1977 ┆ 1   ┆ 1977   │\n",
              "│ 2002 ┆ 1   ┆ 2002   │\n",
              "│ 1990 ┆ 1   ┆ 1990   │\n",
              "│ 1980 ┆ 1   ┆ 1980   │\n",
              "│ 1995 ┆ 1   ┆ 1995   │\n",
              "└──────┴─────┴────────┘"
            ],
            "text/html": [
              "<div><style>\n",
              ".dataframe > thead > tr,\n",
              ".dataframe > tbody > tr {\n",
              "  text-align: right;\n",
              "  white-space: pre-wrap;\n",
              "}\n",
              "</style>\n",
              "<small>shape: (6, 3)</small><table border=\"1\" class=\"dataframe\"><thead><tr><th>year</th><th>qty</th><th>Decade</th></tr><tr><td>i32</td><td>u32</td><td>i32</td></tr></thead><tbody><tr><td>1981</td><td>2</td><td>1981</td></tr><tr><td>1977</td><td>1</td><td>1977</td></tr><tr><td>2002</td><td>1</td><td>2002</td></tr><tr><td>1990</td><td>1</td><td>1990</td></tr><tr><td>1980</td><td>1</td><td>1980</td></tr><tr><td>1995</td><td>1</td><td>1995</td></tr></tbody></table></div>"
            ]
          },
          "metadata": {},
          "execution_count": 15
        }
      ]
    },
    {
      "cell_type": "code",
      "source": [],
      "metadata": {
        "id": "T8j3fJvbZNyo"
      },
      "execution_count": null,
      "outputs": []
    },
    {
      "cell_type": "markdown",
      "source": [
        "### polars `methods` on series\n",
        "\n",
        "https://docs.pola.rs/api/python/dev/reference/series/index.html\n",
        "\n",
        "\n",
        "\n",
        "<table class=\"autosummary longtable table autosummary\">\n",
        "<tbody>\n",
        "<tr class=\"row-odd\"><td><p><a class=\"reference internal\" href=\"api/polars.Series.abs.html#polars.Series.abs\" title=\"polars.Series.abs\"><code class=\"xref py py-obj docutils literal notranslate\"><span class=\"pre\">abs</span></code></a></p></td>\n",
        "<td><p>Compute absolute values.</p></td>\n",
        "</tr>\n",
        "<tr class=\"row-even\"><td><p><a class=\"reference internal\" href=\"api/polars.Series.alias.html#polars.Series.alias\" title=\"polars.Series.alias\"><code class=\"xref py py-obj docutils literal notranslate\"><span class=\"pre\">alias</span></code></a></p></td>\n",
        "<td><p>Rename the series.</p></td>\n",
        "</tr>\n",
        "<tr class=\"row-odd\"><td><p><a class=\"reference internal\" href=\"api/polars.Series.all.html#polars.Series.all\" title=\"polars.Series.all\"><code class=\"xref py py-obj docutils literal notranslate\"><span class=\"pre\">all</span></code></a></p></td>\n",
        "<td><p>Return whether all values in the column are <code class=\"code docutils literal notranslate\"><span class=\"pre\">True</span></code>.</p></td>\n",
        "</tr>\n",
        "<tr class=\"row-even\"><td><p><a class=\"reference internal\" href=\"api/polars.Series.any.html#polars.Series.any\" title=\"polars.Series.any\"><code class=\"xref py py-obj docutils literal notranslate\"><span class=\"pre\">any</span></code></a></p></td>\n",
        "<td><p>Return whether any of the values in the column are <code class=\"code docutils literal notranslate\"><span class=\"pre\">True</span></code>.</p></td>\n",
        "</tr>\n",
        "<tr class=\"row-odd\"><td><p><a class=\"reference internal\" href=\"api/polars.Series.append.html#polars.Series.append\" title=\"polars.Series.append\"><code class=\"xref py py-obj docutils literal notranslate\"><span class=\"pre\">append</span></code></a></p></td>\n",
        "<td><p>Append a Series to this one.</p></td>\n",
        "</tr>\n",
        "<tr class=\"row-even\"><td><p><a class=\"reference internal\" href=\"api/polars.Series.approx_n_unique.html#polars.Series.approx_n_unique\" title=\"polars.Series.approx_n_unique\"><code class=\"xref py py-obj docutils literal notranslate\"><span class=\"pre\">approx_n_unique</span></code></a></p></td>\n",
        "<td><p>Approximate count of unique values.</p></td>\n",
        "</tr>\n",
        "<tr class=\"row-odd\"><td><p><a class=\"reference internal\" href=\"api/polars.Series.arccos.html#polars.Series.arccos\" title=\"polars.Series.arccos\"><code class=\"xref py py-obj docutils literal notranslate\"><span class=\"pre\">arccos</span></code></a></p></td>\n",
        "<td><p>Compute the element-wise value for the inverse cosine.</p></td>\n",
        "</tr>\n",
        "<tr class=\"row-even\"><td><p><a class=\"reference internal\" href=\"api/polars.Series.arccosh.html#polars.Series.arccosh\" title=\"polars.Series.arccosh\"><code class=\"xref py py-obj docutils literal notranslate\"><span class=\"pre\">arccosh</span></code></a></p></td>\n",
        "<td><p>Compute the element-wise value for the inverse hyperbolic cosine.</p></td>\n",
        "</tr>\n",
        "<tr class=\"row-odd\"><td><p><a class=\"reference internal\" href=\"api/polars.Series.arcsin.html#polars.Series.arcsin\" title=\"polars.Series.arcsin\"><code class=\"xref py py-obj docutils literal notranslate\"><span class=\"pre\">arcsin</span></code></a></p></td>\n",
        "<td><p>Compute the element-wise value for the inverse sine.</p></td>\n",
        "</tr>\n",
        "<tr class=\"row-even\"><td><p><a class=\"reference internal\" href=\"api/polars.Series.arcsinh.html#polars.Series.arcsinh\" title=\"polars.Series.arcsinh\"><code class=\"xref py py-obj docutils literal notranslate\"><span class=\"pre\">arcsinh</span></code></a></p></td>\n",
        "<td><p>Compute the element-wise value for the inverse hyperbolic sine.</p></td>\n",
        "</tr>\n",
        "<tr class=\"row-odd\"><td><p><a class=\"reference internal\" href=\"api/polars.Series.arctan.html#polars.Series.arctan\" title=\"polars.Series.arctan\"><code class=\"xref py py-obj docutils literal notranslate\"><span class=\"pre\">arctan</span></code></a></p></td>\n",
        "<td><p>Compute the element-wise value for the inverse tangent.</p></td>\n",
        "</tr>\n",
        "<tr class=\"row-even\"><td><p><a class=\"reference internal\" href=\"api/polars.Series.arctanh.html#polars.Series.arctanh\" title=\"polars.Series.arctanh\"><code class=\"xref py py-obj docutils literal notranslate\"><span class=\"pre\">arctanh</span></code></a></p></td>\n",
        "<td><p>Compute the element-wise value for the inverse hyperbolic tangent.</p></td>\n",
        "</tr>\n",
        "<tr class=\"row-odd\"><td><p><a class=\"reference internal\" href=\"api/polars.Series.arg_max.html#polars.Series.arg_max\" title=\"polars.Series.arg_max\"><code class=\"xref py py-obj docutils literal notranslate\"><span class=\"pre\">arg_max</span></code></a></p></td>\n",
        "<td><p>Get the index of the maximal value.</p></td>\n",
        "</tr>\n",
        "<tr class=\"row-even\"><td><p><a class=\"reference internal\" href=\"api/polars.Series.arg_min.html#polars.Series.arg_min\" title=\"polars.Series.arg_min\"><code class=\"xref py py-obj docutils literal notranslate\"><span class=\"pre\">arg_min</span></code></a></p></td>\n",
        "<td><p>Get the index of the minimal value.</p></td>\n",
        "</tr>\n",
        "<tr class=\"row-odd\"><td><p><a class=\"reference internal\" href=\"api/polars.Series.arg_sort.html#polars.Series.arg_sort\" title=\"polars.Series.arg_sort\"><code class=\"xref py py-obj docutils literal notranslate\"><span class=\"pre\">arg_sort</span></code></a></p></td>\n",
        "<td><p>Get the index values that would sort this Series.</p></td>\n",
        "</tr>\n",
        "<tr class=\"row-even\"><td><p><a class=\"reference internal\" href=\"api/polars.Series.arg_true.html#polars.Series.arg_true\" title=\"polars.Series.arg_true\"><code class=\"xref py py-obj docutils literal notranslate\"><span class=\"pre\">arg_true</span></code></a></p></td>\n",
        "<td><p>Get index values where Boolean Series evaluate True.</p></td>\n",
        "</tr>\n",
        "<tr class=\"row-odd\"><td><p><a class=\"reference internal\" href=\"api/polars.Series.arg_unique.html#polars.Series.arg_unique\" title=\"polars.Series.arg_unique\"><code class=\"xref py py-obj docutils literal notranslate\"><span class=\"pre\">arg_unique</span></code></a></p></td>\n",
        "<td><p>Get unique index as Series.</p></td>\n",
        "</tr>\n",
        "<tr class=\"row-even\"><td><p><a class=\"reference internal\" href=\"api/polars.Series.bitwise_and.html#polars.Series.bitwise_and\" title=\"polars.Series.bitwise_and\"><code class=\"xref py py-obj docutils literal notranslate\"><span class=\"pre\">bitwise_and</span></code></a></p></td>\n",
        "<td><p>Perform an aggregation of bitwise ANDs.</p></td>\n",
        "</tr>\n",
        "<tr class=\"row-odd\"><td><p><a class=\"reference internal\" href=\"api/polars.Series.bitwise_count_ones.html#polars.Series.bitwise_count_ones\" title=\"polars.Series.bitwise_count_ones\"><code class=\"xref py py-obj docutils literal notranslate\"><span class=\"pre\">bitwise_count_ones</span></code></a></p></td>\n",
        "<td><p>Evaluate the number of set bits.</p></td>\n",
        "</tr>\n",
        "<tr class=\"row-even\"><td><p><a class=\"reference internal\" href=\"api/polars.Series.bitwise_count_zeros.html#polars.Series.bitwise_count_zeros\" title=\"polars.Series.bitwise_count_zeros\"><code class=\"xref py py-obj docutils literal notranslate\"><span class=\"pre\">bitwise_count_zeros</span></code></a></p></td>\n",
        "<td><p>Evaluate the number of unset Self.</p></td>\n",
        "</tr>\n",
        "<tr class=\"row-odd\"><td><p><a class=\"reference internal\" href=\"api/polars.Series.bitwise_leading_ones.html#polars.Series.bitwise_leading_ones\" title=\"polars.Series.bitwise_leading_ones\"><code class=\"xref py py-obj docutils literal notranslate\"><span class=\"pre\">bitwise_leading_ones</span></code></a></p></td>\n",
        "<td><p>Evaluate the number most-significant set bits before seeing an unset bit.</p></td>\n",
        "</tr>\n",
        "<tr class=\"row-even\"><td><p><a class=\"reference internal\" href=\"api/polars.Series.bitwise_leading_zeros.html#polars.Series.bitwise_leading_zeros\" title=\"polars.Series.bitwise_leading_zeros\"><code class=\"xref py py-obj docutils literal notranslate\"><span class=\"pre\">bitwise_leading_zeros</span></code></a></p></td>\n",
        "<td><p>Evaluate the number most-significant unset bits before seeing a set bit.</p></td>\n",
        "</tr>\n",
        "<tr class=\"row-odd\"><td><p><a class=\"reference internal\" href=\"api/polars.Series.bitwise_or.html#polars.Series.bitwise_or\" title=\"polars.Series.bitwise_or\"><code class=\"xref py py-obj docutils literal notranslate\"><span class=\"pre\">bitwise_or</span></code></a></p></td>\n",
        "<td><p>Perform an aggregation of bitwise ORs.</p></td>\n",
        "</tr>\n",
        "<tr class=\"row-even\"><td><p><a class=\"reference internal\" href=\"api/polars.Series.bitwise_trailing_ones.html#polars.Series.bitwise_trailing_ones\" title=\"polars.Series.bitwise_trailing_ones\"><code class=\"xref py py-obj docutils literal notranslate\"><span class=\"pre\">bitwise_trailing_ones</span></code></a></p></td>\n",
        "<td><p>Evaluate the number least-significant set bits before seeing an unset bit.</p></td>\n",
        "</tr>\n",
        "<tr class=\"row-odd\"><td><p><a class=\"reference internal\" href=\"api/polars.Series.bitwise_trailing_zeros.html#polars.Series.bitwise_trailing_zeros\" title=\"polars.Series.bitwise_trailing_zeros\"><code class=\"xref py py-obj docutils literal notranslate\"><span class=\"pre\">bitwise_trailing_zeros</span></code></a></p></td>\n",
        "<td><p>Evaluate the number least-significant unset bits before seeing a set bit.</p></td>\n",
        "</tr>\n",
        "<tr class=\"row-even\"><td><p><a class=\"reference internal\" href=\"api/polars.Series.bitwise_xor.html#polars.Series.bitwise_xor\" title=\"polars.Series.bitwise_xor\"><code class=\"xref py py-obj docutils literal notranslate\"><span class=\"pre\">bitwise_xor</span></code></a></p></td>\n",
        "<td><p>Perform an aggregation of bitwise XORs.</p></td>\n",
        "</tr>\n",
        "<tr class=\"row-odd\"><td><p><a class=\"reference internal\" href=\"api/polars.Series.bottom_k.html#polars.Series.bottom_k\" title=\"polars.Series.bottom_k\"><code class=\"xref py py-obj docutils literal notranslate\"><span class=\"pre\">bottom_k</span></code></a></p></td>\n",
        "<td><p>Return the <code class=\"code docutils literal notranslate\"><span class=\"pre\">k</span></code> smallest elements.</p></td>\n",
        "</tr>\n",
        "<tr class=\"row-even\"><td><p><a class=\"reference internal\" href=\"api/polars.Series.cast.html#polars.Series.cast\" title=\"polars.Series.cast\"><code class=\"xref py py-obj docutils literal notranslate\"><span class=\"pre\">cast</span></code></a></p></td>\n",
        "<td><p>Cast between data types.</p></td>\n",
        "</tr>\n",
        "<tr class=\"row-odd\"><td><p><a class=\"reference internal\" href=\"api/polars.Series.cbrt.html#polars.Series.cbrt\" title=\"polars.Series.cbrt\"><code class=\"xref py py-obj docutils literal notranslate\"><span class=\"pre\">cbrt</span></code></a></p></td>\n",
        "<td><p>Compute the cube root of the elements.</p></td>\n",
        "</tr>\n",
        "<tr class=\"row-even\"><td><p><a class=\"reference internal\" href=\"api/polars.Series.ceil.html#polars.Series.ceil\" title=\"polars.Series.ceil\"><code class=\"xref py py-obj docutils literal notranslate\"><span class=\"pre\">ceil</span></code></a></p></td>\n",
        "<td><p>Rounds up to the nearest integer value.</p></td>\n",
        "</tr>\n",
        "<tr class=\"row-odd\"><td><p><a class=\"reference internal\" href=\"api/polars.Series.chunk_lengths.html#polars.Series.chunk_lengths\" title=\"polars.Series.chunk_lengths\"><code class=\"xref py py-obj docutils literal notranslate\"><span class=\"pre\">chunk_lengths</span></code></a></p></td>\n",
        "<td><p>Get the length of each individual chunk.</p></td>\n",
        "</tr>\n",
        "<tr class=\"row-even\"><td><p><a class=\"reference internal\" href=\"api/polars.Series.clear.html#polars.Series.clear\" title=\"polars.Series.clear\"><code class=\"xref py py-obj docutils literal notranslate\"><span class=\"pre\">clear</span></code></a></p></td>\n",
        "<td><p>Create an empty copy of the current Series, with zero to 'n' elements.</p></td>\n",
        "</tr>\n",
        "<tr class=\"row-odd\"><td><p><a class=\"reference internal\" href=\"api/polars.Series.clip.html#polars.Series.clip\" title=\"polars.Series.clip\"><code class=\"xref py py-obj docutils literal notranslate\"><span class=\"pre\">clip</span></code></a></p></td>\n",
        "<td><p>Set values outside the given boundaries to the boundary value.</p></td>\n",
        "</tr>\n",
        "<tr class=\"row-even\"><td><p><a class=\"reference internal\" href=\"api/polars.Series.clone.html#polars.Series.clone\" title=\"polars.Series.clone\"><code class=\"xref py py-obj docutils literal notranslate\"><span class=\"pre\">clone</span></code></a></p></td>\n",
        "<td><p>Create a copy of this Series.</p></td>\n",
        "</tr>\n",
        "<tr class=\"row-odd\"><td><p><a class=\"reference internal\" href=\"api/polars.Series.cos.html#polars.Series.cos\" title=\"polars.Series.cos\"><code class=\"xref py py-obj docutils literal notranslate\"><span class=\"pre\">cos</span></code></a></p></td>\n",
        "<td><p>Compute the element-wise value for the cosine.</p></td>\n",
        "</tr>\n",
        "<tr class=\"row-even\"><td><p><a class=\"reference internal\" href=\"api/polars.Series.cosh.html#polars.Series.cosh\" title=\"polars.Series.cosh\"><code class=\"xref py py-obj docutils literal notranslate\"><span class=\"pre\">cosh</span></code></a></p></td>\n",
        "<td><p>Compute the element-wise value for the hyperbolic cosine.</p></td>\n",
        "</tr>\n",
        "<tr class=\"row-odd\"><td><p><a class=\"reference internal\" href=\"api/polars.Series.cot.html#polars.Series.cot\" title=\"polars.Series.cot\"><code class=\"xref py py-obj docutils literal notranslate\"><span class=\"pre\">cot</span></code></a></p></td>\n",
        "<td><p>Compute the element-wise value for the cotangent.</p></td>\n",
        "</tr>\n",
        "<tr class=\"row-even\"><td><p><a class=\"reference internal\" href=\"api/polars.Series.count.html#polars.Series.count\" title=\"polars.Series.count\"><code class=\"xref py py-obj docutils literal notranslate\"><span class=\"pre\">count</span></code></a></p></td>\n",
        "<td><p>Return the number of non-null elements in the column.</p></td>\n",
        "</tr>\n",
        "<tr class=\"row-odd\"><td><p><a class=\"reference internal\" href=\"api/polars.Series.cum_count.html#polars.Series.cum_count\" title=\"polars.Series.cum_count\"><code class=\"xref py py-obj docutils literal notranslate\"><span class=\"pre\">cum_count</span></code></a></p></td>\n",
        "<td><p>Return the cumulative count of the non-null values in the column.</p></td>\n",
        "</tr>\n",
        "<tr class=\"row-even\"><td><p><a class=\"reference internal\" href=\"api/polars.Series.cum_max.html#polars.Series.cum_max\" title=\"polars.Series.cum_max\"><code class=\"xref py py-obj docutils literal notranslate\"><span class=\"pre\">cum_max</span></code></a></p></td>\n",
        "<td><p>Get an array with the cumulative max computed at every element.</p></td>\n",
        "</tr>\n",
        "<tr class=\"row-odd\"><td><p><a class=\"reference internal\" href=\"api/polars.Series.cum_min.html#polars.Series.cum_min\" title=\"polars.Series.cum_min\"><code class=\"xref py py-obj docutils literal notranslate\"><span class=\"pre\">cum_min</span></code></a></p></td>\n",
        "<td><p>Get an array with the cumulative min computed at every element.</p></td>\n",
        "</tr>\n",
        "<tr class=\"row-even\"><td><p><a class=\"reference internal\" href=\"api/polars.Series.cum_prod.html#polars.Series.cum_prod\" title=\"polars.Series.cum_prod\"><code class=\"xref py py-obj docutils literal notranslate\"><span class=\"pre\">cum_prod</span></code></a></p></td>\n",
        "<td><p>Get an array with the cumulative product computed at every element.</p></td>\n",
        "</tr>\n",
        "<tr class=\"row-odd\"><td><p><a class=\"reference internal\" href=\"api/polars.Series.cum_sum.html#polars.Series.cum_sum\" title=\"polars.Series.cum_sum\"><code class=\"xref py py-obj docutils literal notranslate\"><span class=\"pre\">cum_sum</span></code></a></p></td>\n",
        "<td><p>Get an array with the cumulative sum computed at every element.</p></td>\n",
        "</tr>\n",
        "<tr class=\"row-even\"><td><p><a class=\"reference internal\" href=\"api/polars.Series.cumulative_eval.html#polars.Series.cumulative_eval\" title=\"polars.Series.cumulative_eval\"><code class=\"xref py py-obj docutils literal notranslate\"><span class=\"pre\">cumulative_eval</span></code></a></p></td>\n",
        "<td><p>Run an expression over a sliding window that increases <code class=\"code docutils literal notranslate\"><span class=\"pre\">1</span></code> slot every iteration.</p></td>\n",
        "</tr>\n",
        "<tr class=\"row-odd\"><td><p><a class=\"reference internal\" href=\"api/polars.Series.cut.html#polars.Series.cut\" title=\"polars.Series.cut\"><code class=\"xref py py-obj docutils literal notranslate\"><span class=\"pre\">cut</span></code></a></p></td>\n",
        "<td><p>Bin continuous values into discrete categories.</p></td>\n",
        "</tr>\n",
        "<tr class=\"row-even\"><td><p><a class=\"reference internal\" href=\"api/polars.Series.describe.html#polars.Series.describe\" title=\"polars.Series.describe\"><code class=\"xref py py-obj docutils literal notranslate\"><span class=\"pre\">describe</span></code></a></p></td>\n",
        "<td><p>Quick summary statistics of a Series.</p></td>\n",
        "</tr>\n",
        "<tr class=\"row-odd\"><td><p><a class=\"reference internal\" href=\"api/polars.Series.diff.html#polars.Series.diff\" title=\"polars.Series.diff\"><code class=\"xref py py-obj docutils literal notranslate\"><span class=\"pre\">diff</span></code></a></p></td>\n",
        "<td><p>Calculate the first discrete difference between shifted items.</p></td>\n",
        "</tr>\n",
        "<tr class=\"row-even\"><td><p><a class=\"reference internal\" href=\"api/polars.Series.dot.html#polars.Series.dot\" title=\"polars.Series.dot\"><code class=\"xref py py-obj docutils literal notranslate\"><span class=\"pre\">dot</span></code></a></p></td>\n",
        "<td><p>Compute the dot/inner product between two Series.</p></td>\n",
        "</tr>\n",
        "<tr class=\"row-odd\"><td><p><a class=\"reference internal\" href=\"api/polars.Series.drop_nans.html#polars.Series.drop_nans\" title=\"polars.Series.drop_nans\"><code class=\"xref py py-obj docutils literal notranslate\"><span class=\"pre\">drop_nans</span></code></a></p></td>\n",
        "<td><p>Drop all floating point NaN values.</p></td>\n",
        "</tr>\n",
        "<tr class=\"row-even\"><td><p><a class=\"reference internal\" href=\"api/polars.Series.drop_nulls.html#polars.Series.drop_nulls\" title=\"polars.Series.drop_nulls\"><code class=\"xref py py-obj docutils literal notranslate\"><span class=\"pre\">drop_nulls</span></code></a></p></td>\n",
        "<td><p>Drop all null values.</p></td>\n",
        "</tr>\n",
        "<tr class=\"row-odd\"><td><p><a class=\"reference internal\" href=\"api/polars.Series.entropy.html#polars.Series.entropy\" title=\"polars.Series.entropy\"><code class=\"xref py py-obj docutils literal notranslate\"><span class=\"pre\">entropy</span></code></a></p></td>\n",
        "<td><p>Computes the entropy.</p></td>\n",
        "</tr>\n",
        "<tr class=\"row-even\"><td><p><a class=\"reference internal\" href=\"api/polars.Series.eq.html#polars.Series.eq\" title=\"polars.Series.eq\"><code class=\"xref py py-obj docutils literal notranslate\"><span class=\"pre\">eq</span></code></a></p></td>\n",
        "<td><p>Method equivalent of operator expression <code class=\"code docutils literal notranslate\"><span class=\"pre\">series</span> <span class=\"pre\">==</span> <span class=\"pre\">other</span></code>.</p></td>\n",
        "</tr>\n",
        "<tr class=\"row-odd\"><td><p><a class=\"reference internal\" href=\"api/polars.Series.eq_missing.html#polars.Series.eq_missing\" title=\"polars.Series.eq_missing\"><code class=\"xref py py-obj docutils literal notranslate\"><span class=\"pre\">eq_missing</span></code></a></p></td>\n",
        "<td><p>Method equivalent of equality operator <code class=\"code docutils literal notranslate\"><span class=\"pre\">series</span> <span class=\"pre\">==</span> <span class=\"pre\">other</span></code> where <code class=\"code docutils literal notranslate\"><span class=\"pre\">None</span> <span class=\"pre\">==</span> <span class=\"pre\">None</span></code>.</p></td>\n",
        "</tr>\n",
        "<tr class=\"row-even\"><td><p><a class=\"reference internal\" href=\"api/polars.Series.equals.html#polars.Series.equals\" title=\"polars.Series.equals\"><code class=\"xref py py-obj docutils literal notranslate\"><span class=\"pre\">equals</span></code></a></p></td>\n",
        "<td><p>Check whether the Series is equal to another Series.</p></td>\n",
        "</tr>\n",
        "<tr class=\"row-odd\"><td><p><a class=\"reference internal\" href=\"api/polars.Series.estimated_size.html#polars.Series.estimated_size\" title=\"polars.Series.estimated_size\"><code class=\"xref py py-obj docutils literal notranslate\"><span class=\"pre\">estimated_size</span></code></a></p></td>\n",
        "<td><p>Return an estimation of the total (heap) allocated size of the Series.</p></td>\n",
        "</tr>\n",
        "<tr class=\"row-even\"><td><p><a class=\"reference internal\" href=\"api/polars.Series.ewm_mean.html#polars.Series.ewm_mean\" title=\"polars.Series.ewm_mean\"><code class=\"xref py py-obj docutils literal notranslate\"><span class=\"pre\">ewm_mean</span></code></a></p></td>\n",
        "<td><p>Compute exponentially-weighted moving average.</p></td>\n",
        "</tr>\n",
        "<tr class=\"row-odd\"><td><p><a class=\"reference internal\" href=\"api/polars.Series.ewm_mean_by.html#polars.Series.ewm_mean_by\" title=\"polars.Series.ewm_mean_by\"><code class=\"xref py py-obj docutils literal notranslate\"><span class=\"pre\">ewm_mean_by</span></code></a></p></td>\n",
        "<td><p>Compute time-based exponentially weighted moving average.</p></td>\n",
        "</tr>\n",
        "<tr class=\"row-even\"><td><p><a class=\"reference internal\" href=\"api/polars.Series.ewm_std.html#polars.Series.ewm_std\" title=\"polars.Series.ewm_std\"><code class=\"xref py py-obj docutils literal notranslate\"><span class=\"pre\">ewm_std</span></code></a></p></td>\n",
        "<td><p>Compute exponentially-weighted moving standard deviation.</p></td>\n",
        "</tr>\n",
        "<tr class=\"row-odd\"><td><p><a class=\"reference internal\" href=\"api/polars.Series.ewm_var.html#polars.Series.ewm_var\" title=\"polars.Series.ewm_var\"><code class=\"xref py py-obj docutils literal notranslate\"><span class=\"pre\">ewm_var</span></code></a></p></td>\n",
        "<td><p>Compute exponentially-weighted moving variance.</p></td>\n",
        "</tr>\n",
        "<tr class=\"row-even\"><td><p><a class=\"reference internal\" href=\"api/polars.Series.exp.html#polars.Series.exp\" title=\"polars.Series.exp\"><code class=\"xref py py-obj docutils literal notranslate\"><span class=\"pre\">exp</span></code></a></p></td>\n",
        "<td><p>Compute the exponential, element-wise.</p></td>\n",
        "</tr>\n",
        "<tr class=\"row-odd\"><td><p><a class=\"reference internal\" href=\"api/polars.Series.explode.html#polars.Series.explode\" title=\"polars.Series.explode\"><code class=\"xref py py-obj docutils literal notranslate\"><span class=\"pre\">explode</span></code></a></p></td>\n",
        "<td><p>Explode a list Series.</p></td>\n",
        "</tr>\n",
        "<tr class=\"row-even\"><td><p><a class=\"reference internal\" href=\"api/polars.Series.extend.html#polars.Series.extend\" title=\"polars.Series.extend\"><code class=\"xref py py-obj docutils literal notranslate\"><span class=\"pre\">extend</span></code></a></p></td>\n",
        "<td><p>Extend the memory backed by this Series with the values from another.</p></td>\n",
        "</tr>\n",
        "<tr class=\"row-odd\"><td><p><a class=\"reference internal\" href=\"api/polars.Series.extend_constant.html#polars.Series.extend_constant\" title=\"polars.Series.extend_constant\"><code class=\"xref py py-obj docutils literal notranslate\"><span class=\"pre\">extend_constant</span></code></a></p></td>\n",
        "<td><p>Extremely fast method for extending the Series with 'n' copies of a value.</p></td>\n",
        "</tr>\n",
        "<tr class=\"row-even\"><td><p><a class=\"reference internal\" href=\"api/polars.Series.fill_nan.html#polars.Series.fill_nan\" title=\"polars.Series.fill_nan\"><code class=\"xref py py-obj docutils literal notranslate\"><span class=\"pre\">fill_nan</span></code></a></p></td>\n",
        "<td><p>Fill floating point NaN value with a fill value.</p></td>\n",
        "</tr>\n",
        "<tr class=\"row-odd\"><td><p><a class=\"reference internal\" href=\"api/polars.Series.fill_null.html#polars.Series.fill_null\" title=\"polars.Series.fill_null\"><code class=\"xref py py-obj docutils literal notranslate\"><span class=\"pre\">fill_null</span></code></a></p></td>\n",
        "<td><p>Fill null values using the specified value or strategy.</p></td>\n",
        "</tr>\n",
        "<tr class=\"row-even\"><td><p><a class=\"reference internal\" href=\"api/polars.Series.filter.html#polars.Series.filter\" title=\"polars.Series.filter\"><code class=\"xref py py-obj docutils literal notranslate\"><span class=\"pre\">filter</span></code></a></p></td>\n",
        "<td><p>Filter elements by a boolean mask.</p></td>\n",
        "</tr>\n",
        "<tr class=\"row-odd\"><td><p><a class=\"reference internal\" href=\"api/polars.Series.first.html#polars.Series.first\" title=\"polars.Series.first\"><code class=\"xref py py-obj docutils literal notranslate\"><span class=\"pre\">first</span></code></a></p></td>\n",
        "<td><p>Get the first element of the Series.</p></td>\n",
        "</tr>\n",
        "<tr class=\"row-even\"><td><p><a class=\"reference internal\" href=\"api/polars.Series.floor.html#polars.Series.floor\" title=\"polars.Series.floor\"><code class=\"xref py py-obj docutils literal notranslate\"><span class=\"pre\">floor</span></code></a></p></td>\n",
        "<td><p>Rounds down to the nearest integer value.</p></td>\n",
        "</tr>\n",
        "<tr class=\"row-odd\"><td><p><a class=\"reference internal\" href=\"api/polars.Series.gather.html#polars.Series.gather\" title=\"polars.Series.gather\"><code class=\"xref py py-obj docutils literal notranslate\"><span class=\"pre\">gather</span></code></a></p></td>\n",
        "<td><p>Take values by index.</p></td>\n",
        "</tr>\n",
        "<tr class=\"row-even\"><td><p><a class=\"reference internal\" href=\"api/polars.Series.gather_every.html#polars.Series.gather_every\" title=\"polars.Series.gather_every\"><code class=\"xref py py-obj docutils literal notranslate\"><span class=\"pre\">gather_every</span></code></a></p></td>\n",
        "<td><p>Take every nth value in the Series and return as new Series.</p></td>\n",
        "</tr>\n",
        "<tr class=\"row-odd\"><td><p><a class=\"reference internal\" href=\"api/polars.Series.ge.html#polars.Series.ge\" title=\"polars.Series.ge\"><code class=\"xref py py-obj docutils literal notranslate\"><span class=\"pre\">ge</span></code></a></p></td>\n",
        "<td><p>Method equivalent of operator expression <code class=\"code docutils literal notranslate\"><span class=\"pre\">series</span> <span class=\"pre\">&gt;=</span> <span class=\"pre\">other</span></code>.</p></td>\n",
        "</tr>\n",
        "<tr class=\"row-even\"><td><p><a class=\"reference internal\" href=\"api/polars.Series.get_chunks.html#polars.Series.get_chunks\" title=\"polars.Series.get_chunks\"><code class=\"xref py py-obj docutils literal notranslate\"><span class=\"pre\">get_chunks</span></code></a></p></td>\n",
        "<td><p>Get the chunks of this Series as a list of Series.</p></td>\n",
        "</tr>\n",
        "<tr class=\"row-odd\"><td><p><a class=\"reference internal\" href=\"api/polars.Series.gt.html#polars.Series.gt\" title=\"polars.Series.gt\"><code class=\"xref py py-obj docutils literal notranslate\"><span class=\"pre\">gt</span></code></a></p></td>\n",
        "<td><p>Method equivalent of operator expression <code class=\"code docutils literal notranslate\"><span class=\"pre\">series</span> <span class=\"pre\">&gt;</span> <span class=\"pre\">other</span></code>.</p></td>\n",
        "</tr>\n",
        "<tr class=\"row-even\"><td><p><a class=\"reference internal\" href=\"api/polars.Series.has_nulls.html#polars.Series.has_nulls\" title=\"polars.Series.has_nulls\"><code class=\"xref py py-obj docutils literal notranslate\"><span class=\"pre\">has_nulls</span></code></a></p></td>\n",
        "<td><p>Check whether the Series contains one or more null values.</p></td>\n",
        "</tr>\n",
        "<tr class=\"row-odd\"><td><p><a class=\"reference internal\" href=\"api/polars.Series.has_validity.html#polars.Series.has_validity\" title=\"polars.Series.has_validity\"><code class=\"xref py py-obj docutils literal notranslate\"><span class=\"pre\">has_validity</span></code></a></p></td>\n",
        "<td><p>Check whether the Series contains one or more null values.</p></td>\n",
        "</tr>\n",
        "<tr class=\"row-even\"><td><p><a class=\"reference internal\" href=\"api/polars.Series.hash.html#polars.Series.hash\" title=\"polars.Series.hash\"><code class=\"xref py py-obj docutils literal notranslate\"><span class=\"pre\">hash</span></code></a></p></td>\n",
        "<td><p>Hash the Series.</p></td>\n",
        "</tr>\n",
        "<tr class=\"row-odd\"><td><p><a class=\"reference internal\" href=\"api/polars.Series.head.html#polars.Series.head\" title=\"polars.Series.head\"><code class=\"xref py py-obj docutils literal notranslate\"><span class=\"pre\">head</span></code></a></p></td>\n",
        "<td><p>Get the first <code class=\"code docutils literal notranslate\"><span class=\"pre\">n</span></code> elements.</p></td>\n",
        "</tr>\n",
        "<tr class=\"row-even\"><td><p><a class=\"reference internal\" href=\"api/polars.Series.hist.html#polars.Series.hist\" title=\"polars.Series.hist\"><code class=\"xref py py-obj docutils literal notranslate\"><span class=\"pre\">hist</span></code></a></p></td>\n",
        "<td><p>Bin values into buckets and count their occurrences.</p></td>\n",
        "</tr>\n",
        "<tr class=\"row-odd\"><td><p><a class=\"reference internal\" href=\"api/polars.Series.implode.html#polars.Series.implode\" title=\"polars.Series.implode\"><code class=\"xref py py-obj docutils literal notranslate\"><span class=\"pre\">implode</span></code></a></p></td>\n",
        "<td><p>Aggregate values into a list.</p></td>\n",
        "</tr>\n",
        "<tr class=\"row-even\"><td><p><a class=\"reference internal\" href=\"api/polars.Series.index_of.html#polars.Series.index_of\" title=\"polars.Series.index_of\"><code class=\"xref py py-obj docutils literal notranslate\"><span class=\"pre\">index_of</span></code></a></p></td>\n",
        "<td><p>Get the index of the first occurrence of a value, or <code class=\"docutils literal notranslate\"><span class=\"pre\">None</span></code> if it's not found.</p></td>\n",
        "</tr>\n",
        "<tr class=\"row-odd\"><td><p><a class=\"reference internal\" href=\"api/polars.Series.interpolate.html#polars.Series.interpolate\" title=\"polars.Series.interpolate\"><code class=\"xref py py-obj docutils literal notranslate\"><span class=\"pre\">interpolate</span></code></a></p></td>\n",
        "<td><p>Fill null values using interpolation.</p></td>\n",
        "</tr>\n",
        "<tr class=\"row-even\"><td><p><a class=\"reference internal\" href=\"api/polars.Series.interpolate_by.html#polars.Series.interpolate_by\" title=\"polars.Series.interpolate_by\"><code class=\"xref py py-obj docutils literal notranslate\"><span class=\"pre\">interpolate_by</span></code></a></p></td>\n",
        "<td><p>Fill null values using interpolation based on another column.</p></td>\n",
        "</tr>\n",
        "<tr class=\"row-odd\"><td><p><a class=\"reference internal\" href=\"api/polars.Series.is_between.html#polars.Series.is_between\" title=\"polars.Series.is_between\"><code class=\"xref py py-obj docutils literal notranslate\"><span class=\"pre\">is_between</span></code></a></p></td>\n",
        "<td><p>Get a boolean mask of the values that are between the given lower/upper bounds.</p></td>\n",
        "</tr>\n",
        "<tr class=\"row-even\"><td><p><a class=\"reference internal\" href=\"api/polars.Series.is_duplicated.html#polars.Series.is_duplicated\" title=\"polars.Series.is_duplicated\"><code class=\"xref py py-obj docutils literal notranslate\"><span class=\"pre\">is_duplicated</span></code></a></p></td>\n",
        "<td><p>Get mask of all duplicated values.</p></td>\n",
        "</tr>\n",
        "<tr class=\"row-odd\"><td><p><a class=\"reference internal\" href=\"api/polars.Series.is_empty.html#polars.Series.is_empty\" title=\"polars.Series.is_empty\"><code class=\"xref py py-obj docutils literal notranslate\"><span class=\"pre\">is_empty</span></code></a></p></td>\n",
        "<td><p>Check if the Series is empty.</p></td>\n",
        "</tr>\n",
        "<tr class=\"row-even\"><td><p><a class=\"reference internal\" href=\"api/polars.Series.is_finite.html#polars.Series.is_finite\" title=\"polars.Series.is_finite\"><code class=\"xref py py-obj docutils literal notranslate\"><span class=\"pre\">is_finite</span></code></a></p></td>\n",
        "<td><p>Returns a boolean Series indicating which values are finite.</p></td>\n",
        "</tr>\n",
        "<tr class=\"row-odd\"><td><p><a class=\"reference internal\" href=\"api/polars.Series.is_first_distinct.html#polars.Series.is_first_distinct\" title=\"polars.Series.is_first_distinct\"><code class=\"xref py py-obj docutils literal notranslate\"><span class=\"pre\">is_first_distinct</span></code></a></p></td>\n",
        "<td><p>Return a boolean mask indicating the first occurrence of each distinct value.</p></td>\n",
        "</tr>\n",
        "<tr class=\"row-even\"><td><p><a class=\"reference internal\" href=\"api/polars.Series.is_in.html#polars.Series.is_in\" title=\"polars.Series.is_in\"><code class=\"xref py py-obj docutils literal notranslate\"><span class=\"pre\">is_in</span></code></a></p></td>\n",
        "<td><p>Check if elements of this Series are in the other Series.</p></td>\n",
        "</tr>\n",
        "<tr class=\"row-odd\"><td><p><a class=\"reference internal\" href=\"api/polars.Series.is_infinite.html#polars.Series.is_infinite\" title=\"polars.Series.is_infinite\"><code class=\"xref py py-obj docutils literal notranslate\"><span class=\"pre\">is_infinite</span></code></a></p></td>\n",
        "<td><p>Returns a boolean Series indicating which values are infinite.</p></td>\n",
        "</tr>\n",
        "<tr class=\"row-even\"><td><p><a class=\"reference internal\" href=\"api/polars.Series.is_last_distinct.html#polars.Series.is_last_distinct\" title=\"polars.Series.is_last_distinct\"><code class=\"xref py py-obj docutils literal notranslate\"><span class=\"pre\">is_last_distinct</span></code></a></p></td>\n",
        "<td><p>Return a boolean mask indicating the last occurrence of each distinct value.</p></td>\n",
        "</tr>\n",
        "<tr class=\"row-odd\"><td><p><a class=\"reference internal\" href=\"api/polars.Series.is_nan.html#polars.Series.is_nan\" title=\"polars.Series.is_nan\"><code class=\"xref py py-obj docutils literal notranslate\"><span class=\"pre\">is_nan</span></code></a></p></td>\n",
        "<td><p>Returns a boolean Series indicating which values are NaN.</p></td>\n",
        "</tr>\n",
        "<tr class=\"row-even\"><td><p><a class=\"reference internal\" href=\"api/polars.Series.is_not_nan.html#polars.Series.is_not_nan\" title=\"polars.Series.is_not_nan\"><code class=\"xref py py-obj docutils literal notranslate\"><span class=\"pre\">is_not_nan</span></code></a></p></td>\n",
        "<td><p>Returns a boolean Series indicating which values are not NaN.</p></td>\n",
        "</tr>\n",
        "<tr class=\"row-odd\"><td><p><a class=\"reference internal\" href=\"api/polars.Series.is_not_null.html#polars.Series.is_not_null\" title=\"polars.Series.is_not_null\"><code class=\"xref py py-obj docutils literal notranslate\"><span class=\"pre\">is_not_null</span></code></a></p></td>\n",
        "<td><p>Returns a boolean Series indicating which values are not null.</p></td>\n",
        "</tr>\n",
        "<tr class=\"row-even\"><td><p><a class=\"reference internal\" href=\"api/polars.Series.is_null.html#polars.Series.is_null\" title=\"polars.Series.is_null\"><code class=\"xref py py-obj docutils literal notranslate\"><span class=\"pre\">is_null</span></code></a></p></td>\n",
        "<td><p>Returns a boolean Series indicating which values are null.</p></td>\n",
        "</tr>\n",
        "<tr class=\"row-odd\"><td><p><a class=\"reference internal\" href=\"api/polars.Series.is_sorted.html#polars.Series.is_sorted\" title=\"polars.Series.is_sorted\"><code class=\"xref py py-obj docutils literal notranslate\"><span class=\"pre\">is_sorted</span></code></a></p></td>\n",
        "<td><p>Check if the Series is sorted.</p></td>\n",
        "</tr>\n",
        "<tr class=\"row-even\"><td><p><a class=\"reference internal\" href=\"api/polars.Series.is_unique.html#polars.Series.is_unique\" title=\"polars.Series.is_unique\"><code class=\"xref py py-obj docutils literal notranslate\"><span class=\"pre\">is_unique</span></code></a></p></td>\n",
        "<td><p>Get mask of all unique values.</p></td>\n",
        "</tr>\n",
        "<tr class=\"row-odd\"><td><p><a class=\"reference internal\" href=\"api/polars.Series.item.html#polars.Series.item\" title=\"polars.Series.item\"><code class=\"xref py py-obj docutils literal notranslate\"><span class=\"pre\">item</span></code></a></p></td>\n",
        "<td><p>Return the Series as a scalar, or return the element at the given index.</p></td>\n",
        "</tr>\n",
        "<tr class=\"row-even\"><td><p><a class=\"reference internal\" href=\"api/polars.Series.kurtosis.html#polars.Series.kurtosis\" title=\"polars.Series.kurtosis\"><code class=\"xref py py-obj docutils literal notranslate\"><span class=\"pre\">kurtosis</span></code></a></p></td>\n",
        "<td><p>Compute the kurtosis (Fisher or Pearson) of a dataset.</p></td>\n",
        "</tr>\n",
        "<tr class=\"row-odd\"><td><p><a class=\"reference internal\" href=\"api/polars.Series.last.html#polars.Series.last\" title=\"polars.Series.last\"><code class=\"xref py py-obj docutils literal notranslate\"><span class=\"pre\">last</span></code></a></p></td>\n",
        "<td><p>Get the last element of the Series.</p></td>\n",
        "</tr>\n",
        "<tr class=\"row-even\"><td><p><a class=\"reference internal\" href=\"api/polars.Series.le.html#polars.Series.le\" title=\"polars.Series.le\"><code class=\"xref py py-obj docutils literal notranslate\"><span class=\"pre\">le</span></code></a></p></td>\n",
        "<td><p>Method equivalent of operator expression <code class=\"code docutils literal notranslate\"><span class=\"pre\">series</span> <span class=\"pre\">&lt;=</span> <span class=\"pre\">other</span></code>.</p></td>\n",
        "</tr>\n",
        "<tr class=\"row-odd\"><td><p><a class=\"reference internal\" href=\"api/polars.Series.len.html#polars.Series.len\" title=\"polars.Series.len\"><code class=\"xref py py-obj docutils literal notranslate\"><span class=\"pre\">len</span></code></a></p></td>\n",
        "<td><p>Return the number of elements in the Series.</p></td>\n",
        "</tr>\n",
        "<tr class=\"row-even\"><td><p><a class=\"reference internal\" href=\"api/polars.Series.limit.html#polars.Series.limit\" title=\"polars.Series.limit\"><code class=\"xref py py-obj docutils literal notranslate\"><span class=\"pre\">limit</span></code></a></p></td>\n",
        "<td><p>Get the first <code class=\"code docutils literal notranslate\"><span class=\"pre\">n</span></code> elements.</p></td>\n",
        "</tr>\n",
        "<tr class=\"row-odd\"><td><p><a class=\"reference internal\" href=\"api/polars.Series.log.html#polars.Series.log\" title=\"polars.Series.log\"><code class=\"xref py py-obj docutils literal notranslate\"><span class=\"pre\">log</span></code></a></p></td>\n",
        "<td><p>Compute the logarithm to a given base.</p></td>\n",
        "</tr>\n",
        "<tr class=\"row-even\"><td><p><a class=\"reference internal\" href=\"api/polars.Series.log10.html#polars.Series.log10\" title=\"polars.Series.log10\"><code class=\"xref py py-obj docutils literal notranslate\"><span class=\"pre\">log10</span></code></a></p></td>\n",
        "<td><p>Compute the base 10 logarithm of the input array, element-wise.</p></td>\n",
        "</tr>\n",
        "<tr class=\"row-odd\"><td><p><a class=\"reference internal\" href=\"api/polars.Series.log1p.html#polars.Series.log1p\" title=\"polars.Series.log1p\"><code class=\"xref py py-obj docutils literal notranslate\"><span class=\"pre\">log1p</span></code></a></p></td>\n",
        "<td><p>Compute the natural logarithm of the input array plus one, element-wise.</p></td>\n",
        "</tr>\n",
        "<tr class=\"row-even\"><td><p><a class=\"reference internal\" href=\"api/polars.Series.lower_bound.html#polars.Series.lower_bound\" title=\"polars.Series.lower_bound\"><code class=\"xref py py-obj docutils literal notranslate\"><span class=\"pre\">lower_bound</span></code></a></p></td>\n",
        "<td><p>Return the lower bound of this Series' dtype as a unit Series.</p></td>\n",
        "</tr>\n",
        "<tr class=\"row-odd\"><td><p><a class=\"reference internal\" href=\"api/polars.Series.lt.html#polars.Series.lt\" title=\"polars.Series.lt\"><code class=\"xref py py-obj docutils literal notranslate\"><span class=\"pre\">lt</span></code></a></p></td>\n",
        "<td><p>Method equivalent of operator expression <code class=\"code docutils literal notranslate\"><span class=\"pre\">series</span> <span class=\"pre\">&lt;</span> <span class=\"pre\">other</span></code>.</p></td>\n",
        "</tr>\n",
        "<tr class=\"row-even\"><td><p><a class=\"reference internal\" href=\"api/polars.Series.map_elements.html#polars.Series.map_elements\" title=\"polars.Series.map_elements\"><code class=\"xref py py-obj docutils literal notranslate\"><span class=\"pre\">map_elements</span></code></a></p></td>\n",
        "<td><p>Map a custom/user-defined function (UDF) over elements in this Series.</p></td>\n",
        "</tr>\n",
        "<tr class=\"row-odd\"><td><p><a class=\"reference internal\" href=\"api/polars.Series.max.html#polars.Series.max\" title=\"polars.Series.max\"><code class=\"xref py py-obj docutils literal notranslate\"><span class=\"pre\">max</span></code></a></p></td>\n",
        "<td><p>Get the maximum value in this Series.</p></td>\n",
        "</tr>\n",
        "<tr class=\"row-even\"><td><p><a class=\"reference internal\" href=\"api/polars.Series.mean.html#polars.Series.mean\" title=\"polars.Series.mean\"><code class=\"xref py py-obj docutils literal notranslate\"><span class=\"pre\">mean</span></code></a></p></td>\n",
        "<td><p>Reduce this Series to the mean value.</p></td>\n",
        "</tr>\n",
        "<tr class=\"row-odd\"><td><p><a class=\"reference internal\" href=\"api/polars.Series.median.html#polars.Series.median\" title=\"polars.Series.median\"><code class=\"xref py py-obj docutils literal notranslate\"><span class=\"pre\">median</span></code></a></p></td>\n",
        "<td><p>Get the median of this Series.</p></td>\n",
        "</tr>\n",
        "<tr class=\"row-even\"><td><p><a class=\"reference internal\" href=\"api/polars.Series.min.html#polars.Series.min\" title=\"polars.Series.min\"><code class=\"xref py py-obj docutils literal notranslate\"><span class=\"pre\">min</span></code></a></p></td>\n",
        "<td><p>Get the minimal value in this Series.</p></td>\n",
        "</tr>\n",
        "<tr class=\"row-odd\"><td><p><a class=\"reference internal\" href=\"api/polars.Series.mode.html#polars.Series.mode\" title=\"polars.Series.mode\"><code class=\"xref py py-obj docutils literal notranslate\"><span class=\"pre\">mode</span></code></a></p></td>\n",
        "<td><p>Compute the most occurring value(s).</p></td>\n",
        "</tr>\n",
        "<tr class=\"row-even\"><td><p><a class=\"reference internal\" href=\"api/polars.Series.n_chunks.html#polars.Series.n_chunks\" title=\"polars.Series.n_chunks\"><code class=\"xref py py-obj docutils literal notranslate\"><span class=\"pre\">n_chunks</span></code></a></p></td>\n",
        "<td><p>Get the number of chunks that this Series contains.</p></td>\n",
        "</tr>\n",
        "<tr class=\"row-odd\"><td><p><a class=\"reference internal\" href=\"api/polars.Series.n_unique.html#polars.Series.n_unique\" title=\"polars.Series.n_unique\"><code class=\"xref py py-obj docutils literal notranslate\"><span class=\"pre\">n_unique</span></code></a></p></td>\n",
        "<td><p>Count the number of unique values in this Series.</p></td>\n",
        "</tr>\n",
        "<tr class=\"row-even\"><td><p><a class=\"reference internal\" href=\"api/polars.Series.nan_max.html#polars.Series.nan_max\" title=\"polars.Series.nan_max\"><code class=\"xref py py-obj docutils literal notranslate\"><span class=\"pre\">nan_max</span></code></a></p></td>\n",
        "<td><p>Get maximum value, but propagate/poison encountered NaN values.</p></td>\n",
        "</tr>\n",
        "<tr class=\"row-odd\"><td><p><a class=\"reference internal\" href=\"api/polars.Series.nan_min.html#polars.Series.nan_min\" title=\"polars.Series.nan_min\"><code class=\"xref py py-obj docutils literal notranslate\"><span class=\"pre\">nan_min</span></code></a></p></td>\n",
        "<td><p>Get minimum value, but propagate/poison encountered NaN values.</p></td>\n",
        "</tr>\n",
        "<tr class=\"row-even\"><td><p><a class=\"reference internal\" href=\"api/polars.Series.ne.html#polars.Series.ne\" title=\"polars.Series.ne\"><code class=\"xref py py-obj docutils literal notranslate\"><span class=\"pre\">ne</span></code></a></p></td>\n",
        "<td><p>Method equivalent of operator expression <code class=\"code docutils literal notranslate\"><span class=\"pre\">series</span> <span class=\"pre\">!=</span> <span class=\"pre\">other</span></code>.</p></td>\n",
        "</tr>\n",
        "<tr class=\"row-odd\"><td><p><a class=\"reference internal\" href=\"api/polars.Series.ne_missing.html#polars.Series.ne_missing\" title=\"polars.Series.ne_missing\"><code class=\"xref py py-obj docutils literal notranslate\"><span class=\"pre\">ne_missing</span></code></a></p></td>\n",
        "<td><p>Method equivalent of equality operator <code class=\"code docutils literal notranslate\"><span class=\"pre\">series</span> <span class=\"pre\">!=</span> <span class=\"pre\">other</span></code> where <code class=\"code docutils literal notranslate\"><span class=\"pre\">None</span> <span class=\"pre\">==</span> <span class=\"pre\">None</span></code>.</p></td>\n",
        "</tr>\n",
        "<tr class=\"row-even\"><td><p><a class=\"reference internal\" href=\"api/polars.Series.new_from_index.html#polars.Series.new_from_index\" title=\"polars.Series.new_from_index\"><code class=\"xref py py-obj docutils literal notranslate\"><span class=\"pre\">new_from_index</span></code></a></p></td>\n",
        "<td><p>Create a new Series filled with values from the given index.</p></td>\n",
        "</tr>\n",
        "<tr class=\"row-odd\"><td><p><a class=\"reference internal\" href=\"api/polars.Series.not_.html#polars.Series.not_\" title=\"polars.Series.not_\"><code class=\"xref py py-obj docutils literal notranslate\"><span class=\"pre\">not_</span></code></a></p></td>\n",
        "<td><p>Negate a boolean Series.</p></td>\n",
        "</tr>\n",
        "<tr class=\"row-even\"><td><p><a class=\"reference internal\" href=\"api/polars.Series.null_count.html#polars.Series.null_count\" title=\"polars.Series.null_count\"><code class=\"xref py py-obj docutils literal notranslate\"><span class=\"pre\">null_count</span></code></a></p></td>\n",
        "<td><p>Count the null values in this Series.</p></td>\n",
        "</tr>\n",
        "<tr class=\"row-odd\"><td><p><a class=\"reference internal\" href=\"api/polars.Series.pct_change.html#polars.Series.pct_change\" title=\"polars.Series.pct_change\"><code class=\"xref py py-obj docutils literal notranslate\"><span class=\"pre\">pct_change</span></code></a></p></td>\n",
        "<td><p>Computes percentage change between values.</p></td>\n",
        "</tr>\n",
        "<tr class=\"row-even\"><td><p><a class=\"reference internal\" href=\"api/polars.Series.peak_max.html#polars.Series.peak_max\" title=\"polars.Series.peak_max\"><code class=\"xref py py-obj docutils literal notranslate\"><span class=\"pre\">peak_max</span></code></a></p></td>\n",
        "<td><p>Get a boolean mask of the local maximum peaks.</p></td>\n",
        "</tr>\n",
        "<tr class=\"row-odd\"><td><p><a class=\"reference internal\" href=\"api/polars.Series.peak_min.html#polars.Series.peak_min\" title=\"polars.Series.peak_min\"><code class=\"xref py py-obj docutils literal notranslate\"><span class=\"pre\">peak_min</span></code></a></p></td>\n",
        "<td><p>Get a boolean mask of the local minimum peaks.</p></td>\n",
        "</tr>\n",
        "<tr class=\"row-even\"><td><p><a class=\"reference internal\" href=\"api/polars.Series.pow.html#polars.Series.pow\" title=\"polars.Series.pow\"><code class=\"xref py py-obj docutils literal notranslate\"><span class=\"pre\">pow</span></code></a></p></td>\n",
        "<td><p>Raise to the power of the given exponent.</p></td>\n",
        "</tr>\n",
        "<tr class=\"row-odd\"><td><p><a class=\"reference internal\" href=\"api/polars.Series.product.html#polars.Series.product\" title=\"polars.Series.product\"><code class=\"xref py py-obj docutils literal notranslate\"><span class=\"pre\">product</span></code></a></p></td>\n",
        "<td><p>Reduce this Series to the product value.</p></td>\n",
        "</tr>\n",
        "<tr class=\"row-even\"><td><p><a class=\"reference internal\" href=\"api/polars.Series.qcut.html#polars.Series.qcut\" title=\"polars.Series.qcut\"><code class=\"xref py py-obj docutils literal notranslate\"><span class=\"pre\">qcut</span></code></a></p></td>\n",
        "<td><p>Bin continuous values into discrete categories based on their quantiles.</p></td>\n",
        "</tr>\n",
        "<tr class=\"row-odd\"><td><p><a class=\"reference internal\" href=\"api/polars.Series.quantile.html#polars.Series.quantile\" title=\"polars.Series.quantile\"><code class=\"xref py py-obj docutils literal notranslate\"><span class=\"pre\">quantile</span></code></a></p></td>\n",
        "<td><p>Get the quantile value of this Series.</p></td>\n",
        "</tr>\n",
        "<tr class=\"row-even\"><td><p><a class=\"reference internal\" href=\"api/polars.Series.rank.html#polars.Series.rank\" title=\"polars.Series.rank\"><code class=\"xref py py-obj docutils literal notranslate\"><span class=\"pre\">rank</span></code></a></p></td>\n",
        "<td><p>Assign ranks to data, dealing with ties appropriately.</p></td>\n",
        "</tr>\n",
        "<tr class=\"row-odd\"><td><p><a class=\"reference internal\" href=\"api/polars.Series.rechunk.html#polars.Series.rechunk\" title=\"polars.Series.rechunk\"><code class=\"xref py py-obj docutils literal notranslate\"><span class=\"pre\">rechunk</span></code></a></p></td>\n",
        "<td><p>Create a single chunk of memory for this Series.</p></td>\n",
        "</tr>\n",
        "<tr class=\"row-even\"><td><p><a class=\"reference internal\" href=\"api/polars.Series.reinterpret.html#polars.Series.reinterpret\" title=\"polars.Series.reinterpret\"><code class=\"xref py py-obj docutils literal notranslate\"><span class=\"pre\">reinterpret</span></code></a></p></td>\n",
        "<td><p>Reinterpret the underlying bits as a signed/unsigned integer.</p></td>\n",
        "</tr>\n",
        "<tr class=\"row-odd\"><td><p><a class=\"reference internal\" href=\"api/polars.Series.rename.html#polars.Series.rename\" title=\"polars.Series.rename\"><code class=\"xref py py-obj docutils literal notranslate\"><span class=\"pre\">rename</span></code></a></p></td>\n",
        "<td><p>Rename this Series.</p></td>\n",
        "</tr>\n",
        "<tr class=\"row-even\"><td><p><a class=\"reference internal\" href=\"api/polars.Series.replace.html#polars.Series.replace\" title=\"polars.Series.replace\"><code class=\"xref py py-obj docutils literal notranslate\"><span class=\"pre\">replace</span></code></a></p></td>\n",
        "<td><p>Replace values by different values of the same data type.</p></td>\n",
        "</tr>\n",
        "<tr class=\"row-odd\"><td><p><a class=\"reference internal\" href=\"api/polars.Series.replace_strict.html#polars.Series.replace_strict\" title=\"polars.Series.replace_strict\"><code class=\"xref py py-obj docutils literal notranslate\"><span class=\"pre\">replace_strict</span></code></a></p></td>\n",
        "<td><p>Replace all values by different values.</p></td>\n",
        "</tr>\n",
        "<tr class=\"row-even\"><td><p><a class=\"reference internal\" href=\"api/polars.Series.reshape.html#polars.Series.reshape\" title=\"polars.Series.reshape\"><code class=\"xref py py-obj docutils literal notranslate\"><span class=\"pre\">reshape</span></code></a></p></td>\n",
        "<td><p>Reshape this Series to a flat Series or an Array Series.</p></td>\n",
        "</tr>\n",
        "<tr class=\"row-odd\"><td><p><a class=\"reference internal\" href=\"api/polars.Series.reverse.html#polars.Series.reverse\" title=\"polars.Series.reverse\"><code class=\"xref py py-obj docutils literal notranslate\"><span class=\"pre\">reverse</span></code></a></p></td>\n",
        "<td><p>Return Series in reverse order.</p></td>\n",
        "</tr>\n",
        "<tr class=\"row-even\"><td><p><a class=\"reference internal\" href=\"api/polars.Series.rle.html#polars.Series.rle\" title=\"polars.Series.rle\"><code class=\"xref py py-obj docutils literal notranslate\"><span class=\"pre\">rle</span></code></a></p></td>\n",
        "<td><p>Compress the Series data using run-length encoding.</p></td>\n",
        "</tr>\n",
        "<tr class=\"row-odd\"><td><p><a class=\"reference internal\" href=\"api/polars.Series.rle_id.html#polars.Series.rle_id\" title=\"polars.Series.rle_id\"><code class=\"xref py py-obj docutils literal notranslate\"><span class=\"pre\">rle_id</span></code></a></p></td>\n",
        "<td><p>Get a distinct integer ID for each run of identical values.</p></td>\n",
        "</tr>\n",
        "<tr class=\"row-even\"><td><p><a class=\"reference internal\" href=\"api/polars.Series.rolling_map.html#polars.Series.rolling_map\" title=\"polars.Series.rolling_map\"><code class=\"xref py py-obj docutils literal notranslate\"><span class=\"pre\">rolling_map</span></code></a></p></td>\n",
        "<td><p>Compute a custom rolling window function.</p></td>\n",
        "</tr>\n",
        "<tr class=\"row-odd\"><td><p><a class=\"reference internal\" href=\"api/polars.Series.rolling_max.html#polars.Series.rolling_max\" title=\"polars.Series.rolling_max\"><code class=\"xref py py-obj docutils literal notranslate\"><span class=\"pre\">rolling_max</span></code></a></p></td>\n",
        "<td><p>Apply a rolling max (moving max) over the values in this array.</p></td>\n",
        "</tr>\n",
        "<tr class=\"row-even\"><td><p><a class=\"reference internal\" href=\"api/polars.Series.rolling_mean.html#polars.Series.rolling_mean\" title=\"polars.Series.rolling_mean\"><code class=\"xref py py-obj docutils literal notranslate\"><span class=\"pre\">rolling_mean</span></code></a></p></td>\n",
        "<td><p>Apply a rolling mean (moving mean) over the values in this array.</p></td>\n",
        "</tr>\n",
        "<tr class=\"row-odd\"><td><p><a class=\"reference internal\" href=\"api/polars.Series.rolling_median.html#polars.Series.rolling_median\" title=\"polars.Series.rolling_median\"><code class=\"xref py py-obj docutils literal notranslate\"><span class=\"pre\">rolling_median</span></code></a></p></td>\n",
        "<td><p>Compute a rolling median.</p></td>\n",
        "</tr>\n",
        "<tr class=\"row-even\"><td><p><a class=\"reference internal\" href=\"api/polars.Series.rolling_min.html#polars.Series.rolling_min\" title=\"polars.Series.rolling_min\"><code class=\"xref py py-obj docutils literal notranslate\"><span class=\"pre\">rolling_min</span></code></a></p></td>\n",
        "<td><p>Apply a rolling min (moving min) over the values in this array.</p></td>\n",
        "</tr>\n",
        "<tr class=\"row-odd\"><td><p><a class=\"reference internal\" href=\"api/polars.Series.rolling_quantile.html#polars.Series.rolling_quantile\" title=\"polars.Series.rolling_quantile\"><code class=\"xref py py-obj docutils literal notranslate\"><span class=\"pre\">rolling_quantile</span></code></a></p></td>\n",
        "<td><p>Compute a rolling quantile.</p></td>\n",
        "</tr>\n",
        "<tr class=\"row-even\"><td><p><a class=\"reference internal\" href=\"api/polars.Series.rolling_skew.html#polars.Series.rolling_skew\" title=\"polars.Series.rolling_skew\"><code class=\"xref py py-obj docutils literal notranslate\"><span class=\"pre\">rolling_skew</span></code></a></p></td>\n",
        "<td><p>Compute a rolling skew.</p></td>\n",
        "</tr>\n",
        "<tr class=\"row-odd\"><td><p><a class=\"reference internal\" href=\"api/polars.Series.rolling_std.html#polars.Series.rolling_std\" title=\"polars.Series.rolling_std\"><code class=\"xref py py-obj docutils literal notranslate\"><span class=\"pre\">rolling_std</span></code></a></p></td>\n",
        "<td><p>Compute a rolling std dev.</p></td>\n",
        "</tr>\n",
        "<tr class=\"row-even\"><td><p><a class=\"reference internal\" href=\"api/polars.Series.rolling_sum.html#polars.Series.rolling_sum\" title=\"polars.Series.rolling_sum\"><code class=\"xref py py-obj docutils literal notranslate\"><span class=\"pre\">rolling_sum</span></code></a></p></td>\n",
        "<td><p>Apply a rolling sum (moving sum) over the values in this array.</p></td>\n",
        "</tr>\n",
        "<tr class=\"row-odd\"><td><p><a class=\"reference internal\" href=\"api/polars.Series.rolling_var.html#polars.Series.rolling_var\" title=\"polars.Series.rolling_var\"><code class=\"xref py py-obj docutils literal notranslate\"><span class=\"pre\">rolling_var</span></code></a></p></td>\n",
        "<td><p>Compute a rolling variance.</p></td>\n",
        "</tr>\n",
        "<tr class=\"row-even\"><td><p><a class=\"reference internal\" href=\"api/polars.Series.round.html#polars.Series.round\" title=\"polars.Series.round\"><code class=\"xref py py-obj docutils literal notranslate\"><span class=\"pre\">round</span></code></a></p></td>\n",
        "<td><p>Round underlying floating point data by <code class=\"code docutils literal notranslate\"><span class=\"pre\">decimals</span></code> digits.</p></td>\n",
        "</tr>\n",
        "<tr class=\"row-odd\"><td><p><a class=\"reference internal\" href=\"api/polars.Series.round_sig_figs.html#polars.Series.round_sig_figs\" title=\"polars.Series.round_sig_figs\"><code class=\"xref py py-obj docutils literal notranslate\"><span class=\"pre\">round_sig_figs</span></code></a></p></td>\n",
        "<td><p>Round to a number of significant figures.</p></td>\n",
        "</tr>\n",
        "<tr class=\"row-even\"><td><p><a class=\"reference internal\" href=\"api/polars.Series.sample.html#polars.Series.sample\" title=\"polars.Series.sample\"><code class=\"xref py py-obj docutils literal notranslate\"><span class=\"pre\">sample</span></code></a></p></td>\n",
        "<td><p>Sample from this Series.</p></td>\n",
        "</tr>\n",
        "<tr class=\"row-odd\"><td><p><a class=\"reference internal\" href=\"api/polars.Series.scatter.html#polars.Series.scatter\" title=\"polars.Series.scatter\"><code class=\"xref py py-obj docutils literal notranslate\"><span class=\"pre\">scatter</span></code></a></p></td>\n",
        "<td><p>Set values at the index locations.</p></td>\n",
        "</tr>\n",
        "<tr class=\"row-even\"><td><p><a class=\"reference internal\" href=\"api/polars.Series.search_sorted.html#polars.Series.search_sorted\" title=\"polars.Series.search_sorted\"><code class=\"xref py py-obj docutils literal notranslate\"><span class=\"pre\">search_sorted</span></code></a></p></td>\n",
        "<td><p>Find indices where elements should be inserted to maintain order.</p></td>\n",
        "</tr>\n",
        "<tr class=\"row-odd\"><td><p><a class=\"reference internal\" href=\"api/polars.Series.set.html#polars.Series.set\" title=\"polars.Series.set\"><code class=\"xref py py-obj docutils literal notranslate\"><span class=\"pre\">set</span></code></a></p></td>\n",
        "<td><p>Set masked values.</p></td>\n",
        "</tr>\n",
        "<tr class=\"row-even\"><td><p><a class=\"reference internal\" href=\"api/polars.Series.set_sorted.html#polars.Series.set_sorted\" title=\"polars.Series.set_sorted\"><code class=\"xref py py-obj docutils literal notranslate\"><span class=\"pre\">set_sorted</span></code></a></p></td>\n",
        "<td><p>Flags the Series as 'sorted'.</p></td>\n",
        "</tr>\n",
        "<tr class=\"row-odd\"><td><p><a class=\"reference internal\" href=\"api/polars.Series.shift.html#polars.Series.shift\" title=\"polars.Series.shift\"><code class=\"xref py py-obj docutils literal notranslate\"><span class=\"pre\">shift</span></code></a></p></td>\n",
        "<td><p>Shift values by the given number of indices.</p></td>\n",
        "</tr>\n",
        "<tr class=\"row-even\"><td><p><a class=\"reference internal\" href=\"api/polars.Series.shrink_dtype.html#polars.Series.shrink_dtype\" title=\"polars.Series.shrink_dtype\"><code class=\"xref py py-obj docutils literal notranslate\"><span class=\"pre\">shrink_dtype</span></code></a></p></td>\n",
        "<td><p>Shrink numeric columns to the minimal required datatype.</p></td>\n",
        "</tr>\n",
        "<tr class=\"row-odd\"><td><p><a class=\"reference internal\" href=\"api/polars.Series.shrink_to_fit.html#polars.Series.shrink_to_fit\" title=\"polars.Series.shrink_to_fit\"><code class=\"xref py py-obj docutils literal notranslate\"><span class=\"pre\">shrink_to_fit</span></code></a></p></td>\n",
        "<td><p>Shrink Series memory usage.</p></td>\n",
        "</tr>\n",
        "<tr class=\"row-even\"><td><p><a class=\"reference internal\" href=\"api/polars.Series.shuffle.html#polars.Series.shuffle\" title=\"polars.Series.shuffle\"><code class=\"xref py py-obj docutils literal notranslate\"><span class=\"pre\">shuffle</span></code></a></p></td>\n",
        "<td><p>Shuffle the contents of this Series.</p></td>\n",
        "</tr>\n",
        "<tr class=\"row-odd\"><td><p><a class=\"reference internal\" href=\"api/polars.Series.sign.html#polars.Series.sign\" title=\"polars.Series.sign\"><code class=\"xref py py-obj docutils literal notranslate\"><span class=\"pre\">sign</span></code></a></p></td>\n",
        "<td><p>Compute the element-wise sign function on numeric types.</p></td>\n",
        "</tr>\n",
        "<tr class=\"row-even\"><td><p><a class=\"reference internal\" href=\"api/polars.Series.sin.html#polars.Series.sin\" title=\"polars.Series.sin\"><code class=\"xref py py-obj docutils literal notranslate\"><span class=\"pre\">sin</span></code></a></p></td>\n",
        "<td><p>Compute the element-wise value for the sine.</p></td>\n",
        "</tr>\n",
        "<tr class=\"row-odd\"><td><p><a class=\"reference internal\" href=\"api/polars.Series.sinh.html#polars.Series.sinh\" title=\"polars.Series.sinh\"><code class=\"xref py py-obj docutils literal notranslate\"><span class=\"pre\">sinh</span></code></a></p></td>\n",
        "<td><p>Compute the element-wise value for the hyperbolic sine.</p></td>\n",
        "</tr>\n",
        "<tr class=\"row-even\"><td><p><a class=\"reference internal\" href=\"api/polars.Series.skew.html#polars.Series.skew\" title=\"polars.Series.skew\"><code class=\"xref py py-obj docutils literal notranslate\"><span class=\"pre\">skew</span></code></a></p></td>\n",
        "<td><p>Compute the sample skewness of a data set.</p></td>\n",
        "</tr>\n",
        "<tr class=\"row-odd\"><td><p><a class=\"reference internal\" href=\"api/polars.Series.slice.html#polars.Series.slice\" title=\"polars.Series.slice\"><code class=\"xref py py-obj docutils literal notranslate\"><span class=\"pre\">slice</span></code></a></p></td>\n",
        "<td><p>Get a slice of this Series.</p></td>\n",
        "</tr>\n",
        "<tr class=\"row-even\"><td><p><a class=\"reference internal\" href=\"api/polars.Series.sort.html#polars.Series.sort\" title=\"polars.Series.sort\"><code class=\"xref py py-obj docutils literal notranslate\"><span class=\"pre\">sort</span></code></a></p></td>\n",
        "<td><p>Sort this Series.</p></td>\n",
        "</tr>\n",
        "<tr class=\"row-odd\"><td><p><a class=\"reference internal\" href=\"api/polars.Series.sqrt.html#polars.Series.sqrt\" title=\"polars.Series.sqrt\"><code class=\"xref py py-obj docutils literal notranslate\"><span class=\"pre\">sqrt</span></code></a></p></td>\n",
        "<td><p>Compute the square root of the elements.</p></td>\n",
        "</tr>\n",
        "<tr class=\"row-even\"><td><p><a class=\"reference internal\" href=\"api/polars.Series.std.html#polars.Series.std\" title=\"polars.Series.std\"><code class=\"xref py py-obj docutils literal notranslate\"><span class=\"pre\">std</span></code></a></p></td>\n",
        "<td><p>Get the standard deviation of this Series.</p></td>\n",
        "</tr>\n",
        "<tr class=\"row-odd\"><td><p><a class=\"reference internal\" href=\"api/polars.Series.sum.html#polars.Series.sum\" title=\"polars.Series.sum\"><code class=\"xref py py-obj docutils literal notranslate\"><span class=\"pre\">sum</span></code></a></p></td>\n",
        "<td><p>Reduce this Series to the sum value.</p></td>\n",
        "</tr>\n",
        "<tr class=\"row-even\"><td><p><a class=\"reference internal\" href=\"api/polars.Series.tail.html#polars.Series.tail\" title=\"polars.Series.tail\"><code class=\"xref py py-obj docutils literal notranslate\"><span class=\"pre\">tail</span></code></a></p></td>\n",
        "<td><p>Get the last <code class=\"code docutils literal notranslate\"><span class=\"pre\">n</span></code> elements.</p></td>\n",
        "</tr>\n",
        "<tr class=\"row-odd\"><td><p><a class=\"reference internal\" href=\"api/polars.Series.tan.html#polars.Series.tan\" title=\"polars.Series.tan\"><code class=\"xref py py-obj docutils literal notranslate\"><span class=\"pre\">tan</span></code></a></p></td>\n",
        "<td><p>Compute the element-wise value for the tangent.</p></td>\n",
        "</tr>\n",
        "<tr class=\"row-even\"><td><p><a class=\"reference internal\" href=\"api/polars.Series.tanh.html#polars.Series.tanh\" title=\"polars.Series.tanh\"><code class=\"xref py py-obj docutils literal notranslate\"><span class=\"pre\">tanh</span></code></a></p></td>\n",
        "<td><p>Compute the element-wise value for the hyperbolic tangent.</p></td>\n",
        "</tr>\n",
        "<tr class=\"row-odd\"><td><p><a class=\"reference internal\" href=\"api/polars.Series.to_arrow.html#polars.Series.to_arrow\" title=\"polars.Series.to_arrow\"><code class=\"xref py py-obj docutils literal notranslate\"><span class=\"pre\">to_arrow</span></code></a></p></td>\n",
        "<td><p>Return the underlying Arrow array.</p></td>\n",
        "</tr>\n",
        "<tr class=\"row-even\"><td><p><a class=\"reference internal\" href=\"api/polars.Series.to_dummies.html#polars.Series.to_dummies\" title=\"polars.Series.to_dummies\"><code class=\"xref py py-obj docutils literal notranslate\"><span class=\"pre\">to_dummies</span></code></a></p></td>\n",
        "<td><p>Get dummy/indicator variables.</p></td>\n",
        "</tr>\n",
        "<tr class=\"row-odd\"><td><p><a class=\"reference internal\" href=\"api/polars.Series.to_frame.html#polars.Series.to_frame\" title=\"polars.Series.to_frame\"><code class=\"xref py py-obj docutils literal notranslate\"><span class=\"pre\">to_frame</span></code></a></p></td>\n",
        "<td><p>Cast this Series to a DataFrame.</p></td>\n",
        "</tr>\n",
        "<tr class=\"row-even\"><td><p><a class=\"reference internal\" href=\"api/polars.Series.to_init_repr.html#polars.Series.to_init_repr\" title=\"polars.Series.to_init_repr\"><code class=\"xref py py-obj docutils literal notranslate\"><span class=\"pre\">to_init_repr</span></code></a></p></td>\n",
        "<td><p>Convert Series to instantiable string representation.</p></td>\n",
        "</tr>\n",
        "<tr class=\"row-odd\"><td><p><a class=\"reference internal\" href=\"api/polars.Series.to_jax.html#polars.Series.to_jax\" title=\"polars.Series.to_jax\"><code class=\"xref py py-obj docutils literal notranslate\"><span class=\"pre\">to_jax</span></code></a></p></td>\n",
        "<td><p>Convert this Series to a Jax Array.</p></td>\n",
        "</tr>\n",
        "<tr class=\"row-even\"><td><p><a class=\"reference internal\" href=\"api/polars.Series.to_list.html#polars.Series.to_list\" title=\"polars.Series.to_list\"><code class=\"xref py py-obj docutils literal notranslate\"><span class=\"pre\">to_list</span></code></a></p></td>\n",
        "<td><p>Convert this Series to a Python list.</p></td>\n",
        "</tr>\n",
        "<tr class=\"row-odd\"><td><p><a class=\"reference internal\" href=\"api/polars.Series.to_numpy.html#polars.Series.to_numpy\" title=\"polars.Series.to_numpy\"><code class=\"xref py py-obj docutils literal notranslate\"><span class=\"pre\">to_numpy</span></code></a></p></td>\n",
        "<td><p>Convert this Series to a NumPy ndarray.</p></td>\n",
        "</tr>\n",
        "<tr class=\"row-even\"><td><p><a class=\"reference internal\" href=\"api/polars.Series.to_pandas.html#polars.Series.to_pandas\" title=\"polars.Series.to_pandas\"><code class=\"xref py py-obj docutils literal notranslate\"><span class=\"pre\">to_pandas</span></code></a></p></td>\n",
        "<td><p>Convert this Series to a pandas Series.</p></td>\n",
        "</tr>\n",
        "<tr class=\"row-odd\"><td><p><a class=\"reference internal\" href=\"api/polars.Series.to_physical.html#polars.Series.to_physical\" title=\"polars.Series.to_physical\"><code class=\"xref py py-obj docutils literal notranslate\"><span class=\"pre\">to_physical</span></code></a></p></td>\n",
        "<td><p>Cast to physical representation of the logical dtype.</p></td>\n",
        "</tr>\n",
        "<tr class=\"row-even\"><td><p><a class=\"reference internal\" href=\"api/polars.Series.to_torch.html#polars.Series.to_torch\" title=\"polars.Series.to_torch\"><code class=\"xref py py-obj docutils literal notranslate\"><span class=\"pre\">to_torch</span></code></a></p></td>\n",
        "<td><p>Convert this Series to a PyTorch Tensor.</p></td>\n",
        "</tr>\n",
        "<tr class=\"row-odd\"><td><p><a class=\"reference internal\" href=\"api/polars.Series.top_k.html#polars.Series.top_k\" title=\"polars.Series.top_k\"><code class=\"xref py py-obj docutils literal notranslate\"><span class=\"pre\">top_k</span></code></a></p></td>\n",
        "<td><p>Return the <code class=\"code docutils literal notranslate\"><span class=\"pre\">k</span></code> largest elements.</p></td>\n",
        "</tr>\n",
        "<tr class=\"row-even\"><td><p><a class=\"reference internal\" href=\"api/polars.Series.unique.html#polars.Series.unique\" title=\"polars.Series.unique\"><code class=\"xref py py-obj docutils literal notranslate\"><span class=\"pre\">unique</span></code></a></p></td>\n",
        "<td><p>Get unique elements in series.</p></td>\n",
        "</tr>\n",
        "<tr class=\"row-odd\"><td><p><a class=\"reference internal\" href=\"api/polars.Series.unique_counts.html#polars.Series.unique_counts\" title=\"polars.Series.unique_counts\"><code class=\"xref py py-obj docutils literal notranslate\"><span class=\"pre\">unique_counts</span></code></a></p></td>\n",
        "<td><p>Return a count of the unique values in the order of appearance.</p></td>\n",
        "</tr>\n",
        "<tr class=\"row-even\"><td><p><a class=\"reference internal\" href=\"api/polars.Series.upper_bound.html#polars.Series.upper_bound\" title=\"polars.Series.upper_bound\"><code class=\"xref py py-obj docutils literal notranslate\"><span class=\"pre\">upper_bound</span></code></a></p></td>\n",
        "<td><p>Return the upper bound of this Series' dtype as a unit Series.</p></td>\n",
        "</tr>\n",
        "<tr class=\"row-odd\"><td><p><a class=\"reference internal\" href=\"api/polars.Series.value_counts.html#polars.Series.value_counts\" title=\"polars.Series.value_counts\"><code class=\"xref py py-obj docutils literal notranslate\"><span class=\"pre\">value_counts</span></code></a></p></td>\n",
        "<td><p>Count the occurrences of unique values.</p></td>\n",
        "</tr>\n",
        "<tr class=\"row-even\"><td><p><a class=\"reference internal\" href=\"api/polars.Series.var.html#polars.Series.var\" title=\"polars.Series.var\"><code class=\"xref py py-obj docutils literal notranslate\"><span class=\"pre\">var</span></code></a></p></td>\n",
        "<td><p>Get variance of this Series.</p></td>\n",
        "</tr>\n",
        "<tr class=\"row-odd\"><td><p><a class=\"reference internal\" href=\"api/polars.Series.zip_with.html#polars.Series.zip_with\" title=\"polars.Series.zip_with\"><code class=\"xref py py-obj docutils literal notranslate\"><span class=\"pre\">zip_with</span></code></a></p></td>\n",
        "<td><p>Take values from self or other based on the given mask.</p></td>\n",
        "</tr>\n",
        "</tbody>\n",
        "</table>\n"
      ],
      "metadata": {
        "id": "wcPCd1P7vTMc"
      }
    },
    {
      "cell_type": "code",
      "source": [],
      "metadata": {
        "id": "JzD9qn6PvnPi"
      },
      "execution_count": null,
      "outputs": []
    },
    {
      "cell_type": "markdown",
      "source": [
        "# string functionalities in `polars`\n",
        "https://docs.pola.rs/api/python/stable/reference/series/string.html\n",
        "\n",
        "<table class=\"autosummary longtable table autosummary\">\n",
        "<tbody>\n",
        "<tr class=\"row-odd\"><td><p><a class=\"reference internal\" href=\"api/polars.Series.str.concat.html#polars.Series.str.concat\" title=\"polars.Series.str.concat\"><code class=\"xref py py-obj docutils literal notranslate\"><span class=\"pre\">Series.str.concat</span></code></a>([delimiter,&nbsp;ignore_nulls])</p></td>\n",
        "<td><p>Vertically concatenate the string values in the column to a single string value.</p></td>\n",
        "</tr>\n",
        "<tr class=\"row-even\"><td><p><a class=\"reference internal\" href=\"api/polars.Series.str.contains.html#polars.Series.str.contains\" title=\"polars.Series.str.contains\"><code class=\"xref py py-obj docutils literal notranslate\"><span class=\"pre\">Series.str.contains</span></code></a>(pattern,&nbsp;*[,&nbsp;literal,&nbsp;...])</p></td>\n",
        "<td><p>Check if the string contains a substring that matches a pattern.</p></td>\n",
        "</tr>\n",
        "<tr class=\"row-odd\"><td><p><a class=\"reference internal\" href=\"api/polars.Series.str.contains_any.html#polars.Series.str.contains_any\" title=\"polars.Series.str.contains_any\"><code class=\"xref py py-obj docutils literal notranslate\"><span class=\"pre\">Series.str.contains_any</span></code></a>(patterns,&nbsp;*[,&nbsp;...])</p></td>\n",
        "<td><p>Use the Aho-Corasick algorithm to find matches.</p></td>\n",
        "</tr>\n",
        "<tr class=\"row-even\"><td><p><a class=\"reference internal\" href=\"api/polars.Series.str.count_matches.html#polars.Series.str.count_matches\" title=\"polars.Series.str.count_matches\"><code class=\"xref py py-obj docutils literal notranslate\"><span class=\"pre\">Series.str.count_matches</span></code></a>(pattern,&nbsp;*[,&nbsp;literal])</p></td>\n",
        "<td><p>Count all successive non-overlapping regex matches.</p></td>\n",
        "</tr>\n",
        "<tr class=\"row-odd\"><td><p><a class=\"reference internal\" href=\"api/polars.Series.str.decode.html#polars.Series.str.decode\" title=\"polars.Series.str.decode\"><code class=\"xref py py-obj docutils literal notranslate\"><span class=\"pre\">Series.str.decode</span></code></a>(encoding,&nbsp;*[,&nbsp;strict])</p></td>\n",
        "<td><p>Decode values using the provided encoding.</p></td>\n",
        "</tr>\n",
        "<tr class=\"row-even\"><td><p><a class=\"reference internal\" href=\"api/polars.Series.str.encode.html#polars.Series.str.encode\" title=\"polars.Series.str.encode\"><code class=\"xref py py-obj docutils literal notranslate\"><span class=\"pre\">Series.str.encode</span></code></a>(encoding)</p></td>\n",
        "<td><p>Encode a value using the provided encoding.</p></td>\n",
        "</tr>\n",
        "<tr class=\"row-odd\"><td><p><a class=\"reference internal\" href=\"api/polars.Series.str.ends_with.html#polars.Series.str.ends_with\" title=\"polars.Series.str.ends_with\"><code class=\"xref py py-obj docutils literal notranslate\"><span class=\"pre\">Series.str.ends_with</span></code></a>(suffix)</p></td>\n",
        "<td><p>Check if string values end with a substring.</p></td>\n",
        "</tr>\n",
        "<tr class=\"row-even\"><td><p><a class=\"reference internal\" href=\"api/polars.Series.str.escape_regex.html#polars.Series.str.escape_regex\" title=\"polars.Series.str.escape_regex\"><code class=\"xref py py-obj docutils literal notranslate\"><span class=\"pre\">Series.str.escape_regex</span></code></a>()</p></td>\n",
        "<td><p>Returns string values with all regular expression meta characters escaped.</p></td>\n",
        "</tr>\n",
        "<tr class=\"row-odd\"><td><p><a class=\"reference internal\" href=\"api/polars.Series.str.explode.html#polars.Series.str.explode\" title=\"polars.Series.str.explode\"><code class=\"xref py py-obj docutils literal notranslate\"><span class=\"pre\">Series.str.explode</span></code></a>()</p></td>\n",
        "<td><p>Returns a column with a separate row for every string character.</p></td>\n",
        "</tr>\n",
        "<tr class=\"row-even\"><td><p><a class=\"reference internal\" href=\"api/polars.Series.str.extract.html#polars.Series.str.extract\" title=\"polars.Series.str.extract\"><code class=\"xref py py-obj docutils literal notranslate\"><span class=\"pre\">Series.str.extract</span></code></a>(pattern[,&nbsp;group_index])</p></td>\n",
        "<td><p>Extract the target capture group from provided patterns.</p></td>\n",
        "</tr>\n",
        "<tr class=\"row-odd\"><td><p><a class=\"reference internal\" href=\"api/polars.Series.str.extract_all.html#polars.Series.str.extract_all\" title=\"polars.Series.str.extract_all\"><code class=\"xref py py-obj docutils literal notranslate\"><span class=\"pre\">Series.str.extract_all</span></code></a>(pattern)</p></td>\n",
        "<td><p>Extract all matches for the given regex pattern.</p></td>\n",
        "</tr>\n",
        "<tr class=\"row-even\"><td><p><a class=\"reference internal\" href=\"api/polars.Series.str.extract_groups.html#polars.Series.str.extract_groups\" title=\"polars.Series.str.extract_groups\"><code class=\"xref py py-obj docutils literal notranslate\"><span class=\"pre\">Series.str.extract_groups</span></code></a>(pattern)</p></td>\n",
        "<td><p>Extract all capture groups for the given regex pattern.</p></td>\n",
        "</tr>\n",
        "<tr class=\"row-odd\"><td><p><a class=\"reference internal\" href=\"api/polars.Series.str.extract_many.html#polars.Series.str.extract_many\" title=\"polars.Series.str.extract_many\"><code class=\"xref py py-obj docutils literal notranslate\"><span class=\"pre\">Series.str.extract_many</span></code></a>(patterns,&nbsp;*[,&nbsp;...])</p></td>\n",
        "<td><p>Use the Aho-Corasick algorithm to extract many matches.</p></td>\n",
        "</tr>\n",
        "<tr class=\"row-even\"><td><p><a class=\"reference internal\" href=\"api/polars.Series.str.find.html#polars.Series.str.find\" title=\"polars.Series.str.find\"><code class=\"xref py py-obj docutils literal notranslate\"><span class=\"pre\">Series.str.find</span></code></a>(pattern,&nbsp;*[,&nbsp;literal,&nbsp;strict])</p></td>\n",
        "<td><p>Return the bytes offset of the first substring matching a pattern.</p></td>\n",
        "</tr>\n",
        "<tr class=\"row-odd\"><td><p><a class=\"reference internal\" href=\"api/polars.Series.str.find_many.html#polars.Series.str.find_many\" title=\"polars.Series.str.find_many\"><code class=\"xref py py-obj docutils literal notranslate\"><span class=\"pre\">Series.str.find_many</span></code></a>(patterns,&nbsp;*[,&nbsp;...])</p></td>\n",
        "<td><p>Use the Aho-Corasick algorithm to find all matches.</p></td>\n",
        "</tr>\n",
        "<tr class=\"row-even\"><td><p><a class=\"reference internal\" href=\"api/polars.Series.str.head.html#polars.Series.str.head\" title=\"polars.Series.str.head\"><code class=\"xref py py-obj docutils literal notranslate\"><span class=\"pre\">Series.str.head</span></code></a>(n)</p></td>\n",
        "<td><p>Return the first n characters of each string in a String Series.</p></td>\n",
        "</tr>\n",
        "<tr class=\"row-odd\"><td><p><a class=\"reference internal\" href=\"api/polars.Series.str.join.html#polars.Series.str.join\" title=\"polars.Series.str.join\"><code class=\"xref py py-obj docutils literal notranslate\"><span class=\"pre\">Series.str.join</span></code></a>([delimiter,&nbsp;ignore_nulls])</p></td>\n",
        "<td><p>Vertically concatenate the string values in the column to a single string value.</p></td>\n",
        "</tr>\n",
        "<tr class=\"row-even\"><td><p><a class=\"reference internal\" href=\"api/polars.Series.str.json_decode.html#polars.Series.str.json_decode\" title=\"polars.Series.str.json_decode\"><code class=\"xref py py-obj docutils literal notranslate\"><span class=\"pre\">Series.str.json_decode</span></code></a>([dtype,&nbsp;...])</p></td>\n",
        "<td><p>Parse string values as JSON.</p></td>\n",
        "</tr>\n",
        "<tr class=\"row-odd\"><td><p><a class=\"reference internal\" href=\"api/polars.Series.str.json_path_match.html#polars.Series.str.json_path_match\" title=\"polars.Series.str.json_path_match\"><code class=\"xref py py-obj docutils literal notranslate\"><span class=\"pre\">Series.str.json_path_match</span></code></a>(json_path)</p></td>\n",
        "<td><p>Extract the first match of JSON string with provided JSONPath expression.</p></td>\n",
        "</tr>\n",
        "<tr class=\"row-even\"><td><p><a class=\"reference internal\" href=\"api/polars.Series.str.len_bytes.html#polars.Series.str.len_bytes\" title=\"polars.Series.str.len_bytes\"><code class=\"xref py py-obj docutils literal notranslate\"><span class=\"pre\">Series.str.len_bytes</span></code></a>()</p></td>\n",
        "<td><p>Return the length of each string as the number of bytes.</p></td>\n",
        "</tr>\n",
        "<tr class=\"row-odd\"><td><p><a class=\"reference internal\" href=\"api/polars.Series.str.len_chars.html#polars.Series.str.len_chars\" title=\"polars.Series.str.len_chars\"><code class=\"xref py py-obj docutils literal notranslate\"><span class=\"pre\">Series.str.len_chars</span></code></a>()</p></td>\n",
        "<td><p>Return the length of each string as the number of characters.</p></td>\n",
        "</tr>\n",
        "<tr class=\"row-even\"><td><p><a class=\"reference internal\" href=\"api/polars.Series.str.normalize.html#polars.Series.str.normalize\" title=\"polars.Series.str.normalize\"><code class=\"xref py py-obj docutils literal notranslate\"><span class=\"pre\">Series.str.normalize</span></code></a>([form])</p></td>\n",
        "<td><p>Returns the Unicode normal form of the string values.</p></td>\n",
        "</tr>\n",
        "<tr class=\"row-odd\"><td><p><a class=\"reference internal\" href=\"api/polars.Series.str.pad_end.html#polars.Series.str.pad_end\" title=\"polars.Series.str.pad_end\"><code class=\"xref py py-obj docutils literal notranslate\"><span class=\"pre\">Series.str.pad_end</span></code></a>(length[,&nbsp;fill_char])</p></td>\n",
        "<td><p>Pad the end of the string until it reaches the given length.</p></td>\n",
        "</tr>\n",
        "<tr class=\"row-even\"><td><p><a class=\"reference internal\" href=\"api/polars.Series.str.pad_start.html#polars.Series.str.pad_start\" title=\"polars.Series.str.pad_start\"><code class=\"xref py py-obj docutils literal notranslate\"><span class=\"pre\">Series.str.pad_start</span></code></a>(length[,&nbsp;fill_char])</p></td>\n",
        "<td><p>Pad the start of the string until it reaches the given length.</p></td>\n",
        "</tr>\n",
        "<tr class=\"row-odd\"><td><p><a class=\"reference internal\" href=\"api/polars.Series.str.replace.html#polars.Series.str.replace\" title=\"polars.Series.str.replace\"><code class=\"xref py py-obj docutils literal notranslate\"><span class=\"pre\">Series.str.replace</span></code></a>(pattern,&nbsp;value,&nbsp;*[,&nbsp;...])</p></td>\n",
        "<td><p>Replace first matching regex/literal substring with a new string value.</p></td>\n",
        "</tr>\n",
        "<tr class=\"row-even\"><td><p><a class=\"reference internal\" href=\"api/polars.Series.str.replace_all.html#polars.Series.str.replace_all\" title=\"polars.Series.str.replace_all\"><code class=\"xref py py-obj docutils literal notranslate\"><span class=\"pre\">Series.str.replace_all</span></code></a>(pattern,&nbsp;value,&nbsp;*[,&nbsp;...])</p></td>\n",
        "<td><p>Replace all matching regex/literal substrings with a new string value.</p></td>\n",
        "</tr>\n",
        "<tr class=\"row-odd\"><td><p><a class=\"reference internal\" href=\"api/polars.Series.str.replace_many.html#polars.Series.str.replace_many\" title=\"polars.Series.str.replace_many\"><code class=\"xref py py-obj docutils literal notranslate\"><span class=\"pre\">Series.str.replace_many</span></code></a>(patterns[,&nbsp;...])</p></td>\n",
        "<td><p>Use the Aho-Corasick algorithm to replace many matches.</p></td>\n",
        "</tr>\n",
        "<tr class=\"row-even\"><td><p><a class=\"reference internal\" href=\"api/polars.Series.str.reverse.html#polars.Series.str.reverse\" title=\"polars.Series.str.reverse\"><code class=\"xref py py-obj docutils literal notranslate\"><span class=\"pre\">Series.str.reverse</span></code></a>()</p></td>\n",
        "<td><p>Returns string values in reversed order.</p></td>\n",
        "</tr>\n",
        "<tr class=\"row-odd\"><td><p><a class=\"reference internal\" href=\"api/polars.Series.str.slice.html#polars.Series.str.slice\" title=\"polars.Series.str.slice\"><code class=\"xref py py-obj docutils literal notranslate\"><span class=\"pre\">Series.str.slice</span></code></a>(offset[,&nbsp;length])</p></td>\n",
        "<td><p>Extract a substring from each string value.</p></td>\n",
        "</tr>\n",
        "<tr class=\"row-even\"><td><p><a class=\"reference internal\" href=\"api/polars.Series.str.split.html#polars.Series.str.split\" title=\"polars.Series.str.split\"><code class=\"xref py py-obj docutils literal notranslate\"><span class=\"pre\">Series.str.split</span></code></a>(by,&nbsp;*[,&nbsp;inclusive])</p></td>\n",
        "<td><p>Split the string by a substring.</p></td>\n",
        "</tr>\n",
        "<tr class=\"row-odd\"><td><p><a class=\"reference internal\" href=\"api/polars.Series.str.split_exact.html#polars.Series.str.split_exact\" title=\"polars.Series.str.split_exact\"><code class=\"xref py py-obj docutils literal notranslate\"><span class=\"pre\">Series.str.split_exact</span></code></a>(by,&nbsp;n,&nbsp;*[,&nbsp;inclusive])</p></td>\n",
        "<td><p>Split the string by a substring using <code class=\"code docutils literal notranslate\"><span class=\"pre\">n</span></code> splits.</p></td>\n",
        "</tr>\n",
        "<tr class=\"row-even\"><td><p><a class=\"reference internal\" href=\"api/polars.Series.str.splitn.html#polars.Series.str.splitn\" title=\"polars.Series.str.splitn\"><code class=\"xref py py-obj docutils literal notranslate\"><span class=\"pre\">Series.str.splitn</span></code></a>(by,&nbsp;n)</p></td>\n",
        "<td><p>Split the string by a substring, restricted to returning at most <code class=\"code docutils literal notranslate\"><span class=\"pre\">n</span></code> items.</p></td>\n",
        "</tr>\n",
        "<tr class=\"row-odd\"><td><p><a class=\"reference internal\" href=\"api/polars.Series.str.starts_with.html#polars.Series.str.starts_with\" title=\"polars.Series.str.starts_with\"><code class=\"xref py py-obj docutils literal notranslate\"><span class=\"pre\">Series.str.starts_with</span></code></a>(prefix)</p></td>\n",
        "<td><p>Check if string values start with a substring.</p></td>\n",
        "</tr>\n",
        "<tr class=\"row-even\"><td><p><a class=\"reference internal\" href=\"api/polars.Series.str.strip_chars.html#polars.Series.str.strip_chars\" title=\"polars.Series.str.strip_chars\"><code class=\"xref py py-obj docutils literal notranslate\"><span class=\"pre\">Series.str.strip_chars</span></code></a>([characters])</p></td>\n",
        "<td><p>Remove leading and trailing characters.</p></td>\n",
        "</tr>\n",
        "<tr class=\"row-odd\"><td><p><a class=\"reference internal\" href=\"api/polars.Series.str.strip_chars_start.html#polars.Series.str.strip_chars_start\" title=\"polars.Series.str.strip_chars_start\"><code class=\"xref py py-obj docutils literal notranslate\"><span class=\"pre\">Series.str.strip_chars_start</span></code></a>([characters])</p></td>\n",
        "<td><p>Remove leading characters.</p></td>\n",
        "</tr>\n",
        "<tr class=\"row-even\"><td><p><a class=\"reference internal\" href=\"api/polars.Series.str.strip_chars_end.html#polars.Series.str.strip_chars_end\" title=\"polars.Series.str.strip_chars_end\"><code class=\"xref py py-obj docutils literal notranslate\"><span class=\"pre\">Series.str.strip_chars_end</span></code></a>([characters])</p></td>\n",
        "<td><p>Remove trailing characters.</p></td>\n",
        "</tr>\n",
        "<tr class=\"row-odd\"><td><p><a class=\"reference internal\" href=\"api/polars.Series.str.strip_prefix.html#polars.Series.str.strip_prefix\" title=\"polars.Series.str.strip_prefix\"><code class=\"xref py py-obj docutils literal notranslate\"><span class=\"pre\">Series.str.strip_prefix</span></code></a>(prefix)</p></td>\n",
        "<td><p>Remove prefix.</p></td>\n",
        "</tr>\n",
        "<tr class=\"row-even\"><td><p><a class=\"reference internal\" href=\"api/polars.Series.str.strip_suffix.html#polars.Series.str.strip_suffix\" title=\"polars.Series.str.strip_suffix\"><code class=\"xref py py-obj docutils literal notranslate\"><span class=\"pre\">Series.str.strip_suffix</span></code></a>(suffix)</p></td>\n",
        "<td><p>Remove suffix.</p></td>\n",
        "</tr>\n",
        "<tr class=\"row-odd\"><td><p><a class=\"reference internal\" href=\"api/polars.Series.str.strptime.html#polars.Series.str.strptime\" title=\"polars.Series.str.strptime\"><code class=\"xref py py-obj docutils literal notranslate\"><span class=\"pre\">Series.str.strptime</span></code></a>(dtype[,&nbsp;format,&nbsp;strict,&nbsp;...])</p></td>\n",
        "<td><p>Convert a String column into a Date/Datetime/Time column.</p></td>\n",
        "</tr>\n",
        "<tr class=\"row-even\"><td><p><a class=\"reference internal\" href=\"api/polars.Series.str.tail.html#polars.Series.str.tail\" title=\"polars.Series.str.tail\"><code class=\"xref py py-obj docutils literal notranslate\"><span class=\"pre\">Series.str.tail</span></code></a>(n)</p></td>\n",
        "<td><p>Return the last n characters of each string in a String Series.</p></td>\n",
        "</tr>\n",
        "<tr class=\"row-odd\"><td><p><a class=\"reference internal\" href=\"api/polars.Series.str.to_date.html#polars.Series.str.to_date\" title=\"polars.Series.str.to_date\"><code class=\"xref py py-obj docutils literal notranslate\"><span class=\"pre\">Series.str.to_date</span></code></a>([format,&nbsp;strict,&nbsp;exact,&nbsp;...])</p></td>\n",
        "<td><p>Convert a String column into a Date column.</p></td>\n",
        "</tr>\n",
        "<tr class=\"row-even\"><td><p><a class=\"reference internal\" href=\"api/polars.Series.str.to_datetime.html#polars.Series.str.to_datetime\" title=\"polars.Series.str.to_datetime\"><code class=\"xref py py-obj docutils literal notranslate\"><span class=\"pre\">Series.str.to_datetime</span></code></a>([format,&nbsp;time_unit,&nbsp;...])</p></td>\n",
        "<td><p>Convert a String column into a Datetime column.</p></td>\n",
        "</tr>\n",
        "<tr class=\"row-odd\"><td><p><a class=\"reference internal\" href=\"api/polars.Series.str.to_decimal.html#polars.Series.str.to_decimal\" title=\"polars.Series.str.to_decimal\"><code class=\"xref py py-obj docutils literal notranslate\"><span class=\"pre\">Series.str.to_decimal</span></code></a>([inference_length])</p></td>\n",
        "<td><p>Convert a String column into a Decimal column.</p></td>\n",
        "</tr>\n",
        "<tr class=\"row-even\"><td><p><a class=\"reference internal\" href=\"api/polars.Series.str.to_integer.html#polars.Series.str.to_integer\" title=\"polars.Series.str.to_integer\"><code class=\"xref py py-obj docutils literal notranslate\"><span class=\"pre\">Series.str.to_integer</span></code></a>(*[,&nbsp;base,&nbsp;strict])</p></td>\n",
        "<td><p>Convert an String column into an Int64 column with base radix.</p></td>\n",
        "</tr>\n",
        "<tr class=\"row-odd\"><td><p><a class=\"reference internal\" href=\"api/polars.Series.str.to_lowercase.html#polars.Series.str.to_lowercase\" title=\"polars.Series.str.to_lowercase\"><code class=\"xref py py-obj docutils literal notranslate\"><span class=\"pre\">Series.str.to_lowercase</span></code></a>()</p></td>\n",
        "<td><p>Modify strings to their lowercase equivalent.</p></td>\n",
        "</tr>\n",
        "<tr class=\"row-even\"><td><p><a class=\"reference internal\" href=\"api/polars.Series.str.to_time.html#polars.Series.str.to_time\" title=\"polars.Series.str.to_time\"><code class=\"xref py py-obj docutils literal notranslate\"><span class=\"pre\">Series.str.to_time</span></code></a>([format,&nbsp;strict,&nbsp;cache])</p></td>\n",
        "<td><p>Convert a String column into a Time column.</p></td>\n",
        "</tr>\n",
        "<tr class=\"row-odd\"><td><p><a class=\"reference internal\" href=\"api/polars.Series.str.to_titlecase.html#polars.Series.str.to_titlecase\" title=\"polars.Series.str.to_titlecase\"><code class=\"xref py py-obj docutils literal notranslate\"><span class=\"pre\">Series.str.to_titlecase</span></code></a>()</p></td>\n",
        "<td><p>Modify strings to their titlecase equivalent.</p></td>\n",
        "</tr>\n",
        "<tr class=\"row-even\"><td><p><a class=\"reference internal\" href=\"api/polars.Series.str.to_uppercase.html#polars.Series.str.to_uppercase\" title=\"polars.Series.str.to_uppercase\"><code class=\"xref py py-obj docutils literal notranslate\"><span class=\"pre\">Series.str.to_uppercase</span></code></a>()</p></td>\n",
        "<td><p>Modify strings to their uppercase equivalent.</p></td>\n",
        "</tr>\n",
        "<tr class=\"row-odd\"><td><p><a class=\"reference internal\" href=\"api/polars.Series.str.zfill.html#polars.Series.str.zfill\" title=\"polars.Series.str.zfill\"><code class=\"xref py py-obj docutils literal notranslate\"><span class=\"pre\">Series.str.zfill</span></code></a>(length)</p></td>\n",
        "<td><p>Pad the start of the string with zeros until it reaches the given length.</p></td>\n",
        "</tr>\n",
        "</tbody>\n",
        "</table>\n"
      ],
      "metadata": {
        "id": "h9bZOJvAwZR3"
      }
    },
    {
      "cell_type": "code",
      "source": [],
      "metadata": {
        "id": "uE_dQm5OwjqV"
      },
      "execution_count": null,
      "outputs": []
    },
    {
      "cell_type": "markdown",
      "source": [
        "## Time in `polars`; `Temporal`\n",
        "\n",
        "The following methods are available under the Series.dt attribute.\n",
        "\n",
        "https://docs.pola.rs/api/python/stable/reference/series/temporal.html\n",
        "\n",
        "\n",
        "\n",
        "<table class=\"autosummary longtable table autosummary\">\n",
        "<tbody>\n",
        "<tr class=\"row-odd\"><td><p><a class=\"reference internal\" href=\"api/polars.Series.dt.add_business_days.html#polars.Series.dt.add_business_days\" title=\"polars.Series.dt.add_business_days\"><code class=\"xref py py-obj docutils literal notranslate\"><span class=\"pre\">Series.dt.add_business_days</span></code></a>(n[,&nbsp;week_mask,&nbsp;...])</p></td>\n",
        "<td><p>Offset by <code class=\"code docutils literal notranslate\"><span class=\"pre\">n</span></code> business days.</p></td>\n",
        "</tr>\n",
        "<tr class=\"row-even\"><td><p><a class=\"reference internal\" href=\"api/polars.Series.dt.base_utc_offset.html#polars.Series.dt.base_utc_offset\" title=\"polars.Series.dt.base_utc_offset\"><code class=\"xref py py-obj docutils literal notranslate\"><span class=\"pre\">Series.dt.base_utc_offset</span></code></a>()</p></td>\n",
        "<td><p>Base offset from UTC.</p></td>\n",
        "</tr>\n",
        "<tr class=\"row-odd\"><td><p><a class=\"reference internal\" href=\"api/polars.Series.dt.cast_time_unit.html#polars.Series.dt.cast_time_unit\" title=\"polars.Series.dt.cast_time_unit\"><code class=\"xref py py-obj docutils literal notranslate\"><span class=\"pre\">Series.dt.cast_time_unit</span></code></a>(time_unit)</p></td>\n",
        "<td><p>Cast the underlying data to another time unit.</p></td>\n",
        "</tr>\n",
        "<tr class=\"row-even\"><td><p><a class=\"reference internal\" href=\"api/polars.Series.dt.century.html#polars.Series.dt.century\" title=\"polars.Series.dt.century\"><code class=\"xref py py-obj docutils literal notranslate\"><span class=\"pre\">Series.dt.century</span></code></a>()</p></td>\n",
        "<td><p>Extract the century from underlying representation.</p></td>\n",
        "</tr>\n",
        "<tr class=\"row-odd\"><td><p><a class=\"reference internal\" href=\"api/polars.Series.dt.combine.html#polars.Series.dt.combine\" title=\"polars.Series.dt.combine\"><code class=\"xref py py-obj docutils literal notranslate\"><span class=\"pre\">Series.dt.combine</span></code></a>(time[,&nbsp;time_unit])</p></td>\n",
        "<td><p>Create a naive Datetime from an existing Date/Datetime expression and a Time.</p></td>\n",
        "</tr>\n",
        "<tr class=\"row-even\"><td><p><a class=\"reference internal\" href=\"api/polars.Series.dt.convert_time_zone.html#polars.Series.dt.convert_time_zone\" title=\"polars.Series.dt.convert_time_zone\"><code class=\"xref py py-obj docutils literal notranslate\"><span class=\"pre\">Series.dt.convert_time_zone</span></code></a>(time_zone)</p></td>\n",
        "<td><p>Convert to given time zone for a Series of type Datetime.</p></td>\n",
        "</tr>\n",
        "<tr class=\"row-odd\"><td><p><a class=\"reference internal\" href=\"api/polars.Series.dt.date.html#polars.Series.dt.date\" title=\"polars.Series.dt.date\"><code class=\"xref py py-obj docutils literal notranslate\"><span class=\"pre\">Series.dt.date</span></code></a>()</p></td>\n",
        "<td><p>Extract (local) date.</p></td>\n",
        "</tr>\n",
        "<tr class=\"row-even\"><td><p><a class=\"reference internal\" href=\"api/polars.Series.dt.datetime.html#polars.Series.dt.datetime\" title=\"polars.Series.dt.datetime\"><code class=\"xref py py-obj docutils literal notranslate\"><span class=\"pre\">Series.dt.datetime</span></code></a>()</p></td>\n",
        "<td><p>Extract (local) datetime.</p></td>\n",
        "</tr>\n",
        "<tr class=\"row-odd\"><td><p><a class=\"reference internal\" href=\"api/polars.Series.dt.day.html#polars.Series.dt.day\" title=\"polars.Series.dt.day\"><code class=\"xref py py-obj docutils literal notranslate\"><span class=\"pre\">Series.dt.day</span></code></a>()</p></td>\n",
        "<td><p>Extract the day from the underlying date representation.</p></td>\n",
        "</tr>\n",
        "<tr class=\"row-even\"><td><p><a class=\"reference internal\" href=\"api/polars.Series.dt.dst_offset.html#polars.Series.dt.dst_offset\" title=\"polars.Series.dt.dst_offset\"><code class=\"xref py py-obj docutils literal notranslate\"><span class=\"pre\">Series.dt.dst_offset</span></code></a>()</p></td>\n",
        "<td><p>Additional offset currently in effect (typically due to daylight saving time).</p></td>\n",
        "</tr>\n",
        "<tr class=\"row-odd\"><td><p><a class=\"reference internal\" href=\"api/polars.Series.dt.epoch.html#polars.Series.dt.epoch\" title=\"polars.Series.dt.epoch\"><code class=\"xref py py-obj docutils literal notranslate\"><span class=\"pre\">Series.dt.epoch</span></code></a>([time_unit])</p></td>\n",
        "<td><p>Get the time passed since the Unix EPOCH in the give time unit.</p></td>\n",
        "</tr>\n",
        "<tr class=\"row-even\"><td><p><a class=\"reference internal\" href=\"api/polars.Series.dt.hour.html#polars.Series.dt.hour\" title=\"polars.Series.dt.hour\"><code class=\"xref py py-obj docutils literal notranslate\"><span class=\"pre\">Series.dt.hour</span></code></a>()</p></td>\n",
        "<td><p>Extract the hour from the underlying DateTime representation.</p></td>\n",
        "</tr>\n",
        "<tr class=\"row-odd\"><td><p><a class=\"reference internal\" href=\"api/polars.Series.dt.is_leap_year.html#polars.Series.dt.is_leap_year\" title=\"polars.Series.dt.is_leap_year\"><code class=\"xref py py-obj docutils literal notranslate\"><span class=\"pre\">Series.dt.is_leap_year</span></code></a>()</p></td>\n",
        "<td><p>Determine whether the year of the underlying date representation is a leap year.</p></td>\n",
        "</tr>\n",
        "<tr class=\"row-even\"><td><p><a class=\"reference internal\" href=\"api/polars.Series.dt.iso_year.html#polars.Series.dt.iso_year\" title=\"polars.Series.dt.iso_year\"><code class=\"xref py py-obj docutils literal notranslate\"><span class=\"pre\">Series.dt.iso_year</span></code></a>()</p></td>\n",
        "<td><p>Extract ISO year from underlying Date representation.</p></td>\n",
        "</tr>\n",
        "<tr class=\"row-odd\"><td><p><a class=\"reference internal\" href=\"api/polars.Series.dt.max.html#polars.Series.dt.max\" title=\"polars.Series.dt.max\"><code class=\"xref py py-obj docutils literal notranslate\"><span class=\"pre\">Series.dt.max</span></code></a>()</p></td>\n",
        "<td><p>Return maximum as Python datetime.</p></td>\n",
        "</tr>\n",
        "<tr class=\"row-even\"><td><p><a class=\"reference internal\" href=\"api/polars.Series.dt.mean.html#polars.Series.dt.mean\" title=\"polars.Series.dt.mean\"><code class=\"xref py py-obj docutils literal notranslate\"><span class=\"pre\">Series.dt.mean</span></code></a>()</p></td>\n",
        "<td><p>Return mean as python DateTime.</p></td>\n",
        "</tr>\n",
        "<tr class=\"row-odd\"><td><p><a class=\"reference internal\" href=\"api/polars.Series.dt.median.html#polars.Series.dt.median\" title=\"polars.Series.dt.median\"><code class=\"xref py py-obj docutils literal notranslate\"><span class=\"pre\">Series.dt.median</span></code></a>()</p></td>\n",
        "<td><p>Return median as python DateTime.</p></td>\n",
        "</tr>\n",
        "<tr class=\"row-even\"><td><p><a class=\"reference internal\" href=\"api/polars.Series.dt.microsecond.html#polars.Series.dt.microsecond\" title=\"polars.Series.dt.microsecond\"><code class=\"xref py py-obj docutils literal notranslate\"><span class=\"pre\">Series.dt.microsecond</span></code></a>()</p></td>\n",
        "<td><p>Extract the microseconds from the underlying DateTime representation.</p></td>\n",
        "</tr>\n",
        "<tr class=\"row-odd\"><td><p><a class=\"reference internal\" href=\"api/polars.Series.dt.millennium.html#polars.Series.dt.millennium\" title=\"polars.Series.dt.millennium\"><code class=\"xref py py-obj docutils literal notranslate\"><span class=\"pre\">Series.dt.millennium</span></code></a>()</p></td>\n",
        "<td><p>Extract the millennium from underlying representation.</p></td>\n",
        "</tr>\n",
        "<tr class=\"row-even\"><td><p><a class=\"reference internal\" href=\"api/polars.Series.dt.millisecond.html#polars.Series.dt.millisecond\" title=\"polars.Series.dt.millisecond\"><code class=\"xref py py-obj docutils literal notranslate\"><span class=\"pre\">Series.dt.millisecond</span></code></a>()</p></td>\n",
        "<td><p>Extract the milliseconds from the underlying DateTime representation.</p></td>\n",
        "</tr>\n",
        "<tr class=\"row-odd\"><td><p><a class=\"reference internal\" href=\"api/polars.Series.dt.min.html#polars.Series.dt.min\" title=\"polars.Series.dt.min\"><code class=\"xref py py-obj docutils literal notranslate\"><span class=\"pre\">Series.dt.min</span></code></a>()</p></td>\n",
        "<td><p>Return minimum as Python datetime.</p></td>\n",
        "</tr>\n",
        "<tr class=\"row-even\"><td><p><a class=\"reference internal\" href=\"api/polars.Series.dt.minute.html#polars.Series.dt.minute\" title=\"polars.Series.dt.minute\"><code class=\"xref py py-obj docutils literal notranslate\"><span class=\"pre\">Series.dt.minute</span></code></a>()</p></td>\n",
        "<td><p>Extract the minutes from the underlying DateTime representation.</p></td>\n",
        "</tr>\n",
        "<tr class=\"row-odd\"><td><p><a class=\"reference internal\" href=\"api/polars.Series.dt.month.html#polars.Series.dt.month\" title=\"polars.Series.dt.month\"><code class=\"xref py py-obj docutils literal notranslate\"><span class=\"pre\">Series.dt.month</span></code></a>()</p></td>\n",
        "<td><p>Extract the month from the underlying date representation.</p></td>\n",
        "</tr>\n",
        "<tr class=\"row-even\"><td><p><a class=\"reference internal\" href=\"api/polars.Series.dt.month_end.html#polars.Series.dt.month_end\" title=\"polars.Series.dt.month_end\"><code class=\"xref py py-obj docutils literal notranslate\"><span class=\"pre\">Series.dt.month_end</span></code></a>()</p></td>\n",
        "<td><p>Roll forward to the last day of the month.</p></td>\n",
        "</tr>\n",
        "<tr class=\"row-odd\"><td><p><a class=\"reference internal\" href=\"api/polars.Series.dt.month_start.html#polars.Series.dt.month_start\" title=\"polars.Series.dt.month_start\"><code class=\"xref py py-obj docutils literal notranslate\"><span class=\"pre\">Series.dt.month_start</span></code></a>()</p></td>\n",
        "<td><p>Roll backward to the first day of the month.</p></td>\n",
        "</tr>\n",
        "<tr class=\"row-even\"><td><p><a class=\"reference internal\" href=\"api/polars.Series.dt.nanosecond.html#polars.Series.dt.nanosecond\" title=\"polars.Series.dt.nanosecond\"><code class=\"xref py py-obj docutils literal notranslate\"><span class=\"pre\">Series.dt.nanosecond</span></code></a>()</p></td>\n",
        "<td><p>Extract the nanoseconds from the underlying DateTime representation.</p></td>\n",
        "</tr>\n",
        "<tr class=\"row-odd\"><td><p><a class=\"reference internal\" href=\"api/polars.Series.dt.offset_by.html#polars.Series.dt.offset_by\" title=\"polars.Series.dt.offset_by\"><code class=\"xref py py-obj docutils literal notranslate\"><span class=\"pre\">Series.dt.offset_by</span></code></a>(by)</p></td>\n",
        "<td><p>Offset this date by a relative time offset.</p></td>\n",
        "</tr>\n",
        "<tr class=\"row-even\"><td><p><a class=\"reference internal\" href=\"api/polars.Series.dt.ordinal_day.html#polars.Series.dt.ordinal_day\" title=\"polars.Series.dt.ordinal_day\"><code class=\"xref py py-obj docutils literal notranslate\"><span class=\"pre\">Series.dt.ordinal_day</span></code></a>()</p></td>\n",
        "<td><p>Extract ordinal day from underlying date representation.</p></td>\n",
        "</tr>\n",
        "<tr class=\"row-odd\"><td><p><a class=\"reference internal\" href=\"api/polars.Series.dt.quarter.html#polars.Series.dt.quarter\" title=\"polars.Series.dt.quarter\"><code class=\"xref py py-obj docutils literal notranslate\"><span class=\"pre\">Series.dt.quarter</span></code></a>()</p></td>\n",
        "<td><p>Extract quarter from underlying Date representation.</p></td>\n",
        "</tr>\n",
        "<tr class=\"row-even\"><td><p><a class=\"reference internal\" href=\"api/polars.Series.dt.replace.html#polars.Series.dt.replace\" title=\"polars.Series.dt.replace\"><code class=\"xref py py-obj docutils literal notranslate\"><span class=\"pre\">Series.dt.replace</span></code></a>(*[,&nbsp;year,&nbsp;month,&nbsp;day,&nbsp;...])</p></td>\n",
        "<td><p>Replace time unit.</p></td>\n",
        "</tr>\n",
        "<tr class=\"row-odd\"><td><p><a class=\"reference internal\" href=\"api/polars.Series.dt.replace_time_zone.html#polars.Series.dt.replace_time_zone\" title=\"polars.Series.dt.replace_time_zone\"><code class=\"xref py py-obj docutils literal notranslate\"><span class=\"pre\">Series.dt.replace_time_zone</span></code></a>(time_zone,&nbsp;*[,&nbsp;...])</p></td>\n",
        "<td><p>Replace time zone for a Series of type Datetime.</p></td>\n",
        "</tr>\n",
        "<tr class=\"row-even\"><td><p><a class=\"reference internal\" href=\"api/polars.Series.dt.round.html#polars.Series.dt.round\" title=\"polars.Series.dt.round\"><code class=\"xref py py-obj docutils literal notranslate\"><span class=\"pre\">Series.dt.round</span></code></a>(every)</p></td>\n",
        "<td><p>Divide the date/ datetime range into buckets.</p></td>\n",
        "</tr>\n",
        "<tr class=\"row-odd\"><td><p><a class=\"reference internal\" href=\"api/polars.Series.dt.second.html#polars.Series.dt.second\" title=\"polars.Series.dt.second\"><code class=\"xref py py-obj docutils literal notranslate\"><span class=\"pre\">Series.dt.second</span></code></a>(*[,&nbsp;fractional])</p></td>\n",
        "<td><p>Extract seconds from underlying DateTime representation.</p></td>\n",
        "</tr>\n",
        "<tr class=\"row-even\"><td><p><a class=\"reference internal\" href=\"api/polars.Series.dt.strftime.html#polars.Series.dt.strftime\" title=\"polars.Series.dt.strftime\"><code class=\"xref py py-obj docutils literal notranslate\"><span class=\"pre\">Series.dt.strftime</span></code></a>(format)</p></td>\n",
        "<td><p>Convert a Date/Time/Datetime column into a String column with the given format.</p></td>\n",
        "</tr>\n",
        "<tr class=\"row-odd\"><td><p><a class=\"reference internal\" href=\"api/polars.Series.dt.time.html#polars.Series.dt.time\" title=\"polars.Series.dt.time\"><code class=\"xref py py-obj docutils literal notranslate\"><span class=\"pre\">Series.dt.time</span></code></a>()</p></td>\n",
        "<td><p>Extract (local) time.</p></td>\n",
        "</tr>\n",
        "<tr class=\"row-even\"><td><p><a class=\"reference internal\" href=\"api/polars.Series.dt.timestamp.html#polars.Series.dt.timestamp\" title=\"polars.Series.dt.timestamp\"><code class=\"xref py py-obj docutils literal notranslate\"><span class=\"pre\">Series.dt.timestamp</span></code></a>([time_unit])</p></td>\n",
        "<td><p>Return a timestamp in the given time unit.</p></td>\n",
        "</tr>\n",
        "<tr class=\"row-odd\"><td><p><a class=\"reference internal\" href=\"api/polars.Series.dt.to_string.html#polars.Series.dt.to_string\" title=\"polars.Series.dt.to_string\"><code class=\"xref py py-obj docutils literal notranslate\"><span class=\"pre\">Series.dt.to_string</span></code></a>([format])</p></td>\n",
        "<td><p>Convert a Date/Time/Datetime column into a String column with the given format.</p></td>\n",
        "</tr>\n",
        "<tr class=\"row-even\"><td><p><a class=\"reference internal\" href=\"api/polars.Series.dt.total_days.html#polars.Series.dt.total_days\" title=\"polars.Series.dt.total_days\"><code class=\"xref py py-obj docutils literal notranslate\"><span class=\"pre\">Series.dt.total_days</span></code></a>()</p></td>\n",
        "<td><p>Extract the total days from a Duration type.</p></td>\n",
        "</tr>\n",
        "<tr class=\"row-odd\"><td><p><a class=\"reference internal\" href=\"api/polars.Series.dt.total_hours.html#polars.Series.dt.total_hours\" title=\"polars.Series.dt.total_hours\"><code class=\"xref py py-obj docutils literal notranslate\"><span class=\"pre\">Series.dt.total_hours</span></code></a>()</p></td>\n",
        "<td><p>Extract the total hours from a Duration type.</p></td>\n",
        "</tr>\n",
        "<tr class=\"row-even\"><td><p><a class=\"reference internal\" href=\"api/polars.Series.dt.total_microseconds.html#polars.Series.dt.total_microseconds\" title=\"polars.Series.dt.total_microseconds\"><code class=\"xref py py-obj docutils literal notranslate\"><span class=\"pre\">Series.dt.total_microseconds</span></code></a>()</p></td>\n",
        "<td><p>Extract the total microseconds from a Duration type.</p></td>\n",
        "</tr>\n",
        "<tr class=\"row-odd\"><td><p><a class=\"reference internal\" href=\"api/polars.Series.dt.total_milliseconds.html#polars.Series.dt.total_milliseconds\" title=\"polars.Series.dt.total_milliseconds\"><code class=\"xref py py-obj docutils literal notranslate\"><span class=\"pre\">Series.dt.total_milliseconds</span></code></a>()</p></td>\n",
        "<td><p>Extract the total milliseconds from a Duration type.</p></td>\n",
        "</tr>\n",
        "<tr class=\"row-even\"><td><p><a class=\"reference internal\" href=\"api/polars.Series.dt.total_minutes.html#polars.Series.dt.total_minutes\" title=\"polars.Series.dt.total_minutes\"><code class=\"xref py py-obj docutils literal notranslate\"><span class=\"pre\">Series.dt.total_minutes</span></code></a>()</p></td>\n",
        "<td><p>Extract the total minutes from a Duration type.</p></td>\n",
        "</tr>\n",
        "<tr class=\"row-odd\"><td><p><a class=\"reference internal\" href=\"api/polars.Series.dt.total_nanoseconds.html#polars.Series.dt.total_nanoseconds\" title=\"polars.Series.dt.total_nanoseconds\"><code class=\"xref py py-obj docutils literal notranslate\"><span class=\"pre\">Series.dt.total_nanoseconds</span></code></a>()</p></td>\n",
        "<td><p>Extract the total nanoseconds from a Duration type.</p></td>\n",
        "</tr>\n",
        "<tr class=\"row-even\"><td><p><a class=\"reference internal\" href=\"api/polars.Series.dt.total_seconds.html#polars.Series.dt.total_seconds\" title=\"polars.Series.dt.total_seconds\"><code class=\"xref py py-obj docutils literal notranslate\"><span class=\"pre\">Series.dt.total_seconds</span></code></a>()</p></td>\n",
        "<td><p>Extract the total seconds from a Duration type.</p></td>\n",
        "</tr>\n",
        "<tr class=\"row-odd\"><td><p><a class=\"reference internal\" href=\"api/polars.Series.dt.truncate.html#polars.Series.dt.truncate\" title=\"polars.Series.dt.truncate\"><code class=\"xref py py-obj docutils literal notranslate\"><span class=\"pre\">Series.dt.truncate</span></code></a>(every)</p></td>\n",
        "<td><p>Divide the date/ datetime range into buckets.</p></td>\n",
        "</tr>\n",
        "<tr class=\"row-even\"><td><p><a class=\"reference internal\" href=\"api/polars.Series.dt.week.html#polars.Series.dt.week\" title=\"polars.Series.dt.week\"><code class=\"xref py py-obj docutils literal notranslate\"><span class=\"pre\">Series.dt.week</span></code></a>()</p></td>\n",
        "<td><p>Extract the week from the underlying date representation.</p></td>\n",
        "</tr>\n",
        "<tr class=\"row-odd\"><td><p><a class=\"reference internal\" href=\"api/polars.Series.dt.weekday.html#polars.Series.dt.weekday\" title=\"polars.Series.dt.weekday\"><code class=\"xref py py-obj docutils literal notranslate\"><span class=\"pre\">Series.dt.weekday</span></code></a>()</p></td>\n",
        "<td><p>Extract the week day from the underlying date representation.</p></td>\n",
        "</tr>\n",
        "<tr class=\"row-even\"><td><p><a class=\"reference internal\" href=\"api/polars.Series.dt.with_time_unit.html#polars.Series.dt.with_time_unit\" title=\"polars.Series.dt.with_time_unit\"><code class=\"xref py py-obj docutils literal notranslate\"><span class=\"pre\">Series.dt.with_time_unit</span></code></a>(time_unit)</p></td>\n",
        "<td><p>Set time unit a Series of dtype Datetime or Duration.</p></td>\n",
        "</tr>\n",
        "<tr class=\"row-odd\"><td><p><a class=\"reference internal\" href=\"api/polars.Series.dt.year.html#polars.Series.dt.year\" title=\"polars.Series.dt.year\"><code class=\"xref py py-obj docutils literal notranslate\"><span class=\"pre\">Series.dt.year</span></code></a>()</p></td>\n",
        "<td><p>Extract the year from the underlying date representation.</p></td>\n",
        "</tr>\n",
        "</tbody>\n",
        "</table>\n"
      ],
      "metadata": {
        "id": "R7HOlawmxAEv"
      }
    },
    {
      "cell_type": "code",
      "source": [],
      "metadata": {
        "id": "ADObjt5oxFx3"
      },
      "execution_count": null,
      "outputs": []
    },
    {
      "cell_type": "markdown",
      "source": [
        "[reference](https://docs.pola.rs/api/python/stable/reference/sql/clauses.html)\n",
        "\n",
        "```python\n",
        "df1 = pl.DataFrame(\n",
        "  {\n",
        "    \"foo\": [1, 2, 3],\n",
        "    \"ham\": [\"a\", \"b\", \"c\"],\n",
        "  }\n",
        ")\n",
        "df2 = pl.DataFrame(\n",
        "  {\n",
        "    \"apple\": [\"x\", \"y\", \"z\"],\n",
        "    \"ham\": [\"a\", \"b\", \"d\"],\n",
        "  }\n",
        ")\n",
        "pl.sql(\"\"\"\n",
        "        SELECT foo, apple, COALESCE(df1.ham, df2.ham) AS ham\n",
        "        FROM df1 FULL JOIN df2\n",
        "        USING (ham)\n",
        "\"\"\").collect()\n",
        "```"
      ],
      "metadata": {
        "id": "k3JqlrM9qF6T"
      }
    },
    {
      "cell_type": "markdown",
      "source": [
        "### SQL read possibilities\n",
        "\n",
        "https://docs.pola.rs/user-guide/io/database/#difference-between-read_database_uri-and-read_database"
      ],
      "metadata": {
        "id": "keXKZhPwseoL"
      }
    },
    {
      "cell_type": "code",
      "source": [
        "%who"
      ],
      "metadata": {
        "colab": {
          "base_uri": "https://localhost:8080/"
        },
        "id": "miGHW-YEqeIJ",
        "outputId": "26949467-d5c5-462b-9ee1-cdccbc4f5f40"
      },
      "execution_count": null,
      "outputs": [
        {
          "output_type": "stream",
          "name": "stdout",
          "text": [
            "cols\t drive\t my_list\t np\t pd\t pl\t \n"
          ]
        }
      ]
    },
    {
      "cell_type": "code",
      "source": [
        "%whos"
      ],
      "metadata": {
        "colab": {
          "base_uri": "https://localhost:8080/"
        },
        "id": "dBeQpnSispS6",
        "outputId": "8363d3c8-7ecb-400d-cf53-bd1a1cf77000"
      },
      "execution_count": null,
      "outputs": [
        {
          "output_type": "stream",
          "name": "stdout",
          "text": [
            "Variable   Type      Data/Info\n",
            "------------------------------\n",
            "cols       list      n=4\n",
            "drive      module    <module 'google.colab.dri<...>s/google/colab/drive.py'>\n",
            "my_list    list      n=1000000\n",
            "np         module    <module 'numpy' from '/us<...>kages/numpy/__init__.py'>\n",
            "pd         module    <module 'pandas' from '/u<...>ages/pandas/__init__.py'>\n",
            "pl         module    <module 'polars' from '/u<...>ages/polars/__init__.py'>\n"
          ]
        }
      ]
    },
    {
      "cell_type": "code",
      "source": [
        "df.head()"
      ],
      "metadata": {
        "colab": {
          "base_uri": "https://localhost:8080/",
          "height": 143
        },
        "id": "VzkPHsf4srrv",
        "outputId": "9aa3d0ac-8a40-4461-ef21-08667d753c0f"
      },
      "execution_count": null,
      "outputs": [
        {
          "output_type": "error",
          "ename": "NameError",
          "evalue": "name 'df' is not defined",
          "traceback": [
            "\u001b[0;31m---------------------------------------------------------------------------\u001b[0m",
            "\u001b[0;31mNameError\u001b[0m                                 Traceback (most recent call last)",
            "\u001b[0;32m<ipython-input-21-c42a15b2c7cf>\u001b[0m in \u001b[0;36m<cell line: 0>\u001b[0;34m()\u001b[0m\n\u001b[0;32m----> 1\u001b[0;31m \u001b[0mdf\u001b[0m\u001b[0;34m.\u001b[0m\u001b[0mhead\u001b[0m\u001b[0;34m(\u001b[0m\u001b[0;34m)\u001b[0m\u001b[0;34m\u001b[0m\u001b[0;34m\u001b[0m\u001b[0m\n\u001b[0m",
            "\u001b[0;31mNameError\u001b[0m: name 'df' is not defined"
          ]
        }
      ]
    },
    {
      "cell_type": "code",
      "source": [
        "df = pl.DataFrame()"
      ],
      "metadata": {
        "id": "-jkgGT_rsvde"
      },
      "execution_count": null,
      "outputs": []
    },
    {
      "cell_type": "code",
      "source": [
        "type(df)"
      ],
      "metadata": {
        "colab": {
          "base_uri": "https://localhost:8080/",
          "height": 220
        },
        "id": "144xCfdbs0_G",
        "outputId": "f9a443d9-c1dd-44dd-f380-b122f9919b89"
      },
      "execution_count": null,
      "outputs": [
        {
          "output_type": "execute_result",
          "data": {
            "text/plain": [
              "polars.dataframe.frame.DataFrame"
            ],
            "text/html": [
              "<div style=\"max-width:800px; border: 1px solid var(--colab-border-color);\"><style>\n",
              "      pre.function-repr-contents {\n",
              "        overflow-x: auto;\n",
              "        padding: 8px 12px;\n",
              "        max-height: 500px;\n",
              "      }\n",
              "\n",
              "      pre.function-repr-contents.function-repr-contents-collapsed {\n",
              "        cursor: pointer;\n",
              "        max-height: 100px;\n",
              "      }\n",
              "    </style>\n",
              "    <pre style=\"white-space: initial; background:\n",
              "         var(--colab-secondary-surface-color); padding: 8px 12px;\n",
              "         border-bottom: 1px solid var(--colab-border-color);\"><b>polars.dataframe.frame.DataFrame</b><br/>def __init__(data: FrameInitTypes | None=None, schema: SchemaDefinition | None=None, *, schema_overrides: SchemaDict | None=None, strict: bool=True, orient: Orientation | None=None, infer_schema_length: int | None=N_INFER_DEFAULT, nan_to_null: bool=False) -&gt; None</pre><pre class=\"function-repr-contents function-repr-contents-collapsed\" style=\"\"><a class=\"filepath\" style=\"display:none\" href=\"#\">/usr/local/lib/python3.11/dist-packages/polars/dataframe/frame.py</a>Two-dimensional data structure representing data as a table with rows and columns.\n",
              "\n",
              "Parameters\n",
              "----------\n",
              "data : dict, Sequence, ndarray, Series, or pandas.DataFrame\n",
              "    Two-dimensional data in various forms; dict input must contain Sequences,\n",
              "    Generators, or a `range`. Sequence may contain Series or other Sequences.\n",
              "schema : Sequence of str, (str,DataType) pairs, or a {str:DataType,} dict\n",
              "    The schema of the resulting DataFrame. The schema may be declared in several\n",
              "    ways:\n",
              "\n",
              "    * As a dict of {name:type} pairs; if type is None, it will be auto-inferred.\n",
              "    * As a list of column names; in this case types are automatically inferred.\n",
              "    * As a list of (name,type) pairs; this is equivalent to the dictionary form.\n",
              "\n",
              "    If you supply a list of column names that does not match the names in the\n",
              "    underlying data, the names given here will overwrite them. The number\n",
              "    of names given in the schema should match the underlying data dimensions.\n",
              "\n",
              "    If set to `None` (default), the schema is inferred from the data.\n",
              "schema_overrides : dict, default None\n",
              "    Support type specification or override of one or more columns; note that\n",
              "    any dtypes inferred from the schema param will be overridden.\n",
              "\n",
              "    The number of entries in the schema should match the underlying data\n",
              "    dimensions, unless a sequence of dictionaries is being passed, in which case\n",
              "    a *partial* schema can be declared to prevent specific fields from being loaded.\n",
              "strict : bool, default True\n",
              "    Throw an error if any `data` value does not exactly match the given or inferred\n",
              "    data type for that column. If set to `False`, values that do not match the data\n",
              "    type are cast to that data type or, if casting is not possible, set to null\n",
              "    instead.\n",
              "orient : {&#x27;col&#x27;, &#x27;row&#x27;}, default None\n",
              "    Whether to interpret two-dimensional data as columns or as rows. If None,\n",
              "    the orientation is inferred by matching the columns and data dimensions. If\n",
              "    this does not yield conclusive results, column orientation is used.\n",
              "infer_schema_length : int or None\n",
              "    The maximum number of rows to scan for schema inference. If set to `None`, the\n",
              "    full data may be scanned *(this can be slow)*. This parameter only applies if\n",
              "    the input data is a sequence or generator of rows; other input is read as-is.\n",
              "nan_to_null : bool, default False\n",
              "    If the data comes from one or more numpy arrays, can optionally convert input\n",
              "    data np.nan values to null instead. This is a no-op for all other input data.\n",
              "\n",
              "Notes\n",
              "-----\n",
              "Polars explicitly does not support subclassing of its core data types. See\n",
              "the following GitHub issue for possible workarounds:\n",
              "https://github.com/pola-rs/polars/issues/2846#issuecomment-1711799869\n",
              "\n",
              "Examples\n",
              "--------\n",
              "Constructing a DataFrame from a dictionary:\n",
              "\n",
              "&gt;&gt;&gt; data = {&quot;a&quot;: [1, 2], &quot;b&quot;: [3, 4]}\n",
              "&gt;&gt;&gt; df = pl.DataFrame(data)\n",
              "&gt;&gt;&gt; df\n",
              "shape: (2, 2)\n",
              "┌─────┬─────┐\n",
              "│ a   ┆ b   │\n",
              "│ --- ┆ --- │\n",
              "│ i64 ┆ i64 │\n",
              "╞═════╪═════╡\n",
              "│ 1   ┆ 3   │\n",
              "│ 2   ┆ 4   │\n",
              "└─────┴─────┘\n",
              "\n",
              "Notice that the dtypes are automatically inferred as polars Int64:\n",
              "\n",
              "&gt;&gt;&gt; df.dtypes\n",
              "[Int64, Int64]\n",
              "\n",
              "To specify a more detailed/specific frame schema you can supply the `schema`\n",
              "parameter with a dictionary of (name,dtype) pairs...\n",
              "\n",
              "&gt;&gt;&gt; data = {&quot;col1&quot;: [0, 2], &quot;col2&quot;: [3, 7]}\n",
              "&gt;&gt;&gt; df2 = pl.DataFrame(data, schema={&quot;col1&quot;: pl.Float32, &quot;col2&quot;: pl.Int64})\n",
              "&gt;&gt;&gt; df2\n",
              "shape: (2, 2)\n",
              "┌──────┬──────┐\n",
              "│ col1 ┆ col2 │\n",
              "│ ---  ┆ ---  │\n",
              "│ f32  ┆ i64  │\n",
              "╞══════╪══════╡\n",
              "│ 0.0  ┆ 3    │\n",
              "│ 2.0  ┆ 7    │\n",
              "└──────┴──────┘\n",
              "\n",
              "...a sequence of (name,dtype) pairs...\n",
              "\n",
              "&gt;&gt;&gt; data = {&quot;col1&quot;: [1, 2], &quot;col2&quot;: [3, 4]}\n",
              "&gt;&gt;&gt; df3 = pl.DataFrame(data, schema=[(&quot;col1&quot;, pl.Float32), (&quot;col2&quot;, pl.Int64)])\n",
              "&gt;&gt;&gt; df3\n",
              "shape: (2, 2)\n",
              "┌──────┬──────┐\n",
              "│ col1 ┆ col2 │\n",
              "│ ---  ┆ ---  │\n",
              "│ f32  ┆ i64  │\n",
              "╞══════╪══════╡\n",
              "│ 1.0  ┆ 3    │\n",
              "│ 2.0  ┆ 4    │\n",
              "└──────┴──────┘\n",
              "\n",
              "...or a list of typed Series.\n",
              "\n",
              "&gt;&gt;&gt; data = [\n",
              "...     pl.Series(&quot;col1&quot;, [1, 2], dtype=pl.Float32),\n",
              "...     pl.Series(&quot;col2&quot;, [3, 4], dtype=pl.Int64),\n",
              "... ]\n",
              "&gt;&gt;&gt; df4 = pl.DataFrame(data)\n",
              "&gt;&gt;&gt; df4\n",
              "shape: (2, 2)\n",
              "┌──────┬──────┐\n",
              "│ col1 ┆ col2 │\n",
              "│ ---  ┆ ---  │\n",
              "│ f32  ┆ i64  │\n",
              "╞══════╪══════╡\n",
              "│ 1.0  ┆ 3    │\n",
              "│ 2.0  ┆ 4    │\n",
              "└──────┴──────┘\n",
              "\n",
              "Constructing a DataFrame from a numpy ndarray, specifying column names:\n",
              "\n",
              "&gt;&gt;&gt; import numpy as np\n",
              "&gt;&gt;&gt; data = np.array([(1, 2), (3, 4)], dtype=np.int64)\n",
              "&gt;&gt;&gt; df5 = pl.DataFrame(data, schema=[&quot;a&quot;, &quot;b&quot;], orient=&quot;col&quot;)\n",
              "&gt;&gt;&gt; df5\n",
              "shape: (2, 2)\n",
              "┌─────┬─────┐\n",
              "│ a   ┆ b   │\n",
              "│ --- ┆ --- │\n",
              "│ i64 ┆ i64 │\n",
              "╞═════╪═════╡\n",
              "│ 1   ┆ 3   │\n",
              "│ 2   ┆ 4   │\n",
              "└─────┴─────┘\n",
              "\n",
              "Constructing a DataFrame from a list of lists, row orientation specified:\n",
              "\n",
              "&gt;&gt;&gt; data = [[1, 2, 3], [4, 5, 6]]\n",
              "&gt;&gt;&gt; df6 = pl.DataFrame(data, schema=[&quot;a&quot;, &quot;b&quot;, &quot;c&quot;], orient=&quot;row&quot;)\n",
              "&gt;&gt;&gt; df6\n",
              "shape: (2, 3)\n",
              "┌─────┬─────┬─────┐\n",
              "│ a   ┆ b   ┆ c   │\n",
              "│ --- ┆ --- ┆ --- │\n",
              "│ i64 ┆ i64 ┆ i64 │\n",
              "╞═════╪═════╪═════╡\n",
              "│ 1   ┆ 2   ┆ 3   │\n",
              "│ 4   ┆ 5   ┆ 6   │\n",
              "└─────┴─────┴─────┘</pre>\n",
              "      <script>\n",
              "      if (google.colab.kernel.accessAllowed && google.colab.files && google.colab.files.view) {\n",
              "        for (const element of document.querySelectorAll('.filepath')) {\n",
              "          element.style.display = 'block'\n",
              "          element.onclick = (event) => {\n",
              "            event.preventDefault();\n",
              "            event.stopPropagation();\n",
              "            google.colab.files.view(element.textContent, 193);\n",
              "          };\n",
              "        }\n",
              "      }\n",
              "      for (const element of document.querySelectorAll('.function-repr-contents')) {\n",
              "        element.onclick = (event) => {\n",
              "          event.preventDefault();\n",
              "          event.stopPropagation();\n",
              "          element.classList.toggle('function-repr-contents-collapsed');\n",
              "        };\n",
              "      }\n",
              "      </script>\n",
              "      </div>"
            ]
          },
          "metadata": {},
          "execution_count": 23
        }
      ]
    },
    {
      "cell_type": "code",
      "source": [
        "df.r*?"
      ],
      "metadata": {
        "id": "cixXoNP_s3vh"
      },
      "execution_count": null,
      "outputs": []
    },
    {
      "cell_type": "code",
      "source": [],
      "metadata": {
        "id": "Qh1s_UZ0tCf_"
      },
      "execution_count": null,
      "outputs": []
    },
    {
      "cell_type": "markdown",
      "source": [
        "### duckdb; **Opensource SQL DB and query engine**\n",
        "\n",
        "  - duckdb as SQL DB $\\to$ not this course concern\n",
        "  - [duckdb as query engine](https://duckdb.org/why_duckdb)\n",
        "\n",
        "### [Standing on the Shoulders of Giants](https://duckdb.org/why_duckdb#standing-on-the-shoulders-of-giants)\n",
        "\n",
        "> DuckDB uses some components from various open-source projects and draws inspiration from scientific publications. We are very grateful for this. Here is an overview:\n",
        "\n",
        "<ul>\n",
        "  <li><strong>Execution engine:</strong> The vectorized execution engine is inspired by the paper <a href=\"http://cidrdb.org/cidr2005/papers/P19.pdf\" class=\"externallink\" target=\"_blank\">MonetDB/X100: Hyper-Pipelining Query Execution</a> by Peter Boncz, Marcin Zukowski and Niels Nes. MonetDB/X100 later became the <a href=\"https://ir.cwi.nl/pub/19958/19958B.pdf\" class=\"externallink\" target=\"_blank\">Vectorwise (Actian Vector) database system</a>.</li>\n",
        "  <li><strong>Optimizer:</strong> DuckDB's optimizer draws inspiration from the papers <a href=\"https://15721.courses.cs.cmu.edu/spring2020/papers/20-optimizer2/p539-moerkotte.pdf\" class=\"externallink\" target=\"_blank\">Dynamic programming strikes back</a> by Guido Moerkotte and Thomas Neumann as well as <a href=\"http://www.btw-2015.de/res/proceedings/Hauptband/Wiss/Neumann-Unnesting_Arbitrary_Querie.pdf\" class=\"externallink\" target=\"_blank\">Unnesting Arbitrary Queries</a> by Thomas Neumann and Alfons Kemper.</li>\n",
        "  <li><strong>Concurrency control:</strong> Our MVCC implementation is inspired by the paper <a href=\"https://db.in.tum.de/~muehlbau/papers/mvcc.pdf\" class=\"externallink\" target=\"_blank\">Fast Serializable Multi-Version Concurrency Control for Main-Memory Database Systems</a> by Thomas Neumann, Tobias Mühlbauer and Alfons Kemper.</li>\n",
        "  <li><strong>Secondary indexes:</strong> DuckDB has support for secondary indexes based on the paper <a href=\"https://db.in.tum.de/~leis/papers/ART.pdf\" class=\"externallink\" target=\"_blank\">The Adaptive Radix Tree: ARTful Indexing for Main-Memory Databases</a> by Viktor Leis, Alfons Kemper and Thomas Neumann.</li>\n",
        "  <li><strong>SQL window functions:</strong> DuckDB's window functions implementation uses Segment Tree Aggregation as described in the paper <a href=\"https://www.vldb.org/pvldb/vol8/p1058-leis.pdf\" class=\"externallink\" target=\"_blank\">Efficient Processing of Window Functions in Analytical SQL Queries</a> by Viktor Leis, Kan Kundhikanjana, Alfons Kemper and Thomas Neumann.</li>\n",
        "  <li><strong>SQL inequality joins:</strong> DuckDB's inequality join implementation uses the IEJoin algorithm as described in the paper <a href=\"https://vldb.org/pvldb/vol8/p2074-khayyat.pdf\" class=\"externallink\" target=\"_blank\">Lightning Fast and Space Efficient Inequality Joins</a>\n",
        "Zuhair Khayyat, William Lucia, Meghna Singh, Mourad Ouzzani, Paolo Papotti, Jorge-Arnulfo Quiané-Ruiz, Nan Tang and Panos Kalnis.</li>\n",
        "  <li><strong>Compression of floating-point values:</strong> DuckDB supports the multiple algorithms for compressing floating-point values:\n",
        "    <ul>\n",
        "      <li><a href=\"https://vldb.org/pvldb/vol15/p3058-liakos.pdf\" class=\"externallink\" target=\"_blank\">Chimp</a> by Panagiotis Liakos, Katia Papakonstantinopoulou and Yannis Kotidi</li>\n",
        "      <li><a href=\"https://github.com/duckdb/duckdb/pull/5044\" class=\"externallink\" target=\"_blank\">Patas</a>, an in-house development</li>\n",
        "      <li><a href=\"https://dl.acm.org/doi/pdf/10.1145/3626717\" class=\"externallink\" target=\"_blank\">ALP (adaptive lossless floating-point compression)</a> by Azim Afroozeh, Leonard Kuffo and Peter Boncz, who also <a href=\"https://github.com/duckdb/duckdb/pull/9635\" class=\"externallink\" target=\"_blank\">contributed their implementation</a></li>\n",
        "    </ul>\n",
        "  </li>\n",
        "  <li><strong>SQL Parser:</strong> We use the PostgreSQL parser that was <a href=\"https://github.com/lfittl/libpg_query\" class=\"externallink\" target=\"_blank\">repackaged as a stand-alone library</a>. The translation to our own parse tree is inspired by <a href=\"https://pelotondb.io\" class=\"externallink\" target=\"_blank\">Peloton</a>.</li>\n",
        "  <li><strong>Shell:</strong> We use the <a href=\"https://sqlite.org/cli.html\" class=\"externallink\" target=\"_blank\">SQLite shell</a> to work with DuckDB.</li>\n",
        "  <li><strong>Regular expressions:</strong> DuckDB uses Google's <a href=\"https://github.com/google/re2\" class=\"externallink\" target=\"_blank\">RE2</a> regular expression engine.</li>\n",
        "  <li><strong>String formatting:</strong> DuckDB uses the <a href=\"https://github.com/fmtlib/fmt\" class=\"externallink\" target=\"_blank\">fmt</a> string formatting library.</li>\n",
        "  <li><strong>UTF wrangling:</strong> DuckDB uses the <a href=\"https://juliastrings.github.io/utf8proc/\" class=\"externallink\" target=\"_blank\">utf8proc</a> library to check and normalize UTF8.</li>\n",
        "  <li><strong>Collation and time:</strong> DuckDB uses the <a href=\"https://unicode-org.github.io/icu/\" class=\"externallink\" target=\"_blank\">ICU</a> library for collation, time zone, and calendar support.</li>\n",
        "  <li><strong>Test framework:</strong> DuckDB uses the <a href=\"https://github.com/catchorg/Catch2\" class=\"externallink\" target=\"_blank\">Catch2</a> unit test framework.</li>\n",
        "  <li><strong>Test cases:</strong> We use the <a href=\"https://www.sqlite.org/sqllogictest/doc/trunk/about.wiki\" class=\"externallink\" target=\"_blank\">SQL Logic Tests from SQLite</a> to test DuckDB.</li>\n",
        "  <li><strong>Result validation:</strong> <a href=\"https://www.manuelrigger.at\" class=\"externallink\" target=\"_blank\">Manuel Rigger</a> used his excellent <a href=\"https://github.com/sqlancer/sqlancer\" class=\"externallink\" target=\"_blank\">SQLancer</a> tool to verify DuckDB result correctness.</li>\n",
        "  <li><strong>Query fuzzing:</strong> We use <a href=\"https://github.com/anse1/sqlsmith\" class=\"externallink\" target=\"_blank\">SQLsmith</a> via the <a href=\"/docs/stable/core_extensions/sqlsmith.html\"><code class=\"language-plaintext highlighter-rouge\">sqlsmith</code> extension</a> to generate random queries for additional testing.</li>\n",
        "  <li><strong>JSON parser:</strong> We use <a href=\"https://github.com/ibireme/yyjson\" class=\"externallink\" target=\"_blank\">yyjson</a>, a high performance JSON library written in ANSI C, to parse JSON in DuckDB's <a href=\"/docs/stable/data/json/overview.html\">JSON Extension</a>.</li>\n",
        "</ul>"
      ],
      "metadata": {
        "id": "7hCCMZw6ZAwH"
      }
    },
    {
      "cell_type": "markdown",
      "source": [
        "```python\n",
        "import duckdb\n",
        "\n",
        "duckdb.read_csv(\"example.csv\")                # read a CSV file into a Relation\n",
        "duckdb.read_parquet(\"example.parquet\")        # read a Parquet file into a Relation\n",
        "duckdb.read_json(\"example.json\")              # read a JSON file into a Relation\n",
        "\n",
        "duckdb.sql(\"SELECT * FROM 'example.csv'\")     # directly query a CSV file\n",
        "duckdb.sql(\"SELECT * FROM 'example.parquet'\") # directly query a Parquet file\n",
        "duckdb.sql(\"SELECT * FROM 'example.json'\")    # directly query a JSON file\n",
        "```"
      ],
      "metadata": {
        "id": "WO42HsNGuCvu"
      }
    },
    {
      "cell_type": "markdown",
      "source": [
        "```python\n",
        "duckdb.sql(\"SELECT ------ FROM table WHERE c1> 10 and c2< 12\").fetchall()   # Python objects\n",
        "duckdb.sql(\"SELECT ------ FROM table WHERE c1> 10 and c2< 12\").df()         # Pandas DataFrame\n",
        "duckdb.sql(\"SELECT ------ FROM table WHERE c1> 10 and c2< 12\").pl()         # Polars DataFrame\n",
        "duckdb.sql(\"SELECT ------ FROM table WHERE c1> 10 and c2< 12\").arrow()      # Arrow Table\n",
        "duckdb.sql(\"SELECT ------ FROM table WHERE c1> 10 and c2< 12\").fetchnumpy() # NumPy Arrays\n",
        "```"
      ],
      "metadata": {
        "id": "h4Q-KU8BCp9e"
      }
    },
    {
      "cell_type": "markdown",
      "source": [
        "## narwhals module\n",
        "\n",
        "- `dataframe agnostic` data aggregation and transformation modules\n",
        "- [Github link](https://github.com/narwhals-dev/narwhals)"
      ],
      "metadata": {
        "id": "YBfLtMrczldv"
      }
    },
    {
      "cell_type": "markdown",
      "source": [
        "## cheatsheets on `polars`\n",
        "- [Franz Diebold polars-cheat-sheet](https://colab.research.google.com/github/FranzDiebold/polars-cheat-sheet/blob/main/polars-cheat-sheet.ipynb)\n",
        "\n",
        "- [rhosignal polars-pandas-cheatsheet](https://www.rhosignal.com/posts/polars-pandas-cheatsheet/)\n",
        "- [bitsnaps polars-cheat-sheet](https://gist.github.com/bitsnaps/aa83219c4ffdd04e56b76bb23523bfb2)\n"
      ],
      "metadata": {
        "id": "K9-SO_AkOdc2"
      }
    }
  ]
}